{
 "cells": [
  {
   "cell_type": "markdown",
   "metadata": {},
   "source": [
    "# Blending Problem\n",
    "## Importing Modules\n",
    "The `gamspy` Python package is loaded in order to access GAMSPy syntax."
   ]
  },
  {
   "cell_type": "code",
   "execution_count": null,
   "metadata": {},
   "outputs": [],
   "source": [
    "# Install dependencies\n",
    "! pip install -q gamspy"
   ]
  },
  {
   "cell_type": "code",
   "execution_count": null,
   "metadata": {},
   "outputs": [],
   "source": [
    "from gamspy import Container, Set, Parameter, Variable, Equation, Model, Sum, Sense\n",
    "import numpy as np"
   ]
  },
  {
   "cell_type": "markdown",
   "metadata": {},
   "source": [
    "## Data"
   ]
  },
  {
   "cell_type": "code",
   "execution_count": null,
   "metadata": {},
   "outputs": [],
   "source": [
    "m = Container()\n",
    "\n",
    "# Set\n",
    "alloy = Set(\n",
    "    container=m, name=\"alloy\", records=[\"a\", \"b\", \"c\", \"d\", \"e\", \"f\", \"g\", \"h\", \"i\"]\n",
    ")\n",
    "elem = Set(container=m, name=\"elem\", records=[\"lead\", \"zinc\", \"tin\"])\n",
    "\n",
    "# Data\n",
    "compdat = Parameter(\n",
    "    container=m,\n",
    "    name=\"compdat\",\n",
    "    domain=[elem, alloy],\n",
    "    records=np.array(\n",
    "        [\n",
    "            [10, 10, 40, 60, 30, 30, 30, 50, 20],\n",
    "            [10, 30, 50, 30, 30, 40, 20, 40, 30],\n",
    "            [80, 60, 10, 10, 40, 30, 50, 10, 50],\n",
    "        ]\n",
    "    ),\n",
    ")\n",
    "price = Parameter(\n",
    "    container=m,\n",
    "    name=\"price\",\n",
    "    domain=alloy,\n",
    "    records=np.array([4.1, 4.3, 5.8, 6.0, 7.6, 7.5, 7.3, 6.9, 7.3]),\n",
    ")\n",
    "rb = Parameter(container=m, name=\"rb\", domain=elem, records=np.array([30, 30, 40]))\n",
    "\n",
    "# Variable\n",
    "v = Variable(container=m, name=\"v\", domain=alloy, type=\"Positive\")"
   ]
  },
  {
   "cell_type": "markdown",
   "metadata": {},
   "source": [
    "## Model"
   ]
  },
  {
   "cell_type": "code",
   "execution_count": null,
   "metadata": {},
   "outputs": [],
   "source": [
    "pc = Equation(container=m, name=\"pc\", domain=elem)\n",
    "mb = Equation(container=m, name=\"mb\")\n",
    "\n",
    "pc[elem] = Sum(alloy, compdat[elem, alloy] * v[alloy]) == rb[elem]\n",
    "mb[...] = Sum(alloy, v[alloy]) == 1"
   ]
  },
  {
   "cell_type": "code",
   "execution_count": null,
   "metadata": {},
   "outputs": [],
   "source": [
    "b1 = Model(\n",
    "    container=m,\n",
    "    name=\"b1\",\n",
    "    equations=[pc],\n",
    "    problem=\"LP\",\n",
    "    sense=Sense.MIN,\n",
    "    objective=Sum(alloy, price[alloy] * v[alloy]),\n",
    ")"
   ]
  },
  {
   "cell_type": "code",
   "execution_count": null,
   "metadata": {},
   "outputs": [],
   "source": [
    "b2 = Model(\n",
    "    container=m,\n",
    "    name=\"b2\",\n",
    "    equations=[pc, mb],\n",
    "    problem=\"LP\",\n",
    "    sense=Sense.MIN,\n",
    "    objective=Sum(alloy, price[alloy] * v[alloy]),\n",
    ")"
   ]
  },
  {
   "cell_type": "markdown",
   "metadata": {},
   "source": [
    "## Solve"
   ]
  },
  {
   "cell_type": "code",
   "execution_count": null,
   "metadata": {},
   "outputs": [],
   "source": [
    "report = Parameter(container=m, name=\"report\", domain=[alloy, \"*\"])"
   ]
  },
  {
   "cell_type": "code",
   "execution_count": null,
   "metadata": {},
   "outputs": [],
   "source": [
    "b1.solve()\n",
    "report[alloy, \"blend-1\"] = v.l[alloy]"
   ]
  },
  {
   "cell_type": "code",
   "execution_count": null,
   "metadata": {},
   "outputs": [],
   "source": [
    "b2.solve()\n",
    "report[alloy, \"blend-2\"] = v.l[alloy]"
   ]
  },
  {
   "cell_type": "markdown",
   "metadata": {},
   "source": [
    "## Reporting"
   ]
  },
  {
   "cell_type": "code",
   "execution_count": null,
   "metadata": {},
   "outputs": [],
   "source": [
    "report.pivot()"
   ]
  }
 ],
 "metadata": {
  "kernelspec": {
   "display_name": "Python 3 (ipykernel)",
   "language": "python",
   "name": "python3"
  },
  "language_info": {
   "codemirror_mode": {
    "name": "ipython",
    "version": 3
   },
   "file_extension": ".py",
   "mimetype": "text/x-python",
   "name": "python",
   "nbconvert_exporter": "python",
   "pygments_lexer": "ipython3",
   "version": "3.8.10"
  }
 },
 "nbformat": 4,
 "nbformat_minor": 4
}
