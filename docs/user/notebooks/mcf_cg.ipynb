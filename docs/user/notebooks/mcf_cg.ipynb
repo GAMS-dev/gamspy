{
 "cells": [
  {
   "cell_type": "markdown",
   "metadata": {},
   "source": [
    "# Multi-Commodity Flow Problem (MCF) with Column Generation\n",
    "\n",
    "The **Multi-Commodity Flow Problem** is a classic optimization problem in network science and operations research. It involves determining the optimal way to transport multiple distinct commodities through a shared network while minimizing costs, subject to constraints like capacity and demand. \n",
    "\n",
    "\n",
    "## Components of the MCF Problem\n",
    "\n",
    "- **Nodes**: Represent locations (e.g., cities, warehouses, factories).\n",
    "- **Edges**: Represent the connections between locations (e.g., roads, pipelines, communication links).\n",
    "- **Capacities**: The maximum flow that each edge can handle (e.g., 20 trucks per day, 100 Mbps bandwidth).\n",
    "- **Commodities**: Different types of goods, resources, or flows (e.g., water, energy, data packets) that need to be transported.\n",
    "- **Cost**: The expense of transporting a unit of a commodity along an edge.\n",
    "- **Demand**: The required amount of each commodity that must be transported from a specific source node to a target node.\n",
    "\n",
    "\n",
    "## Objective\n",
    "\n",
    "The goal of the MCF problem is to find the optimal flow of multiple commodities through a network while minimizing the total cost, subject to:\n",
    "- **Capacity Constraints**: The total flow on any edge cannot exceed its capacity.\n",
    "- **Demand Satisfaction**: Each commodity must be transported from its source node to its sink node in the required quantity.\n",
    "- **Flow Conservation**: The flow of a commodity entering a node (other than the source or sink) must equal the flow leaving that node."
   ]
  },
  {
   "cell_type": "markdown",
   "metadata": {},
   "source": [
    "## The problem's algebraic representation typically takes the following format:\n",
    "\n",
    "### Indices\n",
    "- **n, u**: Nodes in the network.\n",
    "- **k**: Commodities being transported.\n",
    "- $\\mathbf{e_{u,n}}$: Edge connecting nodes _u_ and _n_.\n",
    "- $\\mathbf{ks_{k,u}}$: Source node _u_ of commodity _k_.\n",
    "- $\\mathbf{kt_{k,n}}$: Target/Sink node _n_ of commodity _k_.\n",
    "\n",
    "### Parameters\n",
    "- $\\mathbf{dem_k}$: Demand for commodity _k_.\n",
    "- $\\mathbf{cap_{u, n}}$: Capacity of edge _(u, n)_ in the network.\n",
    "- $\\mathbf{cost_{k, u, n}}$: Cost of transporting one unit of commodity _k_ across edge _(u, n)_.\n",
    "\n",
    "### Decision Variables\n",
    "- $\\mathbf{f_{k, u, n}}$: Flow of commodity _k_ on edge ${e_{u,n}}$.\n",
    "- **z**: Total transportation cost.\n"
   ]
  },
  {
   "cell_type": "code",
   "execution_count": 1,
   "metadata": {},
   "outputs": [],
   "source": [
    "# Import required libraries\n",
    "\n",
    "import pandas as pd\n",
    "from gamspy import Container\n",
    "from gamspy import Set\n",
    "from gamspy import Alias\n",
    "from gamspy import Parameter\n",
    "from gamspy import Variable\n",
    "from gamspy import Equation\n",
    "from gamspy import Sum\n",
    "from gamspy import Model\n",
    "from gamspy import Ord\n",
    "from gamspy import Card\n",
    "from gamspy import Domain\n",
    "from gamspy import Problem\n",
    "from gamspy import Sense\n",
    "from gamspy import Number"
   ]
  },
  {
   "cell_type": "markdown",
   "metadata": {},
   "source": [
    "### Function to read solution output"
   ]
  },
  {
   "cell_type": "code",
   "execution_count": 2,
   "metadata": {},
   "outputs": [],
   "source": [
    "def read_solution(df, cost):\n",
    "    solution = {}\n",
    "    \n",
    "    # For each commodity (k1, k2, etc.)\n",
    "    for commodity in df.columns:\n",
    "        flows = []\n",
    "        # Get non-zero flows\n",
    "        non_zero_flows = df[df[commodity] > 0]\n",
    "        \n",
    "        for (source, target), flow in non_zero_flows[commodity].items():\n",
    "            e_cost = [edge[3] for edge in cost \n",
    "                        if edge[0] == commodity \n",
    "                        and edge[1] == source \n",
    "                        and edge[2] == target][0]\n",
    "            flows.append({\n",
    "                'from': source,\n",
    "                'to': target,\n",
    "                'amount': flow,\n",
    "                'cost': flow * e_cost\n",
    "            })\n",
    "        \n",
    "        if flows:\n",
    "            solution[commodity] = flows\n",
    "    \n",
    "    # Print readable output\n",
    "    for commodity, move_data in solution.items():\n",
    "        print(f\"\\n{'-'*20}\")\n",
    "        print(f\"{commodity}: ${sum([flow['cost'] for flow in move_data])}\")\n",
    "        for flow in move_data:\n",
    "            print(f\"  {flow['from']} → {flow['to']}: {flow['amount']} (${flow['cost']})\")"
   ]
  },
  {
   "cell_type": "markdown",
   "metadata": {},
   "source": [
    "### 1. Prepare data"
   ]
  },
  {
   "cell_type": "code",
   "execution_count": 3,
   "metadata": {},
   "outputs": [],
   "source": [
    "nodes = [f\"n{i}\" for i in range(1, 6)]\n",
    "commodities = [f\"k{i}\" for i in range(1, 5)]\n",
    "edges = [\n",
    "    (\"n1\", \"n2\"),\n",
    "    (\"n1\", \"n3\"),\n",
    "    (\"n2\", \"n3\"),\n",
    "    (\"n2\", \"n4\"),\n",
    "    (\"n3\", \"n4\"),\n",
    "    (\"n3\", \"n5\"),\n",
    "    (\"n4\", \"n5\"),\n",
    "]\n",
    "\n",
    "sources = [(\"k1\", \"n1\"), (\"k2\", \"n1\"), (\"k3\", \"n2\"), (\"k4\", \"n3\")]\n",
    "targets = [(\"k1\", \"n4\"), (\"k2\", \"n5\"), (\"k3\", \"n5\"), (\"k4\", \"n5\")]\n",
    "\n",
    "dem = [\n",
    "    (\"k1\", 15),\n",
    "    (\"k2\", 5),\n",
    "    (\"k3\", 10),\n",
    "    (\"k4\", 5),\n",
    "]\n",
    "\n",
    "cap = [\n",
    "    (\"n1\", \"n2\", 20),\n",
    "    (\"n1\", \"n3\", 10),\n",
    "    (\"n2\", \"n3\", 10),\n",
    "    (\"n2\", \"n4\", 20),\n",
    "    (\"n3\", \"n4\", 40),\n",
    "    (\"n3\", \"n5\", 10),\n",
    "    (\"n4\", \"n5\", 30),\n",
    "]\n",
    "\n",
    "edge_cost = [\n",
    "('k1', 'n1', 'n2', 1),\n",
    "('k1', 'n1', 'n3', 2),\n",
    "('k1', 'n2', 'n3', 3),\n",
    "('k1', 'n2', 'n4', 2),\n",
    "('k1', 'n3', 'n4', 9),\n",
    "('k1', 'n3', 'n5', 4),\n",
    "('k1', 'n4', 'n5', 1),\n",
    "('k2', 'n1', 'n2', 1),\n",
    "('k2', 'n1', 'n3', 4),\n",
    "('k2', 'n2', 'n3', 1),\n",
    "('k2', 'n2', 'n4', 2),\n",
    "('k2', 'n3', 'n4', 6),\n",
    "('k2', 'n3', 'n5', 5),\n",
    "('k2', 'n4', 'n5', 5),\n",
    "('k3', 'n1', 'n2', 1),\n",
    "('k3', 'n1', 'n3', 1),\n",
    "('k3', 'n2', 'n3', 1),\n",
    "('k3', 'n2', 'n4', 6),\n",
    "('k3', 'n3', 'n4', 11),\n",
    "('k3', 'n3', 'n5', 7),\n",
    "('k3', 'n4', 'n5', 4),\n",
    "('k4', 'n1', 'n2', 1),\n",
    "('k4', 'n1', 'n3', 4),\n",
    "('k4', 'n2', 'n3', 3),\n",
    "('k4', 'n2', 'n4', 1),\n",
    "('k4', 'n3', 'n4', 10),\n",
    "('k4', 'n3', 'n5', 6),\n",
    "('k4', 'n4', 'n5', 7),\n",
    "]"
   ]
  },
  {
   "cell_type": "markdown",
   "metadata": {},
   "source": [
    "### 2. Build Model - Traditional Multi-Commodity Problem"
   ]
  },
  {
   "cell_type": "code",
   "execution_count": 4,
   "metadata": {},
   "outputs": [],
   "source": [
    "m = Container()"
   ]
  },
  {
   "cell_type": "code",
   "execution_count": 5,
   "metadata": {},
   "outputs": [],
   "source": [
    "# SETS\n",
    "n  = Set(m, \"n\",  records=nodes,  description=\"Nodes\")\n",
    "k  = Set(m, \"k\",  records=commodities,  description=\"Commodities\")\n",
    "e  = Set(m, \"e\",  [n, n], records=edges, description=\"Edges\")\n",
    "ks = Set(m, \"ks\", [k, n], records=sources, description=\"Commodity Sources\")\n",
    "kt = Set(m, \"kt\", [k, n], records=targets, description=\"Commodity Sinks\")\n",
    "\n",
    "u = Alias(m, \"u\", n)"
   ]
  },
  {
   "cell_type": "code",
   "execution_count": 6,
   "metadata": {},
   "outputs": [],
   "source": [
    "# PARAMETERS\n",
    "cost = Parameter(m, \"cost\", [k, n, n], edge_cost, description=\"Cost of transporting one unit of K_i on edge (u, v)\")\n",
    "demand = Parameter(m, \"demand\", k, dem, description=\"Demand for each commodity\")\n",
    "capacity = Parameter(m, \"capacity\", [n, n], cap, description=\"Capacity of edge (u, v)\")\n",
    "\n",
    "# VARIABLE #\n",
    "x = Variable(m, name=\"x\", domain=[k, u, n], type=\"Positive\", description=\"Flow of commodity k on edge (u, v)\")"
   ]
  },
  {
   "cell_type": "markdown",
   "metadata": {},
   "source": [
    "\\begin{align}\n",
    "& min \\qquad \\sum_k \\sum_{e_{u,n}} cost_{k,e_{u,n}} \\cdot x_{k,e_{u,n}} \\\\[1ex]\n",
    "& \\text{s.t.} \\nonumber \\\\[1ex]\n",
    "& \\sum_{k} x_{k,u,n} \\leq cap_{u,n} \\qquad \\forall u,n \\\\[1ex]\n",
    "& \\sum_{e_{u,n} ~ | ~ ks_{k,u}} x_{k,e_{u,n}} - \\sum_{e_{n,u} ~ | ~ ks_{k,u}} x_{k,e_{n,u}} = dem_{k} \\qquad \\forall k \\\\[1ex]\n",
    "& \\sum_{e_{u,n} ~ | ~ kt_{k,u}} x_{k,e_{u,n}} - \\sum_{e_{n,u} ~ | ~ kt_{k,u}} x_{k,e_{n,u}} =  - dem_{k} \\qquad \\forall k \\\\[1ex]\n",
    "& \\sum_{e_{u,n}} x_{k,e_{u,n}} = \\sum_{e_{n,u}} x_{k,e_{n,u}} \\qquad \\forall k,n ~ | ~  \\notin ks_{k,n} \\wedge  \\notin kt_{k,n}\n",
    "\\end{align}\n"
   ]
  },
  {
   "cell_type": "markdown",
   "metadata": {},
   "source": [
    "(1) **Objective Function**: Minimize the total transportation cost by summing the cost of flows for all commodities over all edges.\n",
    "\n",
    "(2) **Capacity Constraint**: The total flow on each edge for all commodities cannot exceed the edge's capacity.\n",
    "\n",
    "(3) **Source Node Flow Conservation**: The net flow at the source node of a commodity equals the demand for that commodity (outflow matches demand).\n",
    "\n",
    "(4) **Sink Node Flow Conservation**: The net flow at the sink node of a commodity equals the negative of the demand (inflow matches demand).\n",
    "\n",
    "(5) **Intermediate Node Flow Conservation**: For all intermediate nodes, the flow into the node must equal the flow out of the node for all commodities.\n"
   ]
  },
  {
   "cell_type": "code",
   "execution_count": 7,
   "metadata": {},
   "outputs": [],
   "source": [
    "# EQUATIONS #\n",
    "\n",
    "cap_cons = Equation(m, name=\"cap_cons\", domain=[u, n], description=\"Capacity constraint for edge (u,v)\")\n",
    "cap_cons[u, n] = Sum(k, x[k, u, n]) <= capacity[u, n]\n",
    "\n",
    "\n",
    "flow_balance_inter = Equation(m, name=\"flow_balance_inter\", domain=[k, n], description=\"Flow conservation for intermediate nodes\")\n",
    "flow_balance_inter[k, n].where[(~ks[k, n]) & (~kt[k, n])] = Sum(e[u, n], x[k, e]) == Sum(e[n, u], x[k, e])\n",
    "\n",
    "\n",
    "flow_balance_src = Equation(m, name=\"flow_balance_src\", domain=k, description=\"Flow conservation at source node\")\n",
    "flow_balance_src[k] = (Sum(e[u, n].where[ks[k, u]], x[k, e]) - Sum(e[n, u].where[ks[k, u]], x[k, e]) == demand[k])\n",
    "\n",
    "\n",
    "flow_balance_snk = Equation(m, name=\"flow_balance_snk\", domain=k, description=\"Flow conservation at sink node\")\n",
    "flow_balance_snk[k] = (Sum(e[u, n].where[kt[k, u]], x[k, e]) - Sum(e[n, u].where[kt[k, u]], x[k, e]) == -demand[k])"
   ]
  },
  {
   "cell_type": "code",
   "execution_count": 8,
   "metadata": {},
   "outputs": [
    {
     "name": "stdout",
     "output_type": "stream",
     "text": [
      "Solution Status: ModelStatus.OptimalGlobal\n",
      "Objective Value: 230.0\n",
      "\n",
      "--------------------\n",
      "k1: $45.0\n",
      "  n1 → n2: 15.0 ($15.0)\n",
      "  n2 → n4: 15.0 ($30.0)\n",
      "\n",
      "--------------------\n",
      "k2: $65.0\n",
      "  n1 → n2: 5.0 ($5.0)\n",
      "  n2 → n3: 5.0 ($5.0)\n",
      "  n3 → n4: 5.0 ($30.0)\n",
      "  n4 → n5: 5.0 ($25.0)\n",
      "\n",
      "--------------------\n",
      "k3: $90.0\n",
      "  n2 → n3: 5.0 ($5.0)\n",
      "  n2 → n4: 5.0 ($30.0)\n",
      "  n3 → n5: 5.0 ($35.0)\n",
      "  n4 → n5: 5.0 ($20.0)\n",
      "\n",
      "--------------------\n",
      "k4: $30.0\n",
      "  n3 → n5: 5.0 ($30.0)\n"
     ]
    }
   ],
   "source": [
    "mcf = Model(m, name=\"mcf\", equations=m.getEquations(), problem=\"LP\", sense=Sense.MIN, objective=Sum([k, e[u, n]], cost[k, e] * x[k, e]))\n",
    "mcf.solve()\n",
    "print(\"Solution Status:\", mcf.status)\n",
    "print(\"Objective Value:\", mcf.objective_value)\n",
    "read_solution(x.pivot(index=[\"u\", \"n\"], columns=[\"k\"]), edge_cost)"
   ]
  },
  {
   "cell_type": "markdown",
   "metadata": {},
   "source": [
    "## Limitations of the Traditional Multi-Commodity Flow Problem Formulation\n",
    "\n",
    "While the traditional edge-based formulation of the **Multi-Commodity Flow Problem (MCF)** is straightforward and intuitive, it has several drawbacks when applied to large-scale networks:\n",
    "\n",
    "1. **Scalability Issues**: The number of decision variables increases rapidly with the size of the network (nodes, edges, and commodities).\n",
    "2. **Memory Overhead**: Large-scale problems require significant memory to store the decision variables and constraints.\n",
    "\n",
    "\n",
    "## Column Generation and Path Formulation\n",
    "\n",
    "To overcome these limitations, **Column Generation** provides a more efficient way to solve large-scale MCF problems. Instead of working with all possible paths at once, the **path-based formulation** generates paths dynamically during the solution process.\n",
    "\n",
    "### Path Formulation of MCF\n",
    "\n",
    "In the path-based formulation, the focus shifts from edges to **complete paths** that commodities can take between their source and sink. Key advantages include:\n",
    "\n",
    "1. **Reduced Problem Size**:\n",
    "   - Only a subset of feasible paths is considered in the Restricted Master Problem (RMP), reducing the number of decision variables.\n",
    "\n",
    "2. **Dynamic Path Generation**:\n",
    "   - New paths are added iteratively as needed through a **Pricing Problem**. This ensures that only paths with potential to improve the solution are included.\n",
    "\n",
    "### How Column Generation Works?\n",
    "\n",
    "Column Generation is an iterative optimization approach that alternates between:\n",
    "1. **Solving the Restricted Master Problem (RMP)**:\n",
    "   - The RMP is solved using only a limited set of paths.\n",
    "   - Dual variables from the RMP are used to calculate reduced costs for potential new paths.\n",
    "\n",
    "2. **Solving the Pricing Problem**:\n",
    "   - A shortest path problem (or its equivalent) is solved to identify new paths with negative reduced cost.\n",
    "   - If such paths exist, they are added to the RMP, and the process repeats.\n",
    "\n",
    "3. **Stopping Criterion**:\n",
    "   - The algorithm terminates when no new paths with negative reduced cost can be found."
   ]
  },
  {
   "cell_type": "markdown",
   "metadata": {},
   "source": [
    "## Defining Initial and Possible Paths\n",
    "\n",
    "To start the **Column Generation (CG)** algorithm, we require a feasible solution as a starting point. This is achieved by defining **initial paths** that connect the source node to the sink node for each commodity. These initial paths ensure the problem is solvable from the outset, even if some paths are not practically feasible. But the following points need to be considered:\n",
    "\n",
    "1. **Cost Handling**:\n",
    "   - If a path physically exists in the network (as per the problem's data), the actual cost from the problem is used.\n",
    "   - If a direct path between the source and sink does not exist, a very high cost is assigned to discourage its use in the solution.\n",
    "\n",
    "2. **Purpose of Initial Paths**:\n",
    "   - To guarantee a feasible solution to the Restricted Master Problem (RMP) at the start of the column generation process.\n",
    "   - To serve as the baseline for generating improved paths iteratively.\n",
    "\n",
    "The following code initializes these components:\n"
   ]
  },
  {
   "cell_type": "code",
   "execution_count": 9,
   "metadata": {},
   "outputs": [],
   "source": [
    "# Define possible paths: A set to track all paths that can be dynamically added during column generation\n",
    "possible_paths = [f\"p{i}\" for i in range(1, 51)]\n",
    "\n",
    "\n",
    "initial_paths = [\n",
    "    (\"p1\", \"n1\", \"n4\", 1),\n",
    "    (\"p2\", \"n1\", \"n5\", 1),\n",
    "    (\"p3\", \"n2\", \"n5\", 1),\n",
    "    (\"p4\", \"n3\", \"n5\", 1),\n",
    "]\n",
    "\n",
    "# Update the previous data to add direct edges. Since edge (3,5) already exist, we will only add the other direct edges; (1,4), (1,5) and (2,5)\n",
    "edges.extend([(\"n1\", \"n4\"), (\"n1\", \"n5\"), (\"n2\", \"n5\")])\n",
    "\n",
    "# For the new edges, we will add the capacity just enough for each commodity to flow through (equal its demand)\n",
    "cap.extend([(\"n1\", \"n4\", 15), (\"n1\", \"n5\", 5), (\"n2\", \"n5\", 10)])\n",
    "\n",
    "# For the new edges, we will add the cost as 1e+9 for each commodity\n",
    "edge_cost.extend([\n",
    "    (\"k1\", \"n1\", \"n4\", 1000), (\"k1\", \"n1\", \"n5\", 1000), (\"k1\", \"n2\", \"n5\", 1000),\n",
    "    (\"k2\", \"n1\", \"n4\", 1000), (\"k2\", \"n1\", \"n5\", 1000), (\"k2\", \"n2\", \"n5\", 1000),\n",
    "    (\"k3\", \"n1\", \"n4\", 1000), (\"k3\", \"n1\", \"n5\", 1000), (\"k3\", \"n2\", \"n5\", 1000),\n",
    "    (\"k4\", \"n1\", \"n4\", 1000), (\"k4\", \"n1\", \"n5\", 1000), (\"k4\", \"n2\", \"n5\", 1000),\n",
    "    ])"
   ]
  },
  {
   "cell_type": "code",
   "execution_count": 10,
   "metadata": {},
   "outputs": [],
   "source": [
    "# Update existing symbols\n",
    "e.setRecords(edges)         # Update the set of edges\n",
    "capacity.setRecords(cap)    # Update the capacity of edges\n",
    "cost.setRecords(edge_cost)  # Update the cost of edges\n",
    "\n",
    "\n",
    "# Define new symbols from the updated data\n",
    "p  = Set(m, \"p\", records=possible_paths, description=\"Set of all possible paths in the network\")\n",
    "pp = Set(m, \"pp\", p, description=\"Dynamic subset of p, containing only currently active paths\")\n",
    "st = Set(m, \"st\", [p,n,n], description= \"Source to target mapping for each path\")\n",
    "\n",
    "# Select the first |k| paths (one per commodity) as the initial active set\n",
    "pp[p] = Ord(p) <= Card(k)\n",
    "\n",
    "\n",
    "# Parameters related to paths and commodities\n",
    "paths       = Parameter(m, \"paths\", [p, n, n], initial_paths, description=\"All paths\")\n",
    "path_cost   = Parameter(m, \"path_cost\", [k,p], description= \"Cost of each path for commodity k\")\n"
   ]
  },
  {
   "cell_type": "markdown",
   "metadata": {},
   "source": [
    "## Restricted Master Problem (RMP)\n",
    "\n",
    "In the **Column Generation** framework, the **Restricted Master Problem (RMP)** is the core optimization problem that we iteratively solve. \n",
    "\n",
    "\n",
    "The RMP starts with a **limited subset of paths** and solves the multi-commodity flow problem over these paths. These paths are dynamically updated during the column generation process by adding new paths with **negative reduced costs** obtained from the pricing problem.\n",
    "\n",
    "\n",
    "### The mathematical model is defined as follows:"
   ]
  },
  {
   "cell_type": "markdown",
   "metadata": {},
   "source": [
    "\\begin{align}\n",
    "& min \\qquad \\sum_k \\sum_p path\\_cost_{k,p} \\cdot f_{k,p} \\\\[1ex]\n",
    "& \\text{s.t.} \\nonumber \\\\[1ex]\n",
    "& \\sum_k \\sum_p f_{k,p} \\leq Cap_e \\qquad \\forall e \\\\[1ex]\n",
    "& \\sum_p  f_{k,p} = Dem_k \\qquad \\forall k  \\text{  where  } p \\in st_{p,u,n} \\wedge ks_{k,u} \\wedge kt_{k,n} \\\\[1ex]\n",
    "\\end{align}\n"
   ]
  },
  {
   "cell_type": "markdown",
   "metadata": {},
   "source": [
    "### Equation Descriptions\n",
    "\n",
    "1. **Objective Function**: Minimize the total transportation cost by summing up the cost of flows $f_{k,p}$ of all commodities _k_ on their respective paths _p_.\n",
    "\n",
    "2. **Capacity Constraint**: Ensure the total flow of all commodities on each edge _e_ does not exceed the edge's capacity.\n",
    "\n",
    "3. **Demand Satisfaction Constraint**: Guarantee that the total flow of each commodity _k_ on all paths satisfies the commodity's demand.\n"
   ]
  },
  {
   "cell_type": "markdown",
   "metadata": {},
   "source": [
    "#### Restricted Master Problem - Path formulation of MCF Problem"
   ]
  },
  {
   "cell_type": "code",
   "execution_count": 11,
   "metadata": {},
   "outputs": [],
   "source": [
    "# VARIABLES\n",
    "f = Variable(m, name=\"f\", type=\"positive\", domain=[k,p], description=\"Flow of commodity k on path p\")\n",
    "z = Variable(m, name=\"z\", type=\"free\", description=\"Total transportation cost\")\n",
    "\n",
    "\n",
    "# EQUATIONS\n",
    "rmp_obj = Equation(m, name=\"rmp_obj\", description=\"Objective function (minimize total cost)\")\n",
    "cap_constraint = Equation(m, name=\"cap_constraint\", domain=[n,n], description=\"Capacity constraint for each edge\")\n",
    "flow_conserve = Equation(m, name=\"flow_conserve\", domain=k, description=\"Flow conservation for each commodity\")\n",
    "\n",
    "rmp_obj[...]  =  z == Sum([k,pp], path_cost[k,pp] * f[k,pp])\n",
    "cap_constraint[e[u,n]]  =  Sum(Domain(k,pp).where[paths[pp,e]], f[k,pp]) <= capacity[e]\n",
    "flow_conserve[k]  =  Sum(Domain(pp, u, n).where[st[pp,u,n] & ks[k, u] & kt[k, n]], f[k,pp]) == demand[k]\n",
    "\n",
    "\n",
    "# Initialize the model\n",
    "rmp = Model(m, name=\"rmp\", problem=Problem.LP, sense=Sense.MIN, equations=[rmp_obj, cap_constraint, flow_conserve], objective=z)\n"
   ]
  },
  {
   "cell_type": "markdown",
   "metadata": {},
   "source": [
    "#### Pricing problem - Shortest path model\n",
    "\n",
    "The **pricing problem** is a crucial part of the column generation framework. Its purpose is to identify new paths with **negative reduced cost** for each commodity. If such a path is found, it is added to the Restricted Master Problem (RMP) to improve the solution. If no such paths exist, the column generation process terminates.\n",
    "\n",
    "\n",
    "### The mathematical model is defined as follows:"
   ]
  },
  {
   "cell_type": "markdown",
   "metadata": {},
   "source": [
    "\\begin{align}\n",
    "& min \\qquad \\sum_{e_{n,n}} sub\\_cost_{e_{n,n}} \\cdot y_{e_{n,n}} - alpha \\\\[1ex]\n",
    "& \\text{s.t.} \\nonumber \\\\[1ex]\n",
    "& \\sum_{e_{s,n}} y_e = k\\_dem  \\\\[1ex]\n",
    "& \\sum_{e_{u,t}} y_e = k\\_dem  \\\\[1ex]\n",
    "& \\sum_{e_{n,u}} y_e = \\sum_{e_{u,n}} y_e \\qquad \\forall n ~ | ~  \\notin s_{n} \\wedge  \\notin t_{n} \\\\[1ex]\n",
    "\\end{align}\n"
   ]
  },
  {
   "cell_type": "markdown",
   "metadata": {},
   "source": [
    "(1) **Objective Function**: Minimize the reduced cost of the path by summing the adjusted costs _subcost_ of all edges in the path, minus the dual variable _alpha_ associated with the commodity's demand satisfaction constraint.\n",
    "\n",
    "(2) **Source Constraint**: Ensure the total flow leaving the source node equals the demand for the commodity.\n",
    "\n",
    "(3) **Sink Constraint**: Ensure the total flow entering the sink node equals the demand for the commodity.\n",
    "\n",
    "(4) **Intermediate Node Flow Conservation**: Ensure the flow entering any intermediate node equals the flow leaving that node, maintaining flow conservation throughout the path.\n",
    "\n"
   ]
  },
  {
   "cell_type": "code",
   "execution_count": 12,
   "metadata": {},
   "outputs": [],
   "source": [
    "# Sets\n",
    "s = Set(m, name=\"s\", domain=n, description=\"Source node\")\n",
    "t = Set(m, name=\"t\", domain=n, description=\"Sink   node\")\n",
    "\n",
    "# Parameters\n",
    "sub_cost   = Parameter(m, name=\"sub_cost\", domain=[u,n])\n",
    "sub_demand = Parameter(m, name=\"sub_demand\")\n",
    "alpha      = Parameter(m, name=\"alpha\")\n",
    "\n",
    "# Variables\n",
    "y = Variable(m, name=\"y\", type=\"positive\", domain=[u,n], description=\"New path\")\n",
    "\n",
    "# Equations\n",
    "pricing_obj    = Equation(m, name=\"pricing_obj\", description=\"Objective function for shortest path\")\n",
    "pricing_source = Equation(m, name=\"pricing_source\", description=\"Flow conservation at source node\")\n",
    "pricing_target = Equation(m, name=\"pricing_target\", description=\"Flow conservation at target node\")\n",
    "pricing_flow   = Equation(m, name=\"pricing_flow\", domain=n, description=\"Flow conservation at intermediate nodes\")\n",
    "\n",
    "\n",
    "pricing_obj[...]      =  z == Sum(e, sub_cost[e] * y[e]) - alpha\n",
    "pricing_source[...]   =  Sum(e[s, n], y[e]) == sub_demand\n",
    "pricing_target[...]   =  Sum(e[u, t], y[e]) == sub_demand\n",
    "pricing_flow[n].where[(~ s[n]) & (~ t[n])]  =  Sum(e[n, u], y[e]) == Sum(e[u, n], y[e])\n",
    "\n",
    "\n",
    "# Initialize the model\n",
    "pricing = Model(m, name=\"pricing\", problem=Problem.LP, equations=[pricing_obj, pricing_source, pricing_target, pricing_flow], sense=Sense.MIN, objective=z)"
   ]
  },
  {
   "cell_type": "markdown",
   "metadata": {},
   "source": [
    "### Solving with Column Generation"
   ]
  },
  {
   "cell_type": "code",
   "execution_count": 13,
   "metadata": {},
   "outputs": [],
   "source": [
    "# Initialization\n",
    "pi    = Set(m, name=\"pi\", domain=p, description=\"set of the last path\")\n",
    "pi[p] = Ord(p) == Card(pp) + 1\n",
    "\n",
    "has_negative_reduced_cost = True  # A flag to track negative reduced costs\n",
    "\n",
    "\n",
    "# Run as long as we have negative reduced costs\n",
    "while has_negative_reduced_cost:\n",
    "\n",
    "    # Compute the cost of each path\n",
    "    path_cost[k,pp] = Sum(e, paths[pp, e] * cost[k, e])\n",
    "\n",
    "    # Map the source and sink nodes for each path\n",
    "    st.setRecords(paths.records.groupby(\"p_0\", observed=False).agg(n_1=(\"n_1\", \"first\"), n_2=(\"n_2\", \"last\")).reset_index())\n",
    "\n",
    "    rmp.solve()\n",
    "\n",
    "\n",
    "    for commodity in k.toList():\n",
    "        s[n] = ks[commodity, n]\n",
    "        t[n] = kt[commodity, n]\n",
    "        sub_cost[e] = cost[commodity, e] - cap_constraint.m[e]\n",
    "        alpha[...] = flow_conserve.m[commodity]\n",
    "        sub_demand[...] = demand[commodity]\n",
    "\n",
    "        pricing.solve()\n",
    "\n",
    "        # path that might improve the master model found\n",
    "        if pricing.objective_value < -0.0001:\n",
    "            paths[pi, u, n] = Number(1).where[y.l[u, n]]\n",
    "            pp[pi] = True\n",
    "            pi[p] = pi[p.lag(1)]\n",
    "\n",
    "    # if no new paths are added (lengths are equal), the flag turns to False\n",
    "    has_negative_reduced_cost = path_cost.pivot().shape[1] != len(pp)"
   ]
  },
  {
   "cell_type": "code",
   "execution_count": 14,
   "metadata": {},
   "outputs": [
    {
     "name": "stdout",
     "output_type": "stream",
     "text": [
      "Solution Status: ModelStatus.OptimalGlobal\n",
      "Objective Value: 230.0\n",
      "\n",
      "--------------------\n",
      "k1: $45.0\n",
      "  n1 → n2: 15.0 ($15.0)\n",
      "  n2 → n4: 15.0 ($30.0)\n",
      "\n",
      "--------------------\n",
      "k2: $65.0\n",
      "  n1 → n2: 5.0 ($5.0)\n",
      "  n2 → n3: 5.0 ($5.0)\n",
      "  n3 → n4: 5.0 ($30.0)\n",
      "  n4 → n5: 5.0 ($25.0)\n",
      "\n",
      "--------------------\n",
      "k3: $90.0\n",
      "  n2 → n3: 5.0 ($5.0)\n",
      "  n2 → n4: 5.0 ($30.0)\n",
      "  n3 → n5: 5.0 ($35.0)\n",
      "  n4 → n5: 5.0 ($20.0)\n",
      "\n",
      "--------------------\n",
      "k4: $30.0\n",
      "  n3 → n5: 5.0 ($30.0)\n"
     ]
    }
   ],
   "source": [
    "rmp.solve()\n",
    "print(\"Solution Status:\", rmp.status)\n",
    "print(\"Objective Value:\", rmp.objective_value)\n",
    "read_solution((f.pivot() @ paths.pivot(index=[\"p_0\"], columns=[\"n_1\", \"n_2\"])).T.sort_index(level=0), edge_cost)\n"
   ]
  }
 ],
 "metadata": {
  "kernelspec": {
   "display_name": "uni",
   "language": "python",
   "name": "python3"
  },
  "language_info": {
   "codemirror_mode": {
    "name": "ipython",
    "version": 3
   },
   "file_extension": ".py",
   "mimetype": "text/x-python",
   "name": "python",
   "nbconvert_exporter": "python",
   "pygments_lexer": "ipython3",
   "version": "3.11.5"
  }
 },
 "nbformat": 4,
 "nbformat_minor": 2
}
