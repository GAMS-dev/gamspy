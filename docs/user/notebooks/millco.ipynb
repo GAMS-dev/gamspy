{
 "cells": [
  {
   "cell_type": "markdown",
   "metadata": {},
   "source": [
    "# Lumber Transportation Problem \n",
    "J. Reeb and S. Leavengood\n",
    "\n",
    "Millco has three wood mills and is planning three new logging sites. Each mill has a maximum capacity and each logging site can harvest a certain number of truckloads of lumber per day. The cost of a haul is $2/mile of distance. If distances from logging sites to mills are given below, how should the hauls be routed to minimize hauling costs while meeting all demands?\n",
    "\n",
    "| Logging Site | Mill A | Mill B | Mill C | Max loads per day |\n",
    "|:------------:|:------:|:------:|:------:|:-----------------:|\n",
    "| 1            |  8     |  15    |  50    |  20               |\n",
    "| 2            |  10    |  17    |  20    |  30               |\n",
    "| 3            |  30    |  26    |  15    |  45               |\n",
    "| Mill demand  |  30    |  35    |  30    |                   |"
   ]
  },
  {
   "cell_type": "code",
   "execution_count": 1,
   "metadata": {},
   "outputs": [],
   "source": [
    "from gamspy import Container, Sum, Sense\n",
    "import numpy as np"
   ]
  },
  {
   "cell_type": "code",
   "execution_count": 2,
   "metadata": {},
   "outputs": [],
   "source": [
    "m = Container()\n",
    "\n",
    "# Model sets and parameters\n",
    "sites = m.addSet(\"sites\", records=[\"1\", \"2\", \"3\"])\n",
    "mills = m.addSet(\"mills\", records=[\"Mill A\", \"Mill B\", \"Mill C\"])\n",
    "dist = m.addParameter(\n",
    "    \"dist\", [sites, mills], records=np.array([[8, 15, 50], [10, 17, 20], [30, 26, 15]])\n",
    ")\n",
    "supply = m.addParameter(\"supply\", [sites], records=np.array([20, 30, 45]))\n",
    "demand = m.addParameter(\"demand\", [mills], records=np.array([30, 35, 30]))\n",
    "cost_per_haul = 4\n",
    "\n",
    "# Model variables\n",
    "m.addAlias(\"s\", sites)\n",
    "m.addAlias(\"m\", mills)\n",
    "ship = m.addVariable(\"ship\", \"positive\", [sites, mills])\n",
    "\n",
    "defcost = cost_per_haul * Sum([sites, mills], ship[sites, mills] * dist[sites, mills])\n",
    "\n",
    "defsupply = m.addEquation(name='defsupply', domain=sites)\n",
    "defsupply[sites] = Sum(mills, ship[sites, mills]) == supply[sites]\n",
    "\n",
    "defdemand = m.addEquation(name='defdemand', domain=mills)\n",
    "defdemand[mills] = Sum(sites, ship[sites, mills]) == demand[mills]\n",
    "\n",
    "millco = m.addModel(\n",
    "    name='millco',\n",
    "    equations=m.getEquations(),\n",
    "    problem='LP',\n",
    "    sense=Sense.MIN,\n",
    "    objective=defcost\n",
    ")"
   ]
  },
  {
   "cell_type": "code",
   "execution_count": 3,
   "metadata": {},
   "outputs": [],
   "source": [
    "millco.solve()"
   ]
  },
  {
   "cell_type": "code",
   "execution_count": 4,
   "metadata": {},
   "outputs": [
    {
     "data": {
      "text/html": [
       "<div>\n",
       "<style scoped>\n",
       "    .dataframe tbody tr th:only-of-type {\n",
       "        vertical-align: middle;\n",
       "    }\n",
       "\n",
       "    .dataframe tbody tr th {\n",
       "        vertical-align: top;\n",
       "    }\n",
       "\n",
       "    .dataframe thead th {\n",
       "        text-align: right;\n",
       "    }\n",
       "</style>\n",
       "<table border=\"1\" class=\"dataframe\">\n",
       "  <thead>\n",
       "    <tr style=\"text-align: right;\">\n",
       "      <th>mills</th>\n",
       "      <th>Mill A</th>\n",
       "      <th>Mill B</th>\n",
       "      <th>Mill C</th>\n",
       "    </tr>\n",
       "    <tr>\n",
       "      <th>sites</th>\n",
       "      <th></th>\n",
       "      <th></th>\n",
       "      <th></th>\n",
       "    </tr>\n",
       "  </thead>\n",
       "  <tbody>\n",
       "    <tr>\n",
       "      <th>1</th>\n",
       "      <td>0.0</td>\n",
       "      <td>20.0</td>\n",
       "      <td>0.0</td>\n",
       "    </tr>\n",
       "    <tr>\n",
       "      <th>2</th>\n",
       "      <td>30.0</td>\n",
       "      <td>0.0</td>\n",
       "      <td>0.0</td>\n",
       "    </tr>\n",
       "    <tr>\n",
       "      <th>3</th>\n",
       "      <td>0.0</td>\n",
       "      <td>15.0</td>\n",
       "      <td>30.0</td>\n",
       "    </tr>\n",
       "  </tbody>\n",
       "</table>\n",
       "</div>"
      ],
      "text/plain": [
       "mills  Mill A  Mill B  Mill C\n",
       "sites                        \n",
       "1         0.0    20.0     0.0\n",
       "2        30.0     0.0     0.0\n",
       "3         0.0    15.0    30.0"
      ]
     },
     "execution_count": 4,
     "metadata": {},
     "output_type": "execute_result"
    }
   ],
   "source": [
    "ship.records.pivot(index='sites', columns='mills', values='level')"
   ]
  },
  {
   "cell_type": "code",
   "execution_count": 5,
   "metadata": {},
   "outputs": [
    {
     "name": "stdout",
     "output_type": "stream",
     "text": [
      "Total cost will be 5760.0\n"
     ]
    }
   ],
   "source": [
    "print(f'Total cost will be {millco.objective_value}')"
   ]
  },
  {
   "cell_type": "code",
   "execution_count": 6,
   "metadata": {},
   "outputs": [],
   "source": [
    "m = Container()\n",
    "\n",
    "# Generic Model sets and parameters\n",
    "i = m.addSet('i', records = ['i'+str(i) for i in range(6)], description = 'equation index')\n",
    "j = m.addSet('j', records = ['j'+str(j) for j in range(9)], description = 'variable index')\n",
    "A = m.addParameter('A', [i,j], records = np.array([[1,1,1,0,0,0,0,0,0],\n",
    "                                                   [0,0,0,1,1,1,0,0,0],\n",
    "                                                   [0,0,0,0,0,0,1,1,1],\n",
    "                                                   [1,0,0,1,0,0,1,0,0],\n",
    "                                                   [0,1,0,0,1,0,0,1,0],\n",
    "                                                   [0,0,1,0,0,1,0,0,1]]))\n",
    "b = m.addParameter('b', [i], records = np.array([20,30,45,30,35,30]))\n",
    "c = m.addParameter('c', [j], records = np.array([8,15,50,10,17,20,30,26,15]))\n",
    "x = m.addVariable('x', 'positive', [j])\n",
    "\n",
    "obj = 4 * Sum(j, c[j] * x[j])\n",
    "\n",
    "e = m.addEquation(name='e', domain=i)\n",
    "e[i] = Sum(j, A[i,j] * x[j]) == b[i]\n",
    "\n",
    "generic_model = m.addModel(\n",
    "    name='generic_model',\n",
    "    equations=m.getEquations(),\n",
    "    problem='LP',\n",
    "    sense=Sense.MIN,\n",
    "    objective=obj\n",
    ")"
   ]
  },
  {
   "cell_type": "code",
   "execution_count": 7,
   "metadata": {},
   "outputs": [],
   "source": [
    "generic_model.solve()"
   ]
  },
  {
   "cell_type": "code",
   "execution_count": 8,
   "metadata": {},
   "outputs": [
    {
     "data": {
      "text/html": [
       "<div>\n",
       "<style scoped>\n",
       "    .dataframe tbody tr th:only-of-type {\n",
       "        vertical-align: middle;\n",
       "    }\n",
       "\n",
       "    .dataframe tbody tr th {\n",
       "        vertical-align: top;\n",
       "    }\n",
       "\n",
       "    .dataframe thead th {\n",
       "        text-align: right;\n",
       "    }\n",
       "</style>\n",
       "<table border=\"1\" class=\"dataframe\">\n",
       "  <thead>\n",
       "    <tr style=\"text-align: right;\">\n",
       "      <th></th>\n",
       "      <th>j</th>\n",
       "      <th>level</th>\n",
       "      <th>marginal</th>\n",
       "      <th>lower</th>\n",
       "      <th>upper</th>\n",
       "      <th>scale</th>\n",
       "    </tr>\n",
       "  </thead>\n",
       "  <tbody>\n",
       "    <tr>\n",
       "      <th>0</th>\n",
       "      <td>j0</td>\n",
       "      <td>0.0</td>\n",
       "      <td>-0.0</td>\n",
       "      <td>0.0</td>\n",
       "      <td>inf</td>\n",
       "      <td>1.0</td>\n",
       "    </tr>\n",
       "    <tr>\n",
       "      <th>1</th>\n",
       "      <td>j1</td>\n",
       "      <td>20.0</td>\n",
       "      <td>0.0</td>\n",
       "      <td>0.0</td>\n",
       "      <td>inf</td>\n",
       "      <td>1.0</td>\n",
       "    </tr>\n",
       "    <tr>\n",
       "      <th>2</th>\n",
       "      <td>j2</td>\n",
       "      <td>0.0</td>\n",
       "      <td>184.0</td>\n",
       "      <td>0.0</td>\n",
       "      <td>inf</td>\n",
       "      <td>1.0</td>\n",
       "    </tr>\n",
       "    <tr>\n",
       "      <th>3</th>\n",
       "      <td>j3</td>\n",
       "      <td>30.0</td>\n",
       "      <td>0.0</td>\n",
       "      <td>0.0</td>\n",
       "      <td>inf</td>\n",
       "      <td>1.0</td>\n",
       "    </tr>\n",
       "    <tr>\n",
       "      <th>4</th>\n",
       "      <td>j4</td>\n",
       "      <td>0.0</td>\n",
       "      <td>0.0</td>\n",
       "      <td>0.0</td>\n",
       "      <td>inf</td>\n",
       "      <td>1.0</td>\n",
       "    </tr>\n",
       "    <tr>\n",
       "      <th>5</th>\n",
       "      <td>j5</td>\n",
       "      <td>0.0</td>\n",
       "      <td>56.0</td>\n",
       "      <td>0.0</td>\n",
       "      <td>inf</td>\n",
       "      <td>1.0</td>\n",
       "    </tr>\n",
       "    <tr>\n",
       "      <th>6</th>\n",
       "      <td>j6</td>\n",
       "      <td>0.0</td>\n",
       "      <td>44.0</td>\n",
       "      <td>0.0</td>\n",
       "      <td>inf</td>\n",
       "      <td>1.0</td>\n",
       "    </tr>\n",
       "    <tr>\n",
       "      <th>7</th>\n",
       "      <td>j7</td>\n",
       "      <td>15.0</td>\n",
       "      <td>0.0</td>\n",
       "      <td>0.0</td>\n",
       "      <td>inf</td>\n",
       "      <td>1.0</td>\n",
       "    </tr>\n",
       "    <tr>\n",
       "      <th>8</th>\n",
       "      <td>j8</td>\n",
       "      <td>30.0</td>\n",
       "      <td>0.0</td>\n",
       "      <td>0.0</td>\n",
       "      <td>inf</td>\n",
       "      <td>1.0</td>\n",
       "    </tr>\n",
       "  </tbody>\n",
       "</table>\n",
       "</div>"
      ],
      "text/plain": [
       "    j  level  marginal  lower  upper  scale\n",
       "0  j0    0.0      -0.0    0.0    inf    1.0\n",
       "1  j1   20.0       0.0    0.0    inf    1.0\n",
       "2  j2    0.0     184.0    0.0    inf    1.0\n",
       "3  j3   30.0       0.0    0.0    inf    1.0\n",
       "4  j4    0.0       0.0    0.0    inf    1.0\n",
       "5  j5    0.0      56.0    0.0    inf    1.0\n",
       "6  j6    0.0      44.0    0.0    inf    1.0\n",
       "7  j7   15.0       0.0    0.0    inf    1.0\n",
       "8  j8   30.0       0.0    0.0    inf    1.0"
      ]
     },
     "execution_count": 8,
     "metadata": {},
     "output_type": "execute_result"
    }
   ],
   "source": [
    "x.records"
   ]
  },
  {
   "cell_type": "code",
   "execution_count": 9,
   "metadata": {},
   "outputs": [
    {
     "name": "stdout",
     "output_type": "stream",
     "text": [
      "Total cost will be 5760.0\n"
     ]
    }
   ],
   "source": [
    "print(f'Total cost will be {generic_model.objective_value}')"
   ]
  }
 ],
 "metadata": {
  "kernelspec": {
   "display_name": "test",
   "language": "python",
   "name": "python3"
  },
  "language_info": {
   "codemirror_mode": {
    "name": "ipython",
    "version": 3
   },
   "file_extension": ".py",
   "mimetype": "text/x-python",
   "name": "python",
   "nbconvert_exporter": "python",
   "pygments_lexer": "ipython3",
   "version": "3.11.5"
  }
 },
 "nbformat": 4,
 "nbformat_minor": 2
}
