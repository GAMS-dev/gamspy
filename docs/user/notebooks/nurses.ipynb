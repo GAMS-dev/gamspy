{
 "cells": [
  {
   "cell_type": "markdown",
   "metadata": {},
   "source": [
    "# Nurses Assignment Problem (NURSES)\n",
    "\n",
    "\n",
    "In this guide, we’ll explore the Nurses Assignment Problem (NURSES). The NURSES problem involves managing the assignment of nurses to shifts in a hospital.\n",
    "Nurses must be assigned to hospital shifts in accordance with various staffing constraints.\n",
    "\n",
    "The goal of the model is to find an efficient balance between the different objectives:\n",
    "\n",
    "* Minimize the overall cost of the plan and\n",
    "* Assign shifts as fairly as possible.\n",
    "\n",
    "The problem's algebraic representation typically takes the following format:\n",
    "\n",
    "### Indices:\n",
    "\n",
    "- $n$, $nn$ ; nurses\n",
    "- $s$, $ss$ ; shifts\n",
    "- $p_{n,n}$ ; Pair of nurses that prefer to work together\n",
    "- $i_{n,n}$ ; Pair of nurses that do not get along together\n",
    "- $v_{n,s}$ ; Vacations of nurses\n",
    "- $c_{s,s}$ ; Conflicting shifts\n",
    "\n",
    "### Given Data:\n",
    "\n",
    "- $d_s$ ; Duration of the shift $s$ in hours\n",
    "- $req_s$ ; Minimum required number of nurses in shift $s$\n",
    "- $r_n$ ; Pay rate for nurse $n$\n",
    "- $mt$ ; Maximum weekly hours a nurse can work -> 40\n",
    "\n",
    "### Decision Variables:\n",
    "\n",
    "- $X_{n,s}$ ; Assignment of nurses $n$ to shifts $s$ where $X_{n,s} \\in \\{0, 1\\}$   $\\forall n,s$\n",
    "- $Y_n$ ; Total working time of each nurse $n$ where $Y_n \\ge 0$   $\\forall n$\n",
    "- $Salary$ ; Total salaries spent\n",
    "\n",
    "### Constraints:\n",
    "\n",
    "- Eliminate conflicting shifts ${n,c_{s,ss}}$: $X_{n,s} + X_{n,ss} \\le 1$\n",
    "- vacations ${v_{n,s}}$: $X_{n,s} = 0$\n",
    "- preferences ${p_{n,nn}, s}$: $X_{n,s} = X_{nn,s}$\n",
    "- incompatibilities ${i_{n,nn}, s}$: $X_{n,s} + X_{nn,s} \\le 1$\n",
    "- working_time ${n}$: $Y_n = \\sum_s(X_{n,s} \\cdot d_s)$\n",
    "- max_working_time ${n}$: $Y_n \\le mt$\n",
    "- min_required_nurses ${s}$: $\\sum_n(X_{n,s}) \\ge req_s$\n",
    "- total_salary: Minimize $salary = \\sum_n(r_n \\cdot Y_n)$"
   ]
  },
  {
   "cell_type": "markdown",
   "metadata": {},
   "source": [
    "## Importing Modules\n",
    "The `gamspy` Python package is loaded in order to access GAMSPy syntax."
   ]
  },
  {
   "cell_type": "code",
   "execution_count": 1,
   "metadata": {},
   "outputs": [],
   "source": [
    "from gamspy import Container, Set, Alias, Parameter, Variable, Equation, Model, Sum\n",
    "import pandas as pd"
   ]
  },
  {
   "attachments": {},
   "cell_type": "markdown",
   "metadata": {},
   "source": [
    "## Read Data"
   ]
  },
  {
   "cell_type": "code",
   "execution_count": 2,
   "metadata": {},
   "outputs": [
    {
     "name": "stdout",
     "output_type": "stream",
     "text": [
      "#nurses = 32\n",
      "#shifts = 42\n"
     ]
    }
   ],
   "source": [
    "nurse_xls_file = pd.ExcelFile(\"nurses_data.xlsx\")\n",
    "\n",
    "df_shifts = nurse_xls_file.parse(\"Shifts\")\n",
    "# Rename df_shifts index\n",
    "df_shifts.index.name = \"shiftId\"\n",
    "\n",
    "# Index is column 0: name\n",
    "df_nurses = nurse_xls_file.parse(\"Nurses\", header=0, index_col=0)\n",
    "df_vacations = nurse_xls_file.parse(\"NurseVacations\")\n",
    "df_associations = nurse_xls_file.parse(\"NurseAssociations\")\n",
    "df_incompatibilities = nurse_xls_file.parse(\"NurseIncompatibilities\")\n",
    "\n",
    "# Display the nurses dataframe\n",
    "print(\"#nurses = {}\".format(len(df_nurses)))\n",
    "print(\"#shifts = {}\".format(len(df_shifts)))"
   ]
  },
  {
   "attachments": {},
   "cell_type": "markdown",
   "metadata": {},
   "source": [
    "## Data preprocessing"
   ]
  },
  {
   "attachments": {},
   "cell_type": "markdown",
   "metadata": {},
   "source": [
    "1. Add an extra column `dow` (day of week) which converts the string \"day\" into an integer in 0..6 (Monday is 0, Sunday is 6)."
   ]
  },
  {
   "cell_type": "code",
   "execution_count": 3,
   "metadata": {},
   "outputs": [],
   "source": [
    "days = [\"monday\", \"tuesday\", \"wednesday\", \"thursday\", \"friday\", \"saturday\", \"sunday\"]\n",
    "day_of_weeks = dict(zip(days, range(7)))\n",
    "\n",
    "\n",
    "# utility to convert a day string e.g. \"Monday\" to an integer in 0\n",
    "def day_to_day_of_week(day):\n",
    "    return day_of_weeks[day.strip().lower()]\n",
    "\n",
    "\n",
    "df_shifts[\"dow\"] = df_shifts.day.apply(day_to_day_of_week)"
   ]
  },
  {
   "attachments": {},
   "cell_type": "markdown",
   "metadata": {},
   "source": [
    "2. Compute the absolute start and end times of each shift."
   ]
  },
  {
   "cell_type": "code",
   "execution_count": 4,
   "metadata": {},
   "outputs": [],
   "source": [
    "# an auxiliary function to calculate absolute end time of a shift\n",
    "def calculate_absolute_endtime(start, end, dow):\n",
    "    return 24 * dow + end + (24 if start >= end else 0)\n",
    "\n",
    "\n",
    "df_shifts[\"wstart\"] = df_shifts.start_time + 24 * df_shifts.dow\n",
    "\n",
    "df_shifts[\"wend\"] = df_shifts.apply(\n",
    "    lambda row: calculate_absolute_endtime(row.start_time, row.end_time, row.dow),\n",
    "    axis=1,\n",
    ")"
   ]
  },
  {
   "attachments": {},
   "cell_type": "markdown",
   "metadata": {},
   "source": [
    "3. Compute the duration of each shift."
   ]
  },
  {
   "cell_type": "code",
   "execution_count": 5,
   "metadata": {},
   "outputs": [
    {
     "data": {
      "text/html": [
       "<div>\n",
       "<style scoped>\n",
       "    .dataframe tbody tr th:only-of-type {\n",
       "        vertical-align: middle;\n",
       "    }\n",
       "\n",
       "    .dataframe tbody tr th {\n",
       "        vertical-align: top;\n",
       "    }\n",
       "\n",
       "    .dataframe thead th {\n",
       "        text-align: right;\n",
       "    }\n",
       "</style>\n",
       "<table border=\"1\" class=\"dataframe\">\n",
       "  <thead>\n",
       "    <tr style=\"text-align: right;\">\n",
       "      <th></th>\n",
       "      <th>department</th>\n",
       "      <th>day</th>\n",
       "      <th>start_time</th>\n",
       "      <th>end_time</th>\n",
       "      <th>min_req</th>\n",
       "      <th>max_req</th>\n",
       "      <th>dow</th>\n",
       "      <th>wstart</th>\n",
       "      <th>wend</th>\n",
       "      <th>duration</th>\n",
       "    </tr>\n",
       "    <tr>\n",
       "      <th>shiftId</th>\n",
       "      <th></th>\n",
       "      <th></th>\n",
       "      <th></th>\n",
       "      <th></th>\n",
       "      <th></th>\n",
       "      <th></th>\n",
       "      <th></th>\n",
       "      <th></th>\n",
       "      <th></th>\n",
       "      <th></th>\n",
       "    </tr>\n",
       "  </thead>\n",
       "  <tbody>\n",
       "    <tr>\n",
       "      <th>0</th>\n",
       "      <td>Emergency</td>\n",
       "      <td>Monday</td>\n",
       "      <td>2</td>\n",
       "      <td>8</td>\n",
       "      <td>3</td>\n",
       "      <td>5</td>\n",
       "      <td>0</td>\n",
       "      <td>2</td>\n",
       "      <td>8</td>\n",
       "      <td>6</td>\n",
       "    </tr>\n",
       "    <tr>\n",
       "      <th>1</th>\n",
       "      <td>Emergency</td>\n",
       "      <td>Monday</td>\n",
       "      <td>8</td>\n",
       "      <td>12</td>\n",
       "      <td>4</td>\n",
       "      <td>7</td>\n",
       "      <td>0</td>\n",
       "      <td>8</td>\n",
       "      <td>12</td>\n",
       "      <td>4</td>\n",
       "    </tr>\n",
       "    <tr>\n",
       "      <th>2</th>\n",
       "      <td>Emergency</td>\n",
       "      <td>Monday</td>\n",
       "      <td>12</td>\n",
       "      <td>18</td>\n",
       "      <td>2</td>\n",
       "      <td>5</td>\n",
       "      <td>0</td>\n",
       "      <td>12</td>\n",
       "      <td>18</td>\n",
       "      <td>6</td>\n",
       "    </tr>\n",
       "    <tr>\n",
       "      <th>3</th>\n",
       "      <td>Emergency</td>\n",
       "      <td>Monday</td>\n",
       "      <td>18</td>\n",
       "      <td>2</td>\n",
       "      <td>3</td>\n",
       "      <td>7</td>\n",
       "      <td>0</td>\n",
       "      <td>18</td>\n",
       "      <td>26</td>\n",
       "      <td>8</td>\n",
       "    </tr>\n",
       "    <tr>\n",
       "      <th>4</th>\n",
       "      <td>Consultation</td>\n",
       "      <td>Monday</td>\n",
       "      <td>8</td>\n",
       "      <td>12</td>\n",
       "      <td>10</td>\n",
       "      <td>13</td>\n",
       "      <td>0</td>\n",
       "      <td>8</td>\n",
       "      <td>12</td>\n",
       "      <td>4</td>\n",
       "    </tr>\n",
       "  </tbody>\n",
       "</table>\n",
       "</div>"
      ],
      "text/plain": [
       "           department     day  start_time  end_time  min_req  max_req  dow  \\\n",
       "shiftId                                                                      \n",
       "0           Emergency  Monday           2         8        3        5    0   \n",
       "1           Emergency  Monday           8        12        4        7    0   \n",
       "2           Emergency  Monday          12        18        2        5    0   \n",
       "3           Emergency  Monday          18         2        3        7    0   \n",
       "4        Consultation  Monday           8        12       10       13    0   \n",
       "\n",
       "         wstart  wend  duration  \n",
       "shiftId                          \n",
       "0             2     8         6  \n",
       "1             8    12         4  \n",
       "2            12    18         6  \n",
       "3            18    26         8  \n",
       "4             8    12         4  "
      ]
     },
     "execution_count": 5,
     "metadata": {},
     "output_type": "execute_result"
    }
   ],
   "source": [
    "df_shifts[\"duration\"] = df_shifts.wend - df_shifts.wstart\n",
    "\n",
    "df_shifts.head()"
   ]
  },
  {
   "cell_type": "code",
   "execution_count": 6,
   "metadata": {},
   "outputs": [
    {
     "data": {
      "text/html": [
       "<div>\n",
       "<style scoped>\n",
       "    .dataframe tbody tr th:only-of-type {\n",
       "        vertical-align: middle;\n",
       "    }\n",
       "\n",
       "    .dataframe tbody tr th {\n",
       "        vertical-align: top;\n",
       "    }\n",
       "\n",
       "    .dataframe thead th {\n",
       "        text-align: right;\n",
       "    }\n",
       "</style>\n",
       "<table border=\"1\" class=\"dataframe\">\n",
       "  <thead>\n",
       "    <tr style=\"text-align: right;\">\n",
       "      <th></th>\n",
       "      <th>nurse</th>\n",
       "      <th>shiftId</th>\n",
       "    </tr>\n",
       "  </thead>\n",
       "  <tbody>\n",
       "    <tr>\n",
       "      <th>0</th>\n",
       "      <td>Anne</td>\n",
       "      <td>29</td>\n",
       "    </tr>\n",
       "    <tr>\n",
       "      <th>1</th>\n",
       "      <td>Anne</td>\n",
       "      <td>30</td>\n",
       "    </tr>\n",
       "    <tr>\n",
       "      <th>2</th>\n",
       "      <td>Anne</td>\n",
       "      <td>31</td>\n",
       "    </tr>\n",
       "    <tr>\n",
       "      <th>3</th>\n",
       "      <td>Anne</td>\n",
       "      <td>32</td>\n",
       "    </tr>\n",
       "    <tr>\n",
       "      <th>4</th>\n",
       "      <td>Anne</td>\n",
       "      <td>33</td>\n",
       "    </tr>\n",
       "  </tbody>\n",
       "</table>\n",
       "</div>"
      ],
      "text/plain": [
       "  nurse  shiftId\n",
       "0  Anne       29\n",
       "1  Anne       30\n",
       "2  Anne       31\n",
       "3  Anne       32\n",
       "4  Anne       33"
      ]
     },
     "execution_count": 6,
     "metadata": {},
     "output_type": "execute_result"
    }
   ],
   "source": [
    "df_vacations[\"dow\"] = df_vacations.day.apply(day_to_day_of_week)\n",
    "\n",
    "nurse_vacations = df_vacations.merge(df_shifts.reset_index()[[\"dow\", \"shiftId\"]])[\n",
    "    [\"nurse\", \"shiftId\"]\n",
    "]\n",
    "nurse_vacations.head()"
   ]
  },
  {
   "cell_type": "code",
   "execution_count": 7,
   "metadata": {},
   "outputs": [
    {
     "data": {
      "text/plain": [
       "[(1, 4),\n",
       " (1, 6),\n",
       " (4, 6),\n",
       " (2, 5),\n",
       " (2, 7),\n",
       " (5, 7),\n",
       " (9, 14),\n",
       " (9, 12),\n",
       " (14, 12),\n",
       " (15, 10),\n",
       " (15, 13),\n",
       " (10, 13),\n",
       " (11, 16),\n",
       " (18, 21),\n",
       " (22, 19),\n",
       " (24, 27),\n",
       " (25, 28),\n",
       " (30, 33),\n",
       " (31, 34),\n",
       " (38, 41)]"
      ]
     },
     "execution_count": 7,
     "metadata": {},
     "output_type": "execute_result"
    }
   ],
   "source": [
    "proc_shifts = (\n",
    "    df_shifts[[\"wstart\", \"wend\"]]\n",
    "    .sort_values([\"wstart\"])\n",
    "    .reset_index()[[\"shiftId\", \"wstart\", \"wend\"]]\n",
    ")\n",
    "\n",
    "\n",
    "conflicting_shifts = []\n",
    "\n",
    "\n",
    "cnt = 0\n",
    "\n",
    "\n",
    "for row in proc_shifts.itertuples():\n",
    "\n",
    "    for row2 in proc_shifts.iloc[row[0] + 1 :].itertuples():\n",
    "\n",
    "        if row.wend > row2.wstart:\n",
    "\n",
    "            conflicting_shifts.append((row.shiftId, row2.shiftId))\n",
    "\n",
    "\n",
    "\n",
    "conflicting_shifts"
   ]
  },
  {
   "cell_type": "code",
   "execution_count": 8,
   "metadata": {},
   "outputs": [],
   "source": [
    "# Define shift ids and nurse names\n",
    "shifts_id = df_shifts.index\n",
    "nurses_names = df_nurses.index"
   ]
  },
  {
   "cell_type": "markdown",
   "metadata": {},
   "source": [
    "## Model"
   ]
  },
  {
   "cell_type": "code",
   "execution_count": 9,
   "metadata": {},
   "outputs": [],
   "source": [
    "# Define container\n",
    "m = Container()"
   ]
  },
  {
   "cell_type": "code",
   "execution_count": 10,
   "metadata": {},
   "outputs": [],
   "source": [
    "# Sets\n",
    "n = Set(m, name=\"n\", records=nurses_names, description=\"Nurses\")\n",
    "s = Set(m, name=\"s\", records=shifts_id, description=\"Shifts\")\n",
    "\n",
    "nn = Alias(m, \"nn\", n)\n",
    "ss = Alias(m, \"ss\", s)\n",
    "\n",
    "p = Set(\n",
    "    m,\n",
    "    name=\"p\",\n",
    "    domain=[n, n],\n",
    "    records=df_associations,\n",
    "    description=\"Pair of nurses that prefer to work together\",\n",
    ")\n",
    "i = Set(\n",
    "    m,\n",
    "    name=\"i\",\n",
    "    domain=[n, n],\n",
    "    records=df_incompatibilities,\n",
    "    description=\"Pair of nurses that dont get along together\",\n",
    ")\n",
    "v = Set(\n",
    "    m,\n",
    "    name=\"v\",\n",
    "    domain=[n, s],\n",
    "    records=nurse_vacations,\n",
    "    description=\"Vacations of nurses\",\n",
    ")\n",
    "c = Set(\n",
    "    m,\n",
    "    name=\"c\",\n",
    "    domain=[s, s],\n",
    "    records=conflicting_shifts,\n",
    "    description=\"Conflicting shifts\",\n",
    ")"
   ]
  },
  {
   "cell_type": "code",
   "execution_count": 11,
   "metadata": {},
   "outputs": [],
   "source": [
    "# Parameters\n",
    "d = Parameter(\n",
    "    m,\n",
    "    name=\"d\",\n",
    "    domain=s,\n",
    "    records=df_shifts[\"duration\"],\n",
    "    description=\"Duration of the shifts    (hours)\",\n",
    ")\n",
    "req = Parameter(\n",
    "    m,\n",
    "    name=\"req\",\n",
    "    domain=s,\n",
    "    records=df_shifts[\"min_req\"],\n",
    "    description=\"Minimum required number of nurses in each shift\",\n",
    ")\n",
    "r = Parameter(\n",
    "    m,\n",
    "    name=\"r\",\n",
    "    domain=n,\n",
    "    records=df_nurses[\"pay_rate\"],\n",
    "    description=\"Pay rate for each nurse\",\n",
    ")\n",
    "mt = Parameter(\n",
    "    m, name=\"mt\", records=40, description=\"Maximum weekly hours a nurse can work\"\n",
    ")"
   ]
  },
  {
   "cell_type": "code",
   "execution_count": 12,
   "metadata": {},
   "outputs": [],
   "source": [
    "# Variables\n",
    "x = Variable(\n",
    "    m,\n",
    "    name=\"x\",\n",
    "    domain=[n, s],\n",
    "    type=\"Binary\",\n",
    "    description=\"Assignment of nurses to shifts\",\n",
    ")\n",
    "y = Variable(\n",
    "    m,\n",
    "    name=\"y\",\n",
    "    domain=n,\n",
    "    type=\"Positive\",\n",
    "    description=\"Total working time of each nurse\",\n",
    ")\n",
    "salary = Variable(m, name=\"salary\", type=\"free\", description=\"Total salaries spent\")"
   ]
  },
  {
   "cell_type": "code",
   "execution_count": 13,
   "metadata": {},
   "outputs": [],
   "source": [
    "# Equations\n",
    "conflicts = Equation(\n",
    "    m,\n",
    "    name=\"conflicts\",\n",
    "    domain=[n, s, s],\n",
    "    description=\"A nurse cannot work in two conflicting shifts\",\n",
    ")\n",
    "vacations = Equation(\n",
    "    m,\n",
    "    name=\"vacations\",\n",
    "    domain=[n, s],\n",
    "    description=\"Nurses cannot work in their vacations\",\n",
    ")\n",
    "preferences = Equation(\n",
    "    m,\n",
    "    name=\"preferences\",\n",
    "    domain=[n, n, s],\n",
    "    description=\"Nurses that prefer to work together should work together\",\n",
    ")\n",
    "incompatibilities = Equation(\n",
    "    m,\n",
    "    name=\"incompatibilities\",\n",
    "    domain=[n, n, s],\n",
    "    description=\"Nurses that dont get along together should not work together\",\n",
    ")\n",
    "working_time = Equation(\n",
    "    m, name=\"working_time\", domain=n, description=\"Total working time of each nurse\"\n",
    ")\n",
    "max_working_time = Equation(\n",
    "    m,\n",
    "    name=\"max_working_time\",\n",
    "    domain=n,\n",
    "    description=\"Maximum working time of each nurse\",\n",
    ")\n",
    "min_required_nurses = Equation(\n",
    "    m,\n",
    "    name=\"min_required_nurses\",\n",
    "    domain=s,\n",
    "    description=\"Minimum required number of nurses in each shift\",\n",
    ")\n",
    "total_salary = Equation(\n",
    "    m, name=\"total_salary\", description=\"Minimize total salaries spent\"\n",
    ")"
   ]
  },
  {
   "cell_type": "code",
   "execution_count": 14,
   "metadata": {},
   "outputs": [],
   "source": [
    "conflicts[n, s, ss].where[c[s, ss]] = x[n, s] + x[n, ss] <= 1\n",
    "\n",
    "vacations[n, s].where[v[n, s]] = x[n, s] == 0\n",
    "\n",
    "preferences[n, nn, s].where[p[n, nn]] = x[n, s] == x[nn, s]\n",
    "\n",
    "incompatibilities[i[n, nn], s] = x[n, s] + x[nn, s] <= 1\n",
    "\n",
    "working_time[n] = y[n] == Sum(s, x[n, s] * d[s])\n",
    "\n",
    "max_working_time[n] = y[n] <= mt\n",
    "\n",
    "min_required_nurses[s] = Sum(n, x[n, s]) >= req[s]\n",
    "\n",
    "total_salary[...] = salary == Sum(n, r[n] * y[n])"
   ]
  },
  {
   "cell_type": "code",
   "execution_count": 15,
   "metadata": {},
   "outputs": [
    {
     "data": {
      "text/html": [
       "<div>\n",
       "<style scoped>\n",
       "    .dataframe tbody tr th:only-of-type {\n",
       "        vertical-align: middle;\n",
       "    }\n",
       "\n",
       "    .dataframe tbody tr th {\n",
       "        vertical-align: top;\n",
       "    }\n",
       "\n",
       "    .dataframe thead th {\n",
       "        text-align: right;\n",
       "    }\n",
       "</style>\n",
       "<table border=\"1\" class=\"dataframe\">\n",
       "  <thead>\n",
       "    <tr style=\"text-align: right;\">\n",
       "      <th></th>\n",
       "      <th>Solver Status</th>\n",
       "      <th>Model Status</th>\n",
       "      <th>Objective</th>\n",
       "      <th>Num of Equations</th>\n",
       "      <th>Num of Variables</th>\n",
       "      <th>Model Type</th>\n",
       "      <th>Solver</th>\n",
       "      <th>Solver Time</th>\n",
       "    </tr>\n",
       "  </thead>\n",
       "  <tbody>\n",
       "    <tr>\n",
       "      <th>0</th>\n",
       "      <td>Normal</td>\n",
       "      <td>OptimalGlobal</td>\n",
       "      <td>29508</td>\n",
       "      <td>1643</td>\n",
       "      <td>1377</td>\n",
       "      <td>MIP</td>\n",
       "      <td>CPLEX</td>\n",
       "      <td>0.236</td>\n",
       "    </tr>\n",
       "  </tbody>\n",
       "</table>\n",
       "</div>"
      ],
      "text/plain": [
       "  Solver Status   Model Status Objective Num of Equations Num of Variables  \\\n",
       "0        Normal  OptimalGlobal     29508             1643             1377   \n",
       "\n",
       "  Model Type Solver Solver Time  \n",
       "0        MIP  CPLEX       0.236  "
      ]
     },
     "execution_count": 15,
     "metadata": {},
     "output_type": "execute_result"
    }
   ],
   "source": [
    "nurses = Model(\n",
    "    m,\n",
    "    name=\"nurses\",\n",
    "    problem=\"MIP\",\n",
    "    equations=m.getEquations(),\n",
    "    sense=\"Min\",\n",
    "    objective=salary,\n",
    ")\n",
    "\n",
    "\n",
    "\n",
    "nurses.solve()"
   ]
  },
  {
   "cell_type": "code",
   "execution_count": 16,
   "metadata": {},
   "outputs": [],
   "source": [
    "sd_shifts1 = x.pivot().sum(axis=1).std()\n",
    "sd_hours1 = y.records[[\"n\", \"level\"]].set_index(y.records[\"n\"])[\"level\"].std()"
   ]
  },
  {
   "cell_type": "markdown",
   "metadata": {},
   "source": [
    "### Investigate the solution and then run an example analysis\n",
    "\n",
    "We take advantage of *pandas* to analyze the results. First we store the solution values of the assignment variables into a new *pandas* Series."
   ]
  },
  {
   "cell_type": "code",
   "execution_count": 17,
   "metadata": {},
   "outputs": [
    {
     "data": {
      "text/html": [
       "<div>\n",
       "<style scoped>\n",
       "    .dataframe tbody tr th:only-of-type {\n",
       "        vertical-align: middle;\n",
       "    }\n",
       "\n",
       "    .dataframe tbody tr th {\n",
       "        vertical-align: top;\n",
       "    }\n",
       "\n",
       "    .dataframe thead th {\n",
       "        text-align: right;\n",
       "    }\n",
       "</style>\n",
       "<table border=\"1\" class=\"dataframe\">\n",
       "  <thead>\n",
       "    <tr style=\"text-align: right;\">\n",
       "      <th></th>\n",
       "      <th>0</th>\n",
       "      <th>1</th>\n",
       "      <th>2</th>\n",
       "      <th>3</th>\n",
       "      <th>4</th>\n",
       "      <th>5</th>\n",
       "      <th>6</th>\n",
       "      <th>7</th>\n",
       "      <th>8</th>\n",
       "      <th>9</th>\n",
       "      <th>...</th>\n",
       "      <th>32</th>\n",
       "      <th>33</th>\n",
       "      <th>34</th>\n",
       "      <th>35</th>\n",
       "      <th>36</th>\n",
       "      <th>37</th>\n",
       "      <th>38</th>\n",
       "      <th>39</th>\n",
       "      <th>40</th>\n",
       "      <th>41</th>\n",
       "    </tr>\n",
       "  </thead>\n",
       "  <tbody>\n",
       "    <tr>\n",
       "      <th>Anne</th>\n",
       "      <td>0.0</td>\n",
       "      <td>1.0</td>\n",
       "      <td>0.0</td>\n",
       "      <td>0.0</td>\n",
       "      <td>0.0</td>\n",
       "      <td>0.0</td>\n",
       "      <td>0.0</td>\n",
       "      <td>1.0</td>\n",
       "      <td>0.0</td>\n",
       "      <td>0.0</td>\n",
       "      <td>...</td>\n",
       "      <td>0.0</td>\n",
       "      <td>0.0</td>\n",
       "      <td>0.0</td>\n",
       "      <td>0.0</td>\n",
       "      <td>0.0</td>\n",
       "      <td>0.0</td>\n",
       "      <td>0.0</td>\n",
       "      <td>0.0</td>\n",
       "      <td>0.0</td>\n",
       "      <td>0.0</td>\n",
       "    </tr>\n",
       "    <tr>\n",
       "      <th>Bethanie</th>\n",
       "      <td>0.0</td>\n",
       "      <td>0.0</td>\n",
       "      <td>0.0</td>\n",
       "      <td>0.0</td>\n",
       "      <td>1.0</td>\n",
       "      <td>1.0</td>\n",
       "      <td>0.0</td>\n",
       "      <td>0.0</td>\n",
       "      <td>0.0</td>\n",
       "      <td>0.0</td>\n",
       "      <td>...</td>\n",
       "      <td>1.0</td>\n",
       "      <td>0.0</td>\n",
       "      <td>1.0</td>\n",
       "      <td>0.0</td>\n",
       "      <td>0.0</td>\n",
       "      <td>0.0</td>\n",
       "      <td>1.0</td>\n",
       "      <td>0.0</td>\n",
       "      <td>0.0</td>\n",
       "      <td>0.0</td>\n",
       "    </tr>\n",
       "    <tr>\n",
       "      <th>Betsy</th>\n",
       "      <td>0.0</td>\n",
       "      <td>0.0</td>\n",
       "      <td>0.0</td>\n",
       "      <td>0.0</td>\n",
       "      <td>0.0</td>\n",
       "      <td>0.0</td>\n",
       "      <td>0.0</td>\n",
       "      <td>0.0</td>\n",
       "      <td>0.0</td>\n",
       "      <td>0.0</td>\n",
       "      <td>...</td>\n",
       "      <td>0.0</td>\n",
       "      <td>1.0</td>\n",
       "      <td>0.0</td>\n",
       "      <td>0.0</td>\n",
       "      <td>0.0</td>\n",
       "      <td>1.0</td>\n",
       "      <td>1.0</td>\n",
       "      <td>1.0</td>\n",
       "      <td>0.0</td>\n",
       "      <td>0.0</td>\n",
       "    </tr>\n",
       "    <tr>\n",
       "      <th>Cathy</th>\n",
       "      <td>0.0</td>\n",
       "      <td>0.0</td>\n",
       "      <td>0.0</td>\n",
       "      <td>0.0</td>\n",
       "      <td>1.0</td>\n",
       "      <td>0.0</td>\n",
       "      <td>0.0</td>\n",
       "      <td>1.0</td>\n",
       "      <td>0.0</td>\n",
       "      <td>0.0</td>\n",
       "      <td>...</td>\n",
       "      <td>0.0</td>\n",
       "      <td>0.0</td>\n",
       "      <td>1.0</td>\n",
       "      <td>0.0</td>\n",
       "      <td>1.0</td>\n",
       "      <td>1.0</td>\n",
       "      <td>0.0</td>\n",
       "      <td>0.0</td>\n",
       "      <td>0.0</td>\n",
       "      <td>0.0</td>\n",
       "    </tr>\n",
       "    <tr>\n",
       "      <th>Cecilia</th>\n",
       "      <td>0.0</td>\n",
       "      <td>0.0</td>\n",
       "      <td>0.0</td>\n",
       "      <td>0.0</td>\n",
       "      <td>0.0</td>\n",
       "      <td>0.0</td>\n",
       "      <td>1.0</td>\n",
       "      <td>0.0</td>\n",
       "      <td>0.0</td>\n",
       "      <td>1.0</td>\n",
       "      <td>...</td>\n",
       "      <td>0.0</td>\n",
       "      <td>0.0</td>\n",
       "      <td>0.0</td>\n",
       "      <td>0.0</td>\n",
       "      <td>0.0</td>\n",
       "      <td>1.0</td>\n",
       "      <td>0.0</td>\n",
       "      <td>1.0</td>\n",
       "      <td>1.0</td>\n",
       "      <td>0.0</td>\n",
       "    </tr>\n",
       "  </tbody>\n",
       "</table>\n",
       "<p>5 rows × 42 columns</p>\n",
       "</div>"
      ],
      "text/plain": [
       "            0    1    2    3    4    5    6    7    8    9  ...   32   33  \\\n",
       "Anne      0.0  1.0  0.0  0.0  0.0  0.0  0.0  1.0  0.0  0.0  ...  0.0  0.0   \n",
       "Bethanie  0.0  0.0  0.0  0.0  1.0  1.0  0.0  0.0  0.0  0.0  ...  1.0  0.0   \n",
       "Betsy     0.0  0.0  0.0  0.0  0.0  0.0  0.0  0.0  0.0  0.0  ...  0.0  1.0   \n",
       "Cathy     0.0  0.0  0.0  0.0  1.0  0.0  0.0  1.0  0.0  0.0  ...  0.0  0.0   \n",
       "Cecilia   0.0  0.0  0.0  0.0  0.0  0.0  1.0  0.0  0.0  1.0  ...  0.0  0.0   \n",
       "\n",
       "           34   35   36   37   38   39   40   41  \n",
       "Anne      0.0  0.0  0.0  0.0  0.0  0.0  0.0  0.0  \n",
       "Bethanie  1.0  0.0  0.0  0.0  1.0  0.0  0.0  0.0  \n",
       "Betsy     0.0  0.0  0.0  1.0  1.0  1.0  0.0  0.0  \n",
       "Cathy     1.0  0.0  1.0  1.0  0.0  0.0  0.0  0.0  \n",
       "Cecilia   0.0  0.0  0.0  1.0  0.0  1.0  1.0  0.0  \n",
       "\n",
       "[5 rows x 42 columns]"
      ]
     },
     "execution_count": 17,
     "metadata": {},
     "output_type": "execute_result"
    }
   ],
   "source": [
    "x.pivot().head()"
   ]
  },
  {
   "cell_type": "markdown",
   "metadata": {},
   "source": [
    "#### Analyzing how worktime is distributed\n",
    "\n",
    "Let's analyze how worktime is distributed among nurses in terms of shifts"
   ]
  },
  {
   "cell_type": "code",
   "execution_count": 18,
   "metadata": {},
   "outputs": [
    {
     "data": {
      "text/plain": [
       "<Axes: title={'center': 'Number of shifts per nurse'}>"
      ]
     },
     "execution_count": 18,
     "metadata": {},
     "output_type": "execute_result"
    },
    {
     "data": {
      "image/png": "[encoded data removed]",
      "text/plain": [
       "<Figure size 1000x500 with 1 Axes>"
      ]
     },
     "metadata": {},
     "output_type": "display_data"
    }
   ],
   "source": [
    "x.pivot().sum(axis=1).plot(\n",
    "    kind=\"bar\", title=\"Number of shifts per nurse\", figsize=(10, 5)\n",
    ")"
   ]
  },
  {
   "cell_type": "markdown",
   "metadata": {},
   "source": [
    "To see how work time is distributed among nurses, plot a barchart of work time values."
   ]
  },
  {
   "cell_type": "code",
   "execution_count": 19,
   "metadata": {},
   "outputs": [
    {
     "data": {
      "text/plain": [
       "<Axes: title={'center': 'Total working time per nurse'}, xlabel='n'>"
      ]
     },
     "execution_count": 19,
     "metadata": {},
     "output_type": "execute_result"
    },
    {
     "data": {
      "image/png": "[encoded data removed]",
      "text/plain": [
       "<Figure size 1000x800 with 1 Axes>"
      ]
     },
     "metadata": {},
     "output_type": "display_data"
    }
   ],
   "source": [
    "y.records[[\"n\", \"level\"]].plot(\n",
    "    kind=\"bar\", x=\"n\", y=\"level\", title=\"Total working time per nurse\", figsize=(10, 8)\n",
    ")"
   ]
  },
  {
   "cell_type": "markdown",
   "metadata": {},
   "source": [
    "We see that one nurse (Chris) works significantly fewer hours than others do. Therefore, the distribution of shifts could be improved.\n",
    "We implement this by modifying the objective function to enforce balancing the shifts assigned over nurses.\n",
    "\n",
    "Note that we can edit the model, that  is add (or remove) constraints, even after it has been solved. \n",
    "\n",
    "We add the following to our initial model:\n",
    "\n",
    "### Parameters:\n",
    "\n",
    "- $avgShifts$ ; Theoretical Average number of shifts per nurse -> Shifts required / #nurses\n",
    "\n",
    "### Decision Variables:\n",
    "\n",
    "- $worked_n$ ; Amount of shifts worked by nurse $n$ where $worked_n \\ge 0$   $\\forall n$\n",
    "- $overworked_n$ ; Overworked shifts by nurse $n$ where $worked_n \\ge 0$   $\\forall n$\n",
    "- $underworked_n$ ; Underworked shifts by nurse $n$ where $worked_n \\ge 0$   $\\forall n$\n",
    "\n",
    "### Constraints:\n",
    "\n",
    "- workedCons ${n}$: $worked_n = \\sum_s(x_{n,s})$\n",
    "- deviation ${n}$: $worked_n = avgShifts + overworked_n - underworked_n$\n",
    "- newObj: Minimize $salary + \\sum_n(overworked_n) + \\sum_n(underworked_n)$"
   ]
  },
  {
   "cell_type": "code",
   "execution_count": 20,
   "metadata": {},
   "outputs": [],
   "source": [
    "avg_shifts = Parameter(\n",
    "    m, name=\"avg_shifts\", description=\"Theoretical Average number of shifts per nurse\"\n",
    ")\n",
    "\n",
    "\n",
    "avg_shifts[...] = Sum(s, req[s]) / len(nurses_names)"
   ]
  },
  {
   "cell_type": "code",
   "execution_count": 21,
   "metadata": {},
   "outputs": [],
   "source": [
    "worked = Variable(\n",
    "    m,\n",
    "    name=\"worked\",\n",
    "    domain=n,\n",
    "    type=\"positive\",\n",
    "    description=\"Amount of shifts worked by each nurse\",\n",
    ")\n",
    "\n",
    "\n",
    "overworked = Variable(\n",
    "    m,\n",
    "    name=\"overworked\",\n",
    "    domain=n,\n",
    "    type=\"positive\",\n",
    "    description=\"Overworked shifts by each nurse\",\n",
    ")\n",
    "\n",
    "\n",
    "underworked = Variable(\n",
    "    m,\n",
    "    name=\"underworked\",\n",
    "    domain=n,\n",
    "    type=\"positive\",\n",
    "    description=\"Underworked shifts by each nurse\",\n",
    ")"
   ]
  },
  {
   "cell_type": "code",
   "execution_count": 22,
   "metadata": {},
   "outputs": [],
   "source": [
    "# Equations\n",
    "worked_eq = Equation(\n",
    "    m,\n",
    "    name=\"worked_eq\",\n",
    "    domain=n,\n",
    "    description=\"Define the amount of shifts worked by each nurse\",\n",
    ")\n",
    "deviation = Equation(\n",
    "    m,\n",
    "    name=\"deviation\",\n",
    "    domain=n,\n",
    "    description=\"Define the deviation of each nurse from the average\",\n",
    ")"
   ]
  },
  {
   "cell_type": "code",
   "execution_count": 23,
   "metadata": {},
   "outputs": [],
   "source": [
    "worked_eq[n] = worked[n] == Sum(s, x[n, s])\n",
    "deviation[n] = worked[n] == avg_shifts + overworked[n] - underworked[n]\n",
    "\n",
    "new_obj = salary + Sum(n, overworked[n]) + Sum(n, underworked[n])"
   ]
  },
  {
   "cell_type": "code",
   "execution_count": 24,
   "metadata": {},
   "outputs": [],
   "source": [
    "nurses2 = Model(\n",
    "    m,\n",
    "    name=\"nurses2\",\n",
    "    problem=\"MIP\",\n",
    "    equations=m.getEquations(),\n",
    "    sense=\"Min\",\n",
    "    objective=new_obj,\n",
    ")"
   ]
  },
  {
   "cell_type": "code",
   "execution_count": 25,
   "metadata": {},
   "outputs": [
    {
     "data": {
      "text/html": [
       "<div>\n",
       "<style scoped>\n",
       "    .dataframe tbody tr th:only-of-type {\n",
       "        vertical-align: middle;\n",
       "    }\n",
       "\n",
       "    .dataframe tbody tr th {\n",
       "        vertical-align: top;\n",
       "    }\n",
       "\n",
       "    .dataframe thead th {\n",
       "        text-align: right;\n",
       "    }\n",
       "</style>\n",
       "<table border=\"1\" class=\"dataframe\">\n",
       "  <thead>\n",
       "    <tr style=\"text-align: right;\">\n",
       "      <th></th>\n",
       "      <th>Solver Status</th>\n",
       "      <th>Model Status</th>\n",
       "      <th>Objective</th>\n",
       "      <th>Num of Equations</th>\n",
       "      <th>Num of Variables</th>\n",
       "      <th>Model Type</th>\n",
       "      <th>Solver</th>\n",
       "      <th>Solver Time</th>\n",
       "    </tr>\n",
       "  </thead>\n",
       "  <tbody>\n",
       "    <tr>\n",
       "      <th>0</th>\n",
       "      <td>Normal</td>\n",
       "      <td>OptimalGlobal</td>\n",
       "      <td>29509.9375</td>\n",
       "      <td>1708</td>\n",
       "      <td>1474</td>\n",
       "      <td>MIP</td>\n",
       "      <td>CPLEX</td>\n",
       "      <td>0.244</td>\n",
       "    </tr>\n",
       "  </tbody>\n",
       "</table>\n",
       "</div>"
      ],
      "text/plain": [
       "  Solver Status   Model Status   Objective Num of Equations Num of Variables  \\\n",
       "0        Normal  OptimalGlobal  29509.9375             1708             1474   \n",
       "\n",
       "  Model Type Solver Solver Time  \n",
       "0        MIP  CPLEX       0.244  "
      ]
     },
     "execution_count": 25,
     "metadata": {},
     "output_type": "execute_result"
    }
   ],
   "source": [
    "nurses2.solve()"
   ]
  },
  {
   "cell_type": "code",
   "execution_count": 26,
   "metadata": {},
   "outputs": [],
   "source": [
    "sd_shifts2 = x.pivot().sum(axis=1).std()\n",
    "sd_hours2 = y.records[[\"n\", \"level\"]].set_index(y.records[\"n\"])[\"level\"].std()"
   ]
  },
  {
   "cell_type": "code",
   "execution_count": 27,
   "metadata": {},
   "outputs": [
    {
     "data": {
      "text/plain": [
       "<Axes: title={'center': 'Number of shifts per nurse'}>"
      ]
     },
     "execution_count": 27,
     "metadata": {},
     "output_type": "execute_result"
    },
    {
     "data": {
      "image/png": "[encoded data removed]",
      "text/plain": [
       "<Figure size 1000x500 with 1 Axes>"
      ]
     },
     "metadata": {},
     "output_type": "display_data"
    }
   ],
   "source": [
    "x.pivot().sum(axis=1).plot(\n",
    "    kind=\"bar\", title=\"Number of shifts per nurse\", figsize=(10, 5)\n",
    ")"
   ]
  },
  {
   "cell_type": "code",
   "execution_count": 28,
   "metadata": {},
   "outputs": [
    {
     "data": {
      "text/plain": [
       "<Axes: title={'center': 'Total working time per nurse'}, xlabel='n'>"
      ]
     },
     "execution_count": 28,
     "metadata": {},
     "output_type": "execute_result"
    },
    {
     "data": {
      "image/png": "[encoded data removed]",
      "text/plain": [
       "<Figure size 1000x800 with 1 Axes>"
      ]
     },
     "metadata": {},
     "output_type": "display_data"
    }
   ],
   "source": [
    "y.records[[\"n\", \"level\"]].plot(\n",
    "    kind=\"bar\", x=\"n\", y=\"level\", title=\"Total working time per nurse\", figsize=(10, 8)\n",
    ")"
   ]
  },
  {
   "cell_type": "markdown",
   "metadata": {},
   "source": [
    "The second model enforced fairness of assignment by introducing additional constraints and modifying the objective function. \n",
    "\n",
    "First, the model calculated the theoretical average number of shifts per nurse (`avg_shifts`) by dividing the total number of shifts required by the number of nurses. This value represents the ideal distribution of shifts among nurses.\n",
    "\n",
    "Next, the model introduced three new decision variables: `worked`, `overworked`, and `underworked`. \n",
    "\n",
    "- `worked` represents the actual number of shifts worked by each nurse, calculated as the sum of assigned shifts (`x`) for each nurse.\n",
    "- `overworked` represents the number of shifts that a nurse is assigned above the average number of shifts per nurse.\n",
    "- `underworked` represents the number of shifts that a nurse is assigned below the average number of shifts per nurse.\n",
    "\n",
    "The model then added two new equations to enforce fairness:\n",
    "- The `worked_eq` equation ensures that the `worked` variable is equal to the sum of assigned shifts for each nurse.\n",
    "- The `deviation` equation calculates the deviation of each nurse from the average number of shifts. It states that the `worked` variable should be equal to the `avg_shifts` plus the `overworked` variable minus the `underworked` variable.\n",
    "\n",
    "Finally, the objective function was modified to minimize the total salaries spent (`salary`) while also considering the sum of `overworked` and `underworked` shifts. This ensures that the model not only minimizes costs but also balances the distribution of shifts among nurses.\n",
    "\n",
    "By introducing these constraints and modifying the objective function, the second model enforced fairness in the assignment of shifts. This can be observed in the plots generated after solving the model. The first plot shows the number of shifts per nurse, indicating a more balanced distribution compared to the initial model. The second plot displays the total working time per nurse, reflecting a more equitable allocation of shifts among nurses."
   ]
  },
  {
   "cell_type": "code",
   "execution_count": 29,
   "metadata": {},
   "outputs": [
    {
     "name": "stdout",
     "output_type": "stream",
     "text": [
      "\n",
      "Results summary:\n",
      "        Total Salaries  sd of # shifts  sd of # hours\n",
      "Model1         29508.0        0.782237       2.474874\n",
      "Model2         29508.0        0.176777       1.412787\n"
     ]
    }
   ],
   "source": [
    "# Display the results\n",
    "report = Parameter(m, name=\"report\", domain=[\"*\", \"*\"], description=\"Result summary\")\n",
    "report[\"Model1\", \"Total Salaries\"] = nurses.objective_value\n",
    "report[\"Model1\", \"sd of # shifts\"] = sd_shifts1\n",
    "report[\"Model1\", \"sd of # hours\"] = sd_hours1\n",
    "report[\"Model2\", \"Total Salaries\"] = salary.toValue()\n",
    "report[\"Model2\", \"sd of # shifts\"] = sd_shifts2\n",
    "report[\"Model2\", \"sd of # hours\"] = sd_hours2\n",
    "\n",
    "print(\"\\nResults summary:\")\n",
    "print(report.pivot())"
   ]
  }
 ],
 "metadata": {
  "kernelspec": {
   "display_name": "Python 3 (ipykernel)",
   "language": "python",
   "name": "python3"
  },
  "language_info": {
   "codemirror_mode": {
    "name": "ipython",
    "version": 3
   },
   "file_extension": ".py",
   "mimetype": "text/x-python",
   "name": "python",
   "nbconvert_exporter": "python",
   "pygments_lexer": "ipython3",
   "version": "3.8.19"
  },
  "vscode": {
   "interpreter": {
    "hash": "896abd35c1ec3da0fbf192e8bc4f761e28b2321e39758341c6892986d6cb4321"
   }
  }
 },
 "nbformat": 4,
 "nbformat_minor": 4
}
