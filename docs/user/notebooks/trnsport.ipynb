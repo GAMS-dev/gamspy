{
 "cells": [
  {
   "cell_type": "markdown",
   "metadata": {},
   "source": [
    "# Quick Start Guide\n",
    "\n",
    "## Introduction\n",
    "\n",
    "This quick start guide is designed to provide you with a concise overview of GAMSPy and its key features. By the end of this guide, you'll have a solid understanding of how to create basic mathematical models using GAMSPy. For more advanced features, we recommend exploring our comprehensive [user guide](https://gamspy.readthedocs.io/en/latest/user/index.html) and the extensive [model library](https://github.com/GAMS-dev/gamspy-examples).\n",
    "\n",
    "While not mandatory, having a basic understanding of Python programming and familiarity with the [Pandas library](https://pandas.pydata.org/) will be helpful for following this tutorial.\n",
    "\n",
    "## A Transportation Problem\n",
    "\n",
    "In this guide, we'll delve into an example of the transportation problem. This classic scenario involves managing supplies from various plants to meet demands at multiple markets for a single commodity. Additionally, we have the unit costs associated with shipping the commodity from plants to markets. The fundamental economic question here is: \n",
    "\n",
    "> How can we optimize the shipment quantities between each plant and market to minimize the total transport cost?\n",
    "\n",
    "The problem's algebraic representation typically takes the following format:\n",
    "\n",
    "Indices (Sets):\n",
    "\n",
    "- $i$ = plants\n",
    "- $j$ = markets\n",
    "\n",
    "Given Data (Parameters):\n",
    "\n",
    "- $a_i$ = supply of commodity at plant $i$ (in cases)\n",
    "- $b_j$ = demand for commodity at market $j$ (in cases)\n",
    "- $c_{ij}$ = cost per unit of shipment between plant $i$ and market $j$\n",
    "\n",
    "Decision Variables:\n",
    "\n",
    "- $x_{ij}$ = amount of commodity to ship from plant $i$ to market $j$ where $x_{ij} \\ge 0$ for all $i,j$\n",
    "\n",
    "Constraints:\n",
    "\n",
    "- Observe supply limit at plant $i$: $\\sum_j x_{ij} \\le a_i \\: \\forall i$\n",
    "- Satisfy demand at market $j$: $\\sum_i x_{ij} \\ge b_j \\: \\forall j$\n",
    "- Objective Function: Minimize $\\sum_i \\sum_j c_{ij} \\cdot x_{ij}$\n"
   ]
  },
  {
   "cell_type": "markdown",
   "metadata": {},
   "source": [
    "## Symbol Declaration\n",
    "\n",
    "In line with our systematic breakdown of the transportation problem into sets, parameters, variables, and constraints, we will adopt a similar approach to define the problem as a GAMSPy `Model`. To do so, it is essential to import the `gamspy` library initially."
   ]
  },
  {
   "cell_type": "code",
   "execution_count": 1,
   "metadata": {},
   "outputs": [],
   "source": [
    "from gamspy import Container, Set, Parameter, Variable, Equation, Model, Sum, Sense"
   ]
  },
  {
   "cell_type": "markdown",
   "metadata": {},
   "source": [
    "### Container\n",
    "\n",
    "Before we proceed further, let's create a `Container` to encapsulate all the relevant information for our GAMSPy ``Model``. This ``Container`` acts as a centralized hub, gathering essential data, sets, parameters, variables, and constraints, providing a clear structure for our optimization problem."
   ]
  },
  {
   "cell_type": "code",
   "execution_count": 2,
   "metadata": {},
   "outputs": [],
   "source": [
    "m = Container()"
   ]
  },
  {
   "cell_type": "markdown",
   "metadata": {},
   "source": [
    "### Sets\n",
    "\n",
    "Sets serve as the fundamental building blocks of a GAMSPy ``Model``, directly corresponding to the indices in the algebraic representations of models. In our transportation problem context, we have defined the following indices:\n",
    "\n",
    "- $i$ = plants\n",
    "- $j$ = markets\n",
    "\n",
    "For detailed guidance on using sets, please refer to the [set section](https://gamspy.readthedocs.io/en/latest/user/basics/set.html) of our user guide."
   ]
  },
  {
   "cell_type": "code",
   "execution_count": 3,
   "metadata": {},
   "outputs": [],
   "source": [
    "i = Set(container=m, name=\"i\", description=\"plants\")\n",
    "j = Set(container=m, name=\"j\", description=\"markets\")"
   ]
  },
  {
   "cell_type": "markdown",
   "metadata": {},
   "source": [
    "The effect of using the above `Set` statements is that we declared two sets, namely $i$ and $j$. Additionally, we provided descriptions to elaborate on their meaning, enhancing the readability of our ``Model``. "
   ]
  },
  {
   "cell_type": "markdown",
   "metadata": {},
   "source": [
    "### Parameters\n",
    "\n",
    "Parameters are declared using the `Parameter` class. Each parameter is assigned a name and a description.  Note that parameter $a_i$ is indexed by $i$. To accommodate these indices, we include the `domain` attribute, pointing to the corresponding set."
   ]
  },
  {
   "cell_type": "code",
   "execution_count": 4,
   "metadata": {},
   "outputs": [],
   "source": [
    "a = Parameter(\n",
    "    container=m, \n",
    "    name=\"a\",\n",
    "    domain=i,\n",
    "    description=\"supply of commodity at plant i (in cases)\"\n",
    ")\n",
    "b = Parameter(\n",
    "    container=m,\n",
    "    name=\"b\",\n",
    "    domain=j,\n",
    "    description=\"demand for commodity at market j (in cases)\"\n",
    ")\n",
    "c = Parameter(\n",
    "    container=m,\n",
    "    name=\"c\",\n",
    "    domain=[i, j],\n",
    "    description=\"cost per unit of shipment between plant i and market j\",\n",
    ")"
   ]
  },
  {
   "cell_type": "markdown",
   "metadata": {},
   "source": [
    "### Variables\n",
    "\n",
    "GAMSPy variables are declared using `Variable`. Each ``Variable`` is assigned a name, a domain if necessary, a type, and, optionally, a description."
   ]
  },
  {
   "cell_type": "code",
   "execution_count": 5,
   "metadata": {},
   "outputs": [],
   "source": [
    "x = Variable(\n",
    "    container=m,\n",
    "    name=\"x\",\n",
    "    domain=[i, j],\n",
    "    type=\"Positive\",\n",
    "    description=\"amount of commodity to ship from plant i to market j\",\n",
    ")"
   ]
  },
  {
   "cell_type": "markdown",
   "metadata": {},
   "source": [
    "This statement results in the declaration of a shipment variable for each (i,j) pair.\n",
    "\n",
    "More information on variables can be found in the [variable section](https://gamspy.readthedocs.io/en/latest/user/basics/variable.html) of our user guide."
   ]
  },
  {
   "cell_type": "markdown",
   "metadata": {},
   "source": [
    "## Equations\n",
    "A GAMSPy ``Equation`` can be declared and defined in two separate statements (see [here](https://gamspy.readthedocs.io/en/latest/user/basics/equation.html#combining-equation-declaration-and-definition) how to do this in one statement). The format of the declaration is the same as for other GAMSPy symbols. First comes the keyword, `Equation` in this case, followed by the name, domain and text. The transportation problem has two constraints:\n",
    "\n",
    "Supply: observe supply limit at plant $i$: $\\sum_j x_{ij} \\le a_i \\: \\forall i$\n",
    "\n",
    "Demand: satisfy demand at market $j$: $\\sum_i x_{ij} \\ge b_j \\: \\forall j$"
   ]
  },
  {
   "cell_type": "code",
   "execution_count": 6,
   "metadata": {},
   "outputs": [],
   "source": [
    "supply = Equation(\n",
    "    container=m, name=\"supply\", domain=i, description=\"observe supply limit at plant i\"\n",
    ")\n",
    "demand = Equation(\n",
    "    container=m, name=\"demand\", domain=j, description=\"satisfy demand at market j\"\n",
    ")"
   ]
  },
  {
   "cell_type": "markdown",
   "metadata": {},
   "source": [
    "The components of an ``Equation`` definition are:\n",
    "1. The Python variable of the ``Equation`` being defined\n",
    "2. The domain (optional)\n",
    "3. Domain restricting conditions (optional)\n",
    "4. A `=` sign\n",
    "5. Left hand side expression\n",
    "6. Relational operator (`==`, `<=`, `>=`)\n",
    "7. The right hand side expression.\n",
    "\n",
    "The ``Equation`` definition for the supply constraint of the transportation problem is implemented as follows:"
   ]
  },
  {
   "cell_type": "code",
   "execution_count": 7,
   "metadata": {},
   "outputs": [],
   "source": [
    "supply[i] = Sum(j, x[i, j]) <= a[i]"
   ]
  },
  {
   "cell_type": "markdown",
   "metadata": {},
   "source": [
    "Using the same logic as above, we can define the demand equation as follows:"
   ]
  },
  {
   "cell_type": "code",
   "execution_count": 8,
   "metadata": {},
   "outputs": [],
   "source": [
    "demand[j] = Sum(i, x[i, j]) >= b[j]"
   ]
  },
  {
   "cell_type": "markdown",
   "metadata": {},
   "source": [
    "More information on equations is given in the [equation section](https://gamspy.readthedocs.io/en/latest/user/basics/equation.html) of our user guide."
   ]
  },
  {
   "cell_type": "markdown",
   "metadata": {},
   "source": [
    "## Objective\n",
    "The objective function of a GAMSPy ``Model`` does not require a separate ``Equation`` declaration. You can either assign the objective expression to a Python variable or use it directly in the ``Model()`` statement of the [next section](#model). An alternative way of declaring the objective with a seperate Equation would look like the following:\n"
   ]
  },
  {
   "cell_type": "code",
   "execution_count": 9,
   "metadata": {},
   "outputs": [],
   "source": [
    "obj = Sum((i, j), c[i, j] * x[i, j])"
   ]
  },
  {
   "cell_type": "markdown",
   "metadata": {},
   "source": [
    "## Model\n",
    "\n",
    "A GAMSPy `Model()` consolidates constraints, an objective function, a sense (minimize, maximize, and feasibility), and a problem type. It also possesses a name and is associated with a ``Container``.\n",
    "\n",
    "To define our transportation problem as a GAMSPy ``Model``, we assign it to a Python variable, link it to our ``Container`` (populated with symbols and data), name it \"transport\", specify the equations, set the problem type as linear program (LP), specify the sense of the objective function (``Sense.MIN``), and point to the objective expression.\n",
    "\n",
    "GAMSPy allows two alternatives to assign equations to a `Model`:\n",
    "1. Using a list of equations,\n",
    "2. Retrieving _all_ equations by calling `m.getEquations()`.\n",
    "\n",
    "### Using a List of Equations\n",
    "Using a list of equations is especially useful if you want to define multiple GAMSPy ``Model``s with a subset of the  equations in your ``Container``. For the transportation problem this can be done as follows:"
   ]
  },
  {
   "cell_type": "code",
   "execution_count": 10,
   "metadata": {},
   "outputs": [],
   "source": [
    "transport = Model(\n",
    "    m,\n",
    "    name=\"transport\",\n",
    "    equations=[supply, demand],\n",
    "    problem=\"LP\",\n",
    "    sense=Sense.MIN,\n",
    "    objective=obj,\n",
    ")"
   ]
  },
  {
   "cell_type": "markdown",
   "metadata": {},
   "source": [
    "### Retrieving all Equations\n",
    "Using `m.getEquations()` is especially convenient if you want to include all equations of your ``Container`` to be associated with your model. For the transportation problem this can be done as follows:"
   ]
  },
  {
   "cell_type": "code",
   "execution_count": 11,
   "metadata": {},
   "outputs": [],
   "source": [
    "transport = Model(\n",
    "    m,\n",
    "    name=\"transport\",\n",
    "    equations=m.getEquations(),\n",
    "    problem=\"LP\",\n",
    "    sense=Sense.MIN,\n",
    "    objective=obj,\n",
    ")"
   ]
  },
  {
   "cell_type": "markdown",
   "metadata": {},
   "source": [
    "More information on the usage of a GAMSPy `Model` can be found in the [model section](https://gamspy.readthedocs.io/en/latest/user/basics/model.html) of our user guide."
   ]
  },
  {
   "cell_type": "markdown",
   "metadata": {},
   "source": [
    "## Data\n",
    "\n",
    "Before solving our model, let's set the data of the model using either Python primitives (i.e. list, tuple etc.) or the [Pandas library](https://pandas.pydata.org/). We'll begin by organizing the necessary information, which we will subsequently feed into our optimization model. There are two ways to declare symbols:\n",
    "\n",
    "1. Separate declaration and data assignment\n",
    "2. Combine declaration and data assignment\n",
    "\n",
    "#### Separate declaration and data assignment"
   ]
  },
  {
   "cell_type": "code",
   "execution_count": 12,
   "metadata": {},
   "outputs": [
    {
     "data": {
      "text/html": [
       "<div>\n",
       "<style scoped>\n",
       "    .dataframe tbody tr th:only-of-type {\n",
       "        vertical-align: middle;\n",
       "    }\n",
       "\n",
       "    .dataframe tbody tr th {\n",
       "        vertical-align: top;\n",
       "    }\n",
       "\n",
       "    .dataframe thead th {\n",
       "        text-align: right;\n",
       "    }\n",
       "</style>\n",
       "<table border=\"1\" class=\"dataframe\">\n",
       "  <thead>\n",
       "    <tr style=\"text-align: right;\">\n",
       "      <th></th>\n",
       "      <th>uni</th>\n",
       "      <th>element_text</th>\n",
       "    </tr>\n",
       "  </thead>\n",
       "  <tbody>\n",
       "    <tr>\n",
       "      <th>0</th>\n",
       "      <td>seattle</td>\n",
       "      <td></td>\n",
       "    </tr>\n",
       "    <tr>\n",
       "      <th>1</th>\n",
       "      <td>san-diego</td>\n",
       "      <td></td>\n",
       "    </tr>\n",
       "  </tbody>\n",
       "</table>\n",
       "</div>"
      ],
      "text/plain": [
       "         uni element_text\n",
       "0    seattle             \n",
       "1  san-diego             "
      ]
     },
     "execution_count": 12,
     "metadata": {},
     "output_type": "execute_result"
    }
   ],
   "source": [
    "i.setRecords(['seattle', 'san-diego'])\n",
    "j.setRecords(['new-york', 'chicago', 'topeka'])\n",
    "a.setRecords([(\"seattle\", 350), (\"san-diego\", 600)])\n",
    "b.setRecords([(\"new-york\", 325), (\"chicago\", 300), (\"topeka\", 275)])\n",
    "i.records"
   ]
  },
  {
   "cell_type": "markdown",
   "metadata": {},
   "source": [
    "We assigned members to the sets, establishing a clear connection between the abstract sets and their real-world counterparts.\n",
    "\n",
    "$i$ = {Seattle, San Diego}\n",
    "\n",
    "$j$ = {New York, Chicago, Topeka}\n",
    "\n",
    "To verify the content of a set, you can use `<set name>.records`."
   ]
  },
  {
   "cell_type": "markdown",
   "metadata": {},
   "source": [
    "#### Combine declaration and data assignment"
   ]
  },
  {
   "cell_type": "code",
   "execution_count": 13,
   "metadata": {},
   "outputs": [
    {
     "data": {
      "text/html": [
       "<div>\n",
       "<style scoped>\n",
       "    .dataframe tbody tr th:only-of-type {\n",
       "        vertical-align: middle;\n",
       "    }\n",
       "\n",
       "    .dataframe tbody tr th {\n",
       "        vertical-align: top;\n",
       "    }\n",
       "\n",
       "    .dataframe thead th {\n",
       "        text-align: right;\n",
       "    }\n",
       "</style>\n",
       "<table border=\"1\" class=\"dataframe\">\n",
       "  <thead>\n",
       "    <tr style=\"text-align: right;\">\n",
       "      <th></th>\n",
       "      <th>i</th>\n",
       "      <th>j</th>\n",
       "      <th>value</th>\n",
       "    </tr>\n",
       "  </thead>\n",
       "  <tbody>\n",
       "    <tr>\n",
       "      <th>0</th>\n",
       "      <td>seattle</td>\n",
       "      <td>new-york</td>\n",
       "      <td>2.5</td>\n",
       "    </tr>\n",
       "    <tr>\n",
       "      <th>1</th>\n",
       "      <td>seattle</td>\n",
       "      <td>chicago</td>\n",
       "      <td>1.7</td>\n",
       "    </tr>\n",
       "    <tr>\n",
       "      <th>2</th>\n",
       "      <td>seattle</td>\n",
       "      <td>topeka</td>\n",
       "      <td>1.8</td>\n",
       "    </tr>\n",
       "    <tr>\n",
       "      <th>3</th>\n",
       "      <td>san-diego</td>\n",
       "      <td>new-york</td>\n",
       "      <td>2.5</td>\n",
       "    </tr>\n",
       "    <tr>\n",
       "      <th>4</th>\n",
       "      <td>san-diego</td>\n",
       "      <td>chicago</td>\n",
       "      <td>1.8</td>\n",
       "    </tr>\n",
       "    <tr>\n",
       "      <th>5</th>\n",
       "      <td>san-diego</td>\n",
       "      <td>topeka</td>\n",
       "      <td>1.4</td>\n",
       "    </tr>\n",
       "  </tbody>\n",
       "</table>\n",
       "</div>"
      ],
      "text/plain": [
       "           i         j  value\n",
       "0    seattle  new-york    2.5\n",
       "1    seattle   chicago    1.7\n",
       "2    seattle    topeka    1.8\n",
       "3  san-diego  new-york    2.5\n",
       "4  san-diego   chicago    1.8\n",
       "5  san-diego    topeka    1.4"
      ]
     },
     "execution_count": 13,
     "metadata": {},
     "output_type": "execute_result"
    }
   ],
   "source": [
    "import pandas as pd\n",
    "\n",
    "distances = pd.DataFrame(\n",
    "    [\n",
    "        [\"seattle\", \"new-york\", 2.5],\n",
    "        [\"seattle\", \"chicago\", 1.7],\n",
    "        [\"seattle\", \"topeka\", 1.8],\n",
    "        [\"san-diego\", \"new-york\", 2.5],\n",
    "        [\"san-diego\", \"chicago\", 1.8],\n",
    "        [\"san-diego\", \"topeka\", 1.4],\n",
    "    ],\n",
    "    columns=[\"from\", \"to\", \"distance\"]\n",
    ").set_index([\"from\", \"to\"])\n",
    "d = Parameter(\n",
    "    container=m,\n",
    "    name=\"d\",\n",
    "    domain=[i, j],\n",
    "    description=\"distance between plant i and market j\",\n",
    "    records=distances.reset_index(),\n",
    ")\n",
    "d.records"
   ]
  },
  {
   "cell_type": "markdown",
   "metadata": {},
   "source": [
    "The cost per unit of shipment between plant $i$ and market $j$ is derived from the distance between $i$ and $j$ and can be calculated as follows:\n",
    "\n",
    "$c_{ij} = \\frac{90 \\cdot d_{ij}}{1000}$,\n",
    "\n",
    "where $d_{ij}$ denotes the distance between $i$ and $j$.\n",
    "\n",
    "We have two options to calculate $c_{ij}$ and assign the data to the GAMSPy parameter:\n",
    "\n",
    "1. Python assignment - calculation in Python, e.g., using Pandas and `<parameter name>.setRecords()`\n",
    "2. GAMSPy assignment - calculation in GAMSPy\n",
    "\n",
    "#### Python Assignment"
   ]
  },
  {
   "cell_type": "code",
   "execution_count": 14,
   "metadata": {},
   "outputs": [
    {
     "data": {
      "text/html": [
       "<div>\n",
       "<style scoped>\n",
       "    .dataframe tbody tr th:only-of-type {\n",
       "        vertical-align: middle;\n",
       "    }\n",
       "\n",
       "    .dataframe tbody tr th {\n",
       "        vertical-align: top;\n",
       "    }\n",
       "\n",
       "    .dataframe thead th {\n",
       "        text-align: right;\n",
       "    }\n",
       "</style>\n",
       "<table border=\"1\" class=\"dataframe\">\n",
       "  <thead>\n",
       "    <tr style=\"text-align: right;\">\n",
       "      <th></th>\n",
       "      <th>i</th>\n",
       "      <th>j</th>\n",
       "      <th>value</th>\n",
       "    </tr>\n",
       "  </thead>\n",
       "  <tbody>\n",
       "    <tr>\n",
       "      <th>0</th>\n",
       "      <td>seattle</td>\n",
       "      <td>new-york</td>\n",
       "      <td>0.225</td>\n",
       "    </tr>\n",
       "    <tr>\n",
       "      <th>1</th>\n",
       "      <td>seattle</td>\n",
       "      <td>chicago</td>\n",
       "      <td>0.153</td>\n",
       "    </tr>\n",
       "    <tr>\n",
       "      <th>2</th>\n",
       "      <td>seattle</td>\n",
       "      <td>topeka</td>\n",
       "      <td>0.162</td>\n",
       "    </tr>\n",
       "    <tr>\n",
       "      <th>3</th>\n",
       "      <td>san-diego</td>\n",
       "      <td>new-york</td>\n",
       "      <td>0.225</td>\n",
       "    </tr>\n",
       "    <tr>\n",
       "      <th>4</th>\n",
       "      <td>san-diego</td>\n",
       "      <td>chicago</td>\n",
       "      <td>0.162</td>\n",
       "    </tr>\n",
       "    <tr>\n",
       "      <th>5</th>\n",
       "      <td>san-diego</td>\n",
       "      <td>topeka</td>\n",
       "      <td>0.126</td>\n",
       "    </tr>\n",
       "  </tbody>\n",
       "</table>\n",
       "</div>"
      ],
      "text/plain": [
       "           i         j  value\n",
       "0    seattle  new-york  0.225\n",
       "1    seattle   chicago  0.153\n",
       "2    seattle    topeka  0.162\n",
       "3  san-diego  new-york  0.225\n",
       "4  san-diego   chicago  0.162\n",
       "5  san-diego    topeka  0.126"
      ]
     },
     "execution_count": 14,
     "metadata": {},
     "output_type": "execute_result"
    }
   ],
   "source": [
    "freight_cost = 90\n",
    "cost = freight_cost * distances / 1000\n",
    "c.setRecords(cost.reset_index())\n",
    "c.records"
   ]
  },
  {
   "cell_type": "markdown",
   "metadata": {},
   "source": [
    "#### GAMSPy Assignment"
   ]
  },
  {
   "cell_type": "code",
   "execution_count": 15,
   "metadata": {},
   "outputs": [
    {
     "data": {
      "text/html": [
       "<div>\n",
       "<style scoped>\n",
       "    .dataframe tbody tr th:only-of-type {\n",
       "        vertical-align: middle;\n",
       "    }\n",
       "\n",
       "    .dataframe tbody tr th {\n",
       "        vertical-align: top;\n",
       "    }\n",
       "\n",
       "    .dataframe thead th {\n",
       "        text-align: right;\n",
       "    }\n",
       "</style>\n",
       "<table border=\"1\" class=\"dataframe\">\n",
       "  <thead>\n",
       "    <tr style=\"text-align: right;\">\n",
       "      <th></th>\n",
       "      <th>i</th>\n",
       "      <th>j</th>\n",
       "      <th>value</th>\n",
       "    </tr>\n",
       "  </thead>\n",
       "  <tbody>\n",
       "    <tr>\n",
       "      <th>0</th>\n",
       "      <td>seattle</td>\n",
       "      <td>new-york</td>\n",
       "      <td>0.225</td>\n",
       "    </tr>\n",
       "    <tr>\n",
       "      <th>1</th>\n",
       "      <td>seattle</td>\n",
       "      <td>chicago</td>\n",
       "      <td>0.153</td>\n",
       "    </tr>\n",
       "    <tr>\n",
       "      <th>2</th>\n",
       "      <td>seattle</td>\n",
       "      <td>topeka</td>\n",
       "      <td>0.162</td>\n",
       "    </tr>\n",
       "    <tr>\n",
       "      <th>3</th>\n",
       "      <td>san-diego</td>\n",
       "      <td>new-york</td>\n",
       "      <td>0.225</td>\n",
       "    </tr>\n",
       "    <tr>\n",
       "      <th>4</th>\n",
       "      <td>san-diego</td>\n",
       "      <td>chicago</td>\n",
       "      <td>0.162</td>\n",
       "    </tr>\n",
       "    <tr>\n",
       "      <th>5</th>\n",
       "      <td>san-diego</td>\n",
       "      <td>topeka</td>\n",
       "      <td>0.126</td>\n",
       "    </tr>\n",
       "  </tbody>\n",
       "</table>\n",
       "</div>"
      ],
      "text/plain": [
       "           i         j  value\n",
       "0    seattle  new-york  0.225\n",
       "1    seattle   chicago  0.153\n",
       "2    seattle    topeka  0.162\n",
       "3  san-diego  new-york  0.225\n",
       "4  san-diego   chicago  0.162\n",
       "5  san-diego    topeka  0.126"
      ]
     },
     "execution_count": 15,
     "metadata": {},
     "output_type": "execute_result"
    }
   ],
   "source": [
    "c[i, j] = freight_cost * d[i, j] / 1000\n",
    "c.records"
   ]
  },
  {
   "cell_type": "markdown",
   "metadata": {},
   "source": [
    "## Solve\n",
    "\n",
    "Once the GAMSPy ``Model`` is defined, it's ready to be solved. The ``solve()`` statement triggers the generation of the specific model instance, creates suitable data structures for the solver, and invokes the solver. To view solver output in the console, the ``sys`` library can be used, passing the ``output=sys.stdout`` attribute to ``transport.solve()``."
   ]
  },
  {
   "cell_type": "code",
   "execution_count": 16,
   "metadata": {},
   "outputs": [
    {
     "name": "stdout",
     "output_type": "stream",
     "text": [
      "--- Job _cc823548-24d8-4f42-81e4-82251d6b08b0.gms Start 08/22/24 14:37:27 47.4.1 4b675771 LEX-LEG x86 64bit/Linux\n",
      "--- Applying:\n",
      "    /home/muhammet/anaconda3/envs/py38/lib/python3.8/site-packages/gamspy_base/gmsprmun.txt\n",
      "--- GAMS Parameters defined\n",
      "    Input /tmp/tmpegp51eu5/_cc823548-24d8-4f42-81e4-82251d6b08b0.gms\n",
      "    Output /tmp/tmpegp51eu5/_cc823548-24d8-4f42-81e4-82251d6b08b0.lst\n",
      "    ScrDir /tmp/tmpegp51eu5/tmpggnrlvct/\n",
      "    SysDir /home/muhammet/anaconda3/envs/py38/lib/python3.8/site-packages/gamspy_base/\n",
      "    LogOption 3\n",
      "    Trace /tmp/tmpegp51eu5/_cc823548-24d8-4f42-81e4-82251d6b08b0.txt\n",
      "    License /home/muhammet/anaconda3/envs/py38/lib/python3.8/site-packages/gamspy_base/user_license.txt\n",
      "    OptDir /tmp/tmpegp51eu5/\n",
      "    LimRow 0\n",
      "    LimCol 0\n",
      "    TraceOpt 3\n",
      "    GDX /tmp/tmpegp51eu5/_cc823548-24d8-4f42-81e4-82251d6b08b0out.gdx\n",
      "    SolPrint 0\n",
      "    PreviousWork 1\n",
      "    gdxSymbols newOrChanged\n",
      "Licensee: GAMSPy Incremental Professional                G240510+0003Cc-GEN\n",
      "          GAMS                                                       DC0000\n",
      "          /home/muhammet/anaconda3/envs/py38/lib/python3.8/site-packages/gamspy_base/user_license.txt\n",
      "          node:88412201                                                    \n",
      "          Evaluation license: Not for commercial or production use\n",
      "          The evaluation period of the license will expire on May 14, 2029\n",
      "Processor information: 1 socket(s), 12 core(s), and 16 thread(s) available\n",
      "--- Starting compilation\n",
      "--- _cc823548-24d8-4f42-81e4-82251d6b08b0.gms(65) 4 Mb\n",
      "--- Starting execution: elapsed 0:00:00.002\n",
      "--- Generating LP model transport\n",
      "--- _cc823548-24d8-4f42-81e4-82251d6b08b0.gms(122) 4 Mb\n",
      "---   6 rows  7 columns  19 non-zeroes\n",
      "--- Range statistics (absolute non-zero finite values)\n",
      "--- RHS       [min, max] : [ 2.750E+02, 6.000E+02] - Zero values observed as well\n",
      "--- Bound     [min, max] : [        NA,        NA] - Zero values observed as well\n",
      "--- Matrix    [min, max] : [ 1.260E-01, 1.000E+00]\n",
      "--- Executing CPLEX (Solvelink=2): elapsed 0:00:00.003\n",
      "\n",
      "IBM ILOG CPLEX   47.4.1 4b675771 Aug 13, 2024          LEG x86 64bit/Linux    \n",
      "\n",
      "--- GAMS/CPLEX licensed for continuous and discrete problems.\n",
      "--- GMO setup time: 0.00s\n",
      "--- GMO memory 0.50 Mb (peak 0.50 Mb)\n",
      "--- Dictionary memory 0.00 Mb\n",
      "--- Cplex 22.1.1.0 link memory 0.00 Mb (peak 0.00 Mb)\n",
      "--- Starting Cplex\n",
      "\n",
      "Version identifier: 22.1.1.0 | 2022-11-28 | 9160aff4d\n",
      "CPXPARAM_Advance                                 0\n",
      "CPXPARAM_Simplex_Display                         2\n",
      "CPXPARAM_MIP_Display                             4\n",
      "CPXPARAM_MIP_Pool_Capacity                       0\n",
      "CPXPARAM_MIP_Tolerances_AbsMIPGap                0\n",
      "Tried aggregator 1 time.\n",
      "LP Presolve eliminated 0 rows and 1 columns.\n",
      "Reduced LP has 5 rows, 6 columns, and 12 nonzeros.\n",
      "Presolve time = 0.00 sec. (0.00 ticks)\n",
      "\n",
      "Iteration      Dual Objective            In Variable           Out Variable\n",
      "     1              73.125000    x(seattle,new-york) demand(new-york) slack\n",
      "     2             119.025000     x(seattle,chicago)  demand(chicago) slack\n",
      "     3             153.675000    x(san-diego,topeka)   demand(topeka) slack\n",
      "     4             153.675000  x(san-diego,new-york)  supply(seattle) slack\n",
      "\n",
      "--- LP status (1): optimal.\n",
      "--- Cplex Time: 0.00sec (det. 0.01 ticks)\n",
      "\n",
      "\n",
      "Optimal solution found\n",
      "Objective:          153.675000\n",
      "\n",
      "--- Reading solution for model transport\n",
      "--- Executing after solve: elapsed 0:00:00.018\n",
      "--- _cc823548-24d8-4f42-81e4-82251d6b08b0.gms(182) 4 Mb\n",
      "--- GDX File /tmp/tmpegp51eu5/_cc823548-24d8-4f42-81e4-82251d6b08b0out.gdx\n",
      "*** Status: Normal completion\n",
      "--- Job _cc823548-24d8-4f42-81e4-82251d6b08b0.gms Stop 08/22/24 14:37:27 elapsed 0:00:00.019\n"
     ]
    },
    {
     "data": {
      "text/html": [
       "<div>\n",
       "<style scoped>\n",
       "    .dataframe tbody tr th:only-of-type {\n",
       "        vertical-align: middle;\n",
       "    }\n",
       "\n",
       "    .dataframe tbody tr th {\n",
       "        vertical-align: top;\n",
       "    }\n",
       "\n",
       "    .dataframe thead th {\n",
       "        text-align: right;\n",
       "    }\n",
       "</style>\n",
       "<table border=\"1\" class=\"dataframe\">\n",
       "  <thead>\n",
       "    <tr style=\"text-align: right;\">\n",
       "      <th></th>\n",
       "      <th>Solver Status</th>\n",
       "      <th>Model Status</th>\n",
       "      <th>Objective</th>\n",
       "      <th>Num of Equations</th>\n",
       "      <th>Num of Variables</th>\n",
       "      <th>Model Type</th>\n",
       "      <th>Solver</th>\n",
       "      <th>Solver Time</th>\n",
       "    </tr>\n",
       "  </thead>\n",
       "  <tbody>\n",
       "    <tr>\n",
       "      <th>0</th>\n",
       "      <td>Normal</td>\n",
       "      <td>OptimalGlobal</td>\n",
       "      <td>153.675</td>\n",
       "      <td>6</td>\n",
       "      <td>7</td>\n",
       "      <td>LP</td>\n",
       "      <td>CPLEX</td>\n",
       "      <td>0</td>\n",
       "    </tr>\n",
       "  </tbody>\n",
       "</table>\n",
       "</div>"
      ],
      "text/plain": [
       "  Solver Status   Model Status Objective Num of Equations Num of Variables  \\\n",
       "0        Normal  OptimalGlobal   153.675                6                7   \n",
       "\n",
       "  Model Type Solver Solver Time  \n",
       "0         LP  CPLEX           0  "
      ]
     },
     "execution_count": 16,
     "metadata": {},
     "output_type": "execute_result"
    }
   ],
   "source": [
    "import sys\n",
    "\n",
    "transport.solve(output=sys.stdout)"
   ]
  },
  {
   "cell_type": "markdown",
   "metadata": {},
   "source": [
    "## Retrieving Results\n",
    "### Variable Values\n",
    "The values of the variables in the solution can be retrieved using ``<variable name>.records``. The level specifies the shipment quantities $x_{ij}$. Other variable attributes are the marginal values, lower and upper bounds, and the variable's scaling factor."
   ]
  },
  {
   "cell_type": "code",
   "execution_count": 17,
   "metadata": {},
   "outputs": [
    {
     "data": {
      "text/html": [
       "<div>\n",
       "<style scoped>\n",
       "    .dataframe tbody tr th:only-of-type {\n",
       "        vertical-align: middle;\n",
       "    }\n",
       "\n",
       "    .dataframe tbody tr th {\n",
       "        vertical-align: top;\n",
       "    }\n",
       "\n",
       "    .dataframe thead th {\n",
       "        text-align: right;\n",
       "    }\n",
       "</style>\n",
       "<table border=\"1\" class=\"dataframe\">\n",
       "  <thead>\n",
       "    <tr style=\"text-align: right;\">\n",
       "      <th></th>\n",
       "      <th>i</th>\n",
       "      <th>j</th>\n",
       "      <th>level</th>\n",
       "      <th>marginal</th>\n",
       "      <th>lower</th>\n",
       "      <th>upper</th>\n",
       "      <th>scale</th>\n",
       "    </tr>\n",
       "  </thead>\n",
       "  <tbody>\n",
       "    <tr>\n",
       "      <th>0</th>\n",
       "      <td>seattle</td>\n",
       "      <td>new-york</td>\n",
       "      <td>50.0</td>\n",
       "      <td>0.000</td>\n",
       "      <td>0.0</td>\n",
       "      <td>inf</td>\n",
       "      <td>1.0</td>\n",
       "    </tr>\n",
       "    <tr>\n",
       "      <th>1</th>\n",
       "      <td>seattle</td>\n",
       "      <td>chicago</td>\n",
       "      <td>300.0</td>\n",
       "      <td>0.000</td>\n",
       "      <td>0.0</td>\n",
       "      <td>inf</td>\n",
       "      <td>1.0</td>\n",
       "    </tr>\n",
       "    <tr>\n",
       "      <th>2</th>\n",
       "      <td>seattle</td>\n",
       "      <td>topeka</td>\n",
       "      <td>0.0</td>\n",
       "      <td>0.036</td>\n",
       "      <td>0.0</td>\n",
       "      <td>inf</td>\n",
       "      <td>1.0</td>\n",
       "    </tr>\n",
       "    <tr>\n",
       "      <th>3</th>\n",
       "      <td>san-diego</td>\n",
       "      <td>new-york</td>\n",
       "      <td>275.0</td>\n",
       "      <td>0.000</td>\n",
       "      <td>0.0</td>\n",
       "      <td>inf</td>\n",
       "      <td>1.0</td>\n",
       "    </tr>\n",
       "    <tr>\n",
       "      <th>4</th>\n",
       "      <td>san-diego</td>\n",
       "      <td>chicago</td>\n",
       "      <td>0.0</td>\n",
       "      <td>0.009</td>\n",
       "      <td>0.0</td>\n",
       "      <td>inf</td>\n",
       "      <td>1.0</td>\n",
       "    </tr>\n",
       "    <tr>\n",
       "      <th>5</th>\n",
       "      <td>san-diego</td>\n",
       "      <td>topeka</td>\n",
       "      <td>275.0</td>\n",
       "      <td>0.000</td>\n",
       "      <td>0.0</td>\n",
       "      <td>inf</td>\n",
       "      <td>1.0</td>\n",
       "    </tr>\n",
       "  </tbody>\n",
       "</table>\n",
       "</div>"
      ],
      "text/plain": [
       "           i         j  level  marginal  lower  upper  scale\n",
       "0    seattle  new-york   50.0     0.000    0.0    inf    1.0\n",
       "1    seattle   chicago  300.0     0.000    0.0    inf    1.0\n",
       "2    seattle    topeka    0.0     0.036    0.0    inf    1.0\n",
       "3  san-diego  new-york  275.0     0.000    0.0    inf    1.0\n",
       "4  san-diego   chicago    0.0     0.009    0.0    inf    1.0\n",
       "5  san-diego    topeka  275.0     0.000    0.0    inf    1.0"
      ]
     },
     "execution_count": 17,
     "metadata": {},
     "output_type": "execute_result"
    }
   ],
   "source": [
    "x.records"
   ]
  },
  {
   "cell_type": "markdown",
   "metadata": {},
   "source": [
    "### Objective Value\n",
    "The optimal objective function value can be accessed by `<model name>.objective_value`."
   ]
  },
  {
   "cell_type": "code",
   "execution_count": 18,
   "metadata": {},
   "outputs": [
    {
     "data": {
      "text/plain": [
       "153.675"
      ]
     },
     "execution_count": 18,
     "metadata": {},
     "output_type": "execute_result"
    }
   ],
   "source": [
    "transport.objective_value"
   ]
  }
 ],
 "metadata": {
  "kernelspec": {
   "display_name": "Python 3 (ipykernel)",
   "language": "python",
   "name": "python3"
  },
  "language_info": {
   "codemirror_mode": {
    "name": "ipython",
    "version": 3
   },
   "file_extension": ".py",
   "mimetype": "text/x-python",
   "name": "python",
   "nbconvert_exporter": "python",
   "pygments_lexer": "ipython3",
   "version": "3.8.19"
  }
 },
 "nbformat": 4,
 "nbformat_minor": 4
}
