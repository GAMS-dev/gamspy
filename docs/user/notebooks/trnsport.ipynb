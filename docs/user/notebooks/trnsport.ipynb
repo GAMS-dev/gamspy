{
 "cells": [
  {
   "cell_type": "markdown",
   "metadata": {},
   "source": [
    "# Quick Start Guide\n",
    "\n",
    "## Introduction\n",
    "\n",
    "This quick start guide aims to briefly introduce you to GAMSPy and its main features. After completing this guide you will be able to implement basic mathematical models using GAMSPy. For advanced features we advise you to look into our [Users Guide](https://gamspy.readthedocs.io/en/latest/user/index.html) and the [model library](https://gamspy.readthedocs.io/en/latest/user/model_library.html).\n",
    "\n",
    "To successfully complete this tutorial it is helpful, but not mandatory, to have basic knowledge of programming in Python and the use of the [Pandas library](https://pandas.pydata.org/).\n",
    "\n",
    "## A Transportation Problem\n",
    "\n",
    "The example we will use in this guide is an instance of the transportation problem. We are given the supplies at several plants and the demands at several markets for a single commodity, and we are given the unit costs of shipping the commodity from plants to markets. The economic question is: how much shipment should there be between each plant and each market so as to minimize total transport cost?\n",
    "\n",
    "The algebraic representation of this problem is usually presented in a format similar to the following.\n",
    "\n",
    "Indices:\n",
    "\n",
    "- $i$ = plants\n",
    "- $j$ = markets\n",
    "\n",
    "Given Data:\n",
    "\n",
    "- $a_i$ = supply of commodity of plant $i$ (in cases)\n",
    "- $b_j$ = demand for commodity at market $j$\n",
    "- $c_{ij}$ = cost per unit shipment between plant $i$ and market $j$\n",
    "\n",
    "Decision Variables:\n",
    "\n",
    "- $x_{ij}$ = amount of commodity to ship from plant $i$ to market $j$ where $x_{ij} \\ge 0$ for all $i,j$\n",
    "\n",
    "Constraints:\n",
    "\n",
    "- Observe supply limit at plant $i$: $\\sum_j x_{ij} \\le a_i \\: \\forall i$\n",
    "- Satisfy demand at market $j$: $\\sum_i x_{ij} \\ge b_j \\: \\forall j$\n",
    "- Objective Function: Minimize $\\sum_i \\sum_j c_{ij} \\cdot x_{ij}$\n"
   ]
  },
  {
   "cell_type": "markdown",
   "metadata": {},
   "source": [
    "## Data\n",
    "\n",
    "We start by using the Pandas library to include the data which we will later pass to our optimization model.\n"
   ]
  },
  {
   "cell_type": "code",
   "execution_count": 78,
   "metadata": {},
   "outputs": [
    {
     "data": {
      "text/html": [
       "<div>\n",
       "<style scoped>\n",
       "    .dataframe tbody tr th:only-of-type {\n",
       "        vertical-align: middle;\n",
       "    }\n",
       "\n",
       "    .dataframe tbody tr th {\n",
       "        vertical-align: top;\n",
       "    }\n",
       "\n",
       "    .dataframe thead th {\n",
       "        text-align: right;\n",
       "    }\n",
       "</style>\n",
       "<table border=\"1\" class=\"dataframe\">\n",
       "  <thead>\n",
       "    <tr style=\"text-align: right;\">\n",
       "      <th></th>\n",
       "      <th>capacity</th>\n",
       "    </tr>\n",
       "    <tr>\n",
       "      <th>city</th>\n",
       "      <th></th>\n",
       "    </tr>\n",
       "  </thead>\n",
       "  <tbody>\n",
       "    <tr>\n",
       "      <th>seattle</th>\n",
       "      <td>350</td>\n",
       "    </tr>\n",
       "    <tr>\n",
       "      <th>san-diego</th>\n",
       "      <td>600</td>\n",
       "    </tr>\n",
       "  </tbody>\n",
       "</table>\n",
       "</div>"
      ],
      "text/plain": [
       "           capacity\n",
       "city               \n",
       "seattle         350\n",
       "san-diego       600"
      ]
     },
     "execution_count": 78,
     "metadata": {},
     "output_type": "execute_result"
    }
   ],
   "source": [
    "import pandas as pd\n",
    "\n",
    "capacities = pd.DataFrame(\n",
    "    [[\"seattle\", 350], [\"san-diego\", 600]], columns=[\"city\", \"capacity\"]\n",
    ").set_index(\"city\")\n",
    "\n",
    "capacities"
   ]
  },
  {
   "cell_type": "code",
   "execution_count": 79,
   "metadata": {},
   "outputs": [
    {
     "data": {
      "text/html": [
       "<div>\n",
       "<style scoped>\n",
       "    .dataframe tbody tr th:only-of-type {\n",
       "        vertical-align: middle;\n",
       "    }\n",
       "\n",
       "    .dataframe tbody tr th {\n",
       "        vertical-align: top;\n",
       "    }\n",
       "\n",
       "    .dataframe thead th {\n",
       "        text-align: right;\n",
       "    }\n",
       "</style>\n",
       "<table border=\"1\" class=\"dataframe\">\n",
       "  <thead>\n",
       "    <tr style=\"text-align: right;\">\n",
       "      <th></th>\n",
       "      <th>demand</th>\n",
       "    </tr>\n",
       "    <tr>\n",
       "      <th>city</th>\n",
       "      <th></th>\n",
       "    </tr>\n",
       "  </thead>\n",
       "  <tbody>\n",
       "    <tr>\n",
       "      <th>new-york</th>\n",
       "      <td>325</td>\n",
       "    </tr>\n",
       "    <tr>\n",
       "      <th>chicago</th>\n",
       "      <td>300</td>\n",
       "    </tr>\n",
       "    <tr>\n",
       "      <th>topeka</th>\n",
       "      <td>275</td>\n",
       "    </tr>\n",
       "  </tbody>\n",
       "</table>\n",
       "</div>"
      ],
      "text/plain": [
       "          demand\n",
       "city            \n",
       "new-york     325\n",
       "chicago      300\n",
       "topeka       275"
      ]
     },
     "execution_count": 79,
     "metadata": {},
     "output_type": "execute_result"
    }
   ],
   "source": [
    "demands = pd.DataFrame(\n",
    "    [[\"new-york\", 325], [\"chicago\", 300], [\"topeka\", 275]], columns=[\"city\", \"demand\"]\n",
    ").set_index(\"city\")\n",
    "\n",
    "demands"
   ]
  },
  {
   "cell_type": "code",
   "execution_count": 80,
   "metadata": {},
   "outputs": [
    {
     "data": {
      "text/html": [
       "<div>\n",
       "<style scoped>\n",
       "    .dataframe tbody tr th:only-of-type {\n",
       "        vertical-align: middle;\n",
       "    }\n",
       "\n",
       "    .dataframe tbody tr th {\n",
       "        vertical-align: top;\n",
       "    }\n",
       "\n",
       "    .dataframe thead th {\n",
       "        text-align: right;\n",
       "    }\n",
       "</style>\n",
       "<table border=\"1\" class=\"dataframe\">\n",
       "  <thead>\n",
       "    <tr style=\"text-align: right;\">\n",
       "      <th></th>\n",
       "      <th></th>\n",
       "      <th>distance</th>\n",
       "    </tr>\n",
       "    <tr>\n",
       "      <th>from</th>\n",
       "      <th>to</th>\n",
       "      <th></th>\n",
       "    </tr>\n",
       "  </thead>\n",
       "  <tbody>\n",
       "    <tr>\n",
       "      <th rowspan=\"3\" valign=\"top\">seattle</th>\n",
       "      <th>new-york</th>\n",
       "      <td>2.5</td>\n",
       "    </tr>\n",
       "    <tr>\n",
       "      <th>chicago</th>\n",
       "      <td>1.7</td>\n",
       "    </tr>\n",
       "    <tr>\n",
       "      <th>topeka</th>\n",
       "      <td>1.8</td>\n",
       "    </tr>\n",
       "    <tr>\n",
       "      <th rowspan=\"3\" valign=\"top\">san-diego</th>\n",
       "      <th>new-york</th>\n",
       "      <td>2.5</td>\n",
       "    </tr>\n",
       "    <tr>\n",
       "      <th>chicago</th>\n",
       "      <td>1.8</td>\n",
       "    </tr>\n",
       "    <tr>\n",
       "      <th>topeka</th>\n",
       "      <td>1.4</td>\n",
       "    </tr>\n",
       "  </tbody>\n",
       "</table>\n",
       "</div>"
      ],
      "text/plain": [
       "                    distance\n",
       "from      to                \n",
       "seattle   new-york       2.5\n",
       "          chicago        1.7\n",
       "          topeka         1.8\n",
       "san-diego new-york       2.5\n",
       "          chicago        1.8\n",
       "          topeka         1.4"
      ]
     },
     "execution_count": 80,
     "metadata": {},
     "output_type": "execute_result"
    }
   ],
   "source": [
    "distances = pd.DataFrame(\n",
    "    [\n",
    "        [\"seattle\", \"new-york\", 2.5],\n",
    "        [\"seattle\", \"chicago\", 1.7],\n",
    "        [\"seattle\", \"topeka\", 1.8],\n",
    "        [\"san-diego\", \"new-york\", 2.5],\n",
    "        [\"san-diego\", \"chicago\", 1.8],\n",
    "        [\"san-diego\", \"topeka\", 1.4],\n",
    "    ],\n",
    "    columns=[\"from\", \"to\", \"distance\"],\n",
    ").set_index([\"from\", \"to\"])\n",
    "\n",
    "distances"
   ]
  },
  {
   "cell_type": "code",
   "execution_count": 81,
   "metadata": {},
   "outputs": [],
   "source": [
    "freight_cost = 90"
   ]
  },
  {
   "cell_type": "markdown",
   "metadata": {},
   "source": [
    "## Symbol Declaration\n",
    "\n",
    "Similar to our separation of the transportation problem into sets, parameter, variables, and constraints we will use this separation to define the transportation problem as a GAMSPy model. Therefore, we need to import the `gamspy` library first.\n"
   ]
  },
  {
   "cell_type": "code",
   "execution_count": 82,
   "metadata": {},
   "outputs": [],
   "source": [
    "from gamspy import Model, Container, Sum, Sense"
   ]
  },
  {
   "cell_type": "markdown",
   "metadata": {},
   "source": [
    "### Container\n",
    "\n",
    "A container gathers all the information that is relevant for a GAMSPy model. Thus, the first step is to create such a container.\n"
   ]
  },
  {
   "cell_type": "code",
   "execution_count": 83,
   "metadata": {},
   "outputs": [],
   "source": [
    "m = Container()"
   ]
  },
  {
   "cell_type": "markdown",
   "metadata": {},
   "source": [
    "### Sets\n",
    "\n",
    "Sets are the basic building blocks of a GAMSPy model, corresponding exactly to the indices in the algebraic representations of models.\n",
    "\n",
    "Indices of the transportation problem:\n",
    "\n",
    "- $i$ = plants\n",
    "- $j$ = markets\n",
    "\n",
    "Sets are associated with a container, which is why we use `Container().addSet()`. You can find further information on the usage of sets in the [user guide](https://gamspy.readthedocs.io/en/latest/user/set.html).\n",
    "\n",
    "There a two ways to declare sets:\n",
    "\n",
    "1. Separate declaration and data assignment\n",
    "2. Combine declaration and data assignment\n",
    "\n",
    "#### Separate declaration and data assignment\n"
   ]
  },
  {
   "cell_type": "code",
   "execution_count": 84,
   "metadata": {},
   "outputs": [],
   "source": [
    "i = m.addSet(name=\"i\", description=\"plants\")\n",
    "i.setRecords(capacities.index)"
   ]
  },
  {
   "cell_type": "markdown",
   "metadata": {},
   "source": [
    "#### Combine declaration and data assignment\n"
   ]
  },
  {
   "cell_type": "code",
   "execution_count": 85,
   "metadata": {
    "tags": []
   },
   "outputs": [],
   "source": [
    "j = m.addSet(name=\"j\", description=\"markets\", records=demands.index)"
   ]
  },
  {
   "cell_type": "markdown",
   "metadata": {},
   "source": [
    "The effect of using the above `m.addSet()` statements is that we declared two sets and gave them the names i and j. We added a description to elaborate on the meaning and make the model easier readable. Lastly, we assigned members to the sets as follows:\n",
    "\n",
    "$i$ = {Seattle, San Diego}\n",
    "\n",
    "$j$ = {New York, Chicago, Topeka}\n",
    "\n",
    "To verify, you can use `<python variable>.records`.\n"
   ]
  },
  {
   "cell_type": "code",
   "execution_count": 86,
   "metadata": {},
   "outputs": [
    {
     "data": {
      "text/html": [
       "<div>\n",
       "<style scoped>\n",
       "    .dataframe tbody tr th:only-of-type {\n",
       "        vertical-align: middle;\n",
       "    }\n",
       "\n",
       "    .dataframe tbody tr th {\n",
       "        vertical-align: top;\n",
       "    }\n",
       "\n",
       "    .dataframe thead th {\n",
       "        text-align: right;\n",
       "    }\n",
       "</style>\n",
       "<table border=\"1\" class=\"dataframe\">\n",
       "  <thead>\n",
       "    <tr style=\"text-align: right;\">\n",
       "      <th></th>\n",
       "      <th>uni</th>\n",
       "      <th>element_text</th>\n",
       "    </tr>\n",
       "  </thead>\n",
       "  <tbody>\n",
       "    <tr>\n",
       "      <th>0</th>\n",
       "      <td>seattle</td>\n",
       "      <td></td>\n",
       "    </tr>\n",
       "    <tr>\n",
       "      <th>1</th>\n",
       "      <td>san-diego</td>\n",
       "      <td></td>\n",
       "    </tr>\n",
       "  </tbody>\n",
       "</table>\n",
       "</div>"
      ],
      "text/plain": [
       "         uni element_text\n",
       "0    seattle             \n",
       "1  san-diego             "
      ]
     },
     "execution_count": 86,
     "metadata": {},
     "output_type": "execute_result"
    }
   ],
   "source": [
    "i.records"
   ]
  },
  {
   "cell_type": "code",
   "execution_count": 87,
   "metadata": {},
   "outputs": [
    {
     "data": {
      "text/html": [
       "<div>\n",
       "<style scoped>\n",
       "    .dataframe tbody tr th:only-of-type {\n",
       "        vertical-align: middle;\n",
       "    }\n",
       "\n",
       "    .dataframe tbody tr th {\n",
       "        vertical-align: top;\n",
       "    }\n",
       "\n",
       "    .dataframe thead th {\n",
       "        text-align: right;\n",
       "    }\n",
       "</style>\n",
       "<table border=\"1\" class=\"dataframe\">\n",
       "  <thead>\n",
       "    <tr style=\"text-align: right;\">\n",
       "      <th></th>\n",
       "      <th>uni</th>\n",
       "      <th>element_text</th>\n",
       "    </tr>\n",
       "  </thead>\n",
       "  <tbody>\n",
       "    <tr>\n",
       "      <th>0</th>\n",
       "      <td>new-york</td>\n",
       "      <td></td>\n",
       "    </tr>\n",
       "    <tr>\n",
       "      <th>1</th>\n",
       "      <td>chicago</td>\n",
       "      <td></td>\n",
       "    </tr>\n",
       "    <tr>\n",
       "      <th>2</th>\n",
       "      <td>topeka</td>\n",
       "      <td></td>\n",
       "    </tr>\n",
       "  </tbody>\n",
       "</table>\n",
       "</div>"
      ],
      "text/plain": [
       "        uni element_text\n",
       "0  new-york             \n",
       "1   chicago             \n",
       "2    topeka             "
      ]
     },
     "execution_count": 87,
     "metadata": {},
     "output_type": "execute_result"
    }
   ],
   "source": [
    "j.records"
   ]
  },
  {
   "cell_type": "markdown",
   "metadata": {},
   "source": [
    "### Parameters\n",
    "\n",
    "To declare parameters we use `<container>.addParameter()`. We give the parameter a name and a description. Note that parameter $a_i$ is indexed by $i$. To account for indices we add the `domain` attribute and point to the corresponding set.\n",
    "\n",
    "Note that you can either, as shown for sets, combine or separate the declaration and the data assignment. For convenience we combine declaration and data assignment from now on.\n"
   ]
  },
  {
   "cell_type": "code",
   "execution_count": 88,
   "metadata": {},
   "outputs": [
    {
     "data": {
      "text/html": [
       "<div>\n",
       "<style scoped>\n",
       "    .dataframe tbody tr th:only-of-type {\n",
       "        vertical-align: middle;\n",
       "    }\n",
       "\n",
       "    .dataframe tbody tr th {\n",
       "        vertical-align: top;\n",
       "    }\n",
       "\n",
       "    .dataframe thead th {\n",
       "        text-align: right;\n",
       "    }\n",
       "</style>\n",
       "<table border=\"1\" class=\"dataframe\">\n",
       "  <thead>\n",
       "    <tr style=\"text-align: right;\">\n",
       "      <th></th>\n",
       "      <th>city</th>\n",
       "      <th>value</th>\n",
       "    </tr>\n",
       "  </thead>\n",
       "  <tbody>\n",
       "    <tr>\n",
       "      <th>0</th>\n",
       "      <td>seattle</td>\n",
       "      <td>350.0</td>\n",
       "    </tr>\n",
       "    <tr>\n",
       "      <th>1</th>\n",
       "      <td>san-diego</td>\n",
       "      <td>600.0</td>\n",
       "    </tr>\n",
       "  </tbody>\n",
       "</table>\n",
       "</div>"
      ],
      "text/plain": [
       "        city  value\n",
       "0    seattle  350.0\n",
       "1  san-diego  600.0"
      ]
     },
     "execution_count": 88,
     "metadata": {},
     "output_type": "execute_result"
    }
   ],
   "source": [
    "a = m.addParameter(\n",
    "    name=\"a\",\n",
    "    domain=i,\n",
    "    description=\"supply of commodity of plant i (in cases)\",\n",
    "    records=capacities.reset_index(),\n",
    ")\n",
    "a.records"
   ]
  },
  {
   "cell_type": "code",
   "execution_count": 89,
   "metadata": {},
   "outputs": [
    {
     "data": {
      "text/html": [
       "<div>\n",
       "<style scoped>\n",
       "    .dataframe tbody tr th:only-of-type {\n",
       "        vertical-align: middle;\n",
       "    }\n",
       "\n",
       "    .dataframe tbody tr th {\n",
       "        vertical-align: top;\n",
       "    }\n",
       "\n",
       "    .dataframe thead th {\n",
       "        text-align: right;\n",
       "    }\n",
       "</style>\n",
       "<table border=\"1\" class=\"dataframe\">\n",
       "  <thead>\n",
       "    <tr style=\"text-align: right;\">\n",
       "      <th></th>\n",
       "      <th>city</th>\n",
       "      <th>value</th>\n",
       "    </tr>\n",
       "  </thead>\n",
       "  <tbody>\n",
       "    <tr>\n",
       "      <th>0</th>\n",
       "      <td>new-york</td>\n",
       "      <td>325.0</td>\n",
       "    </tr>\n",
       "    <tr>\n",
       "      <th>1</th>\n",
       "      <td>chicago</td>\n",
       "      <td>300.0</td>\n",
       "    </tr>\n",
       "    <tr>\n",
       "      <th>2</th>\n",
       "      <td>topeka</td>\n",
       "      <td>275.0</td>\n",
       "    </tr>\n",
       "  </tbody>\n",
       "</table>\n",
       "</div>"
      ],
      "text/plain": [
       "       city  value\n",
       "0  new-york  325.0\n",
       "1   chicago  300.0\n",
       "2    topeka  275.0"
      ]
     },
     "execution_count": 89,
     "metadata": {},
     "output_type": "execute_result"
    }
   ],
   "source": [
    "b = m.addParameter(\n",
    "    name=\"b\",\n",
    "    domain=j,\n",
    "    description=\"demand for commodity at market j\",\n",
    "    records=demands.reset_index(),\n",
    ")\n",
    "b.records"
   ]
  },
  {
   "cell_type": "code",
   "execution_count": 90,
   "metadata": {},
   "outputs": [],
   "source": [
    "c = m.addParameter(\n",
    "    name=\"c\",\n",
    "    domain=[i, j],\n",
    "    description=\"cost per unit shipment between plant i and market j\",\n",
    ")"
   ]
  },
  {
   "cell_type": "markdown",
   "metadata": {},
   "source": [
    "The cost per unit shipment between plant $i$ and market $j$ is derived from the distance between $i$ and $j$ and can be calculated as follows:\n",
    "\n",
    "$c_{ij} = \\frac{90 \\cdot d_{ij}}{1000}$,\n",
    "\n",
    "where $d_{ij}$ denotes the distance between $i$ and $j$.\n",
    "\n",
    "We have two options to calculate $c_{ij}$ and assign the data to the GAMSPy parameter:\n",
    "\n",
    "1. Python assignment - calculation in Python, e.g., using Pandas and `.setRecords()`\n",
    "2. GAMSPy assignment - calculation on GAMSPy\n",
    "\n",
    "#### Python Assignment\n"
   ]
  },
  {
   "cell_type": "code",
   "execution_count": 91,
   "metadata": {},
   "outputs": [
    {
     "data": {
      "text/html": [
       "<div>\n",
       "<style scoped>\n",
       "    .dataframe tbody tr th:only-of-type {\n",
       "        vertical-align: middle;\n",
       "    }\n",
       "\n",
       "    .dataframe tbody tr th {\n",
       "        vertical-align: top;\n",
       "    }\n",
       "\n",
       "    .dataframe thead th {\n",
       "        text-align: right;\n",
       "    }\n",
       "</style>\n",
       "<table border=\"1\" class=\"dataframe\">\n",
       "  <thead>\n",
       "    <tr style=\"text-align: right;\">\n",
       "      <th></th>\n",
       "      <th></th>\n",
       "      <th>distance</th>\n",
       "    </tr>\n",
       "    <tr>\n",
       "      <th>from</th>\n",
       "      <th>to</th>\n",
       "      <th></th>\n",
       "    </tr>\n",
       "  </thead>\n",
       "  <tbody>\n",
       "    <tr>\n",
       "      <th rowspan=\"3\" valign=\"top\">seattle</th>\n",
       "      <th>new-york</th>\n",
       "      <td>0.225</td>\n",
       "    </tr>\n",
       "    <tr>\n",
       "      <th>chicago</th>\n",
       "      <td>0.153</td>\n",
       "    </tr>\n",
       "    <tr>\n",
       "      <th>topeka</th>\n",
       "      <td>0.162</td>\n",
       "    </tr>\n",
       "    <tr>\n",
       "      <th rowspan=\"3\" valign=\"top\">san-diego</th>\n",
       "      <th>new-york</th>\n",
       "      <td>0.225</td>\n",
       "    </tr>\n",
       "    <tr>\n",
       "      <th>chicago</th>\n",
       "      <td>0.162</td>\n",
       "    </tr>\n",
       "    <tr>\n",
       "      <th>topeka</th>\n",
       "      <td>0.126</td>\n",
       "    </tr>\n",
       "  </tbody>\n",
       "</table>\n",
       "</div>"
      ],
      "text/plain": [
       "                    distance\n",
       "from      to                \n",
       "seattle   new-york     0.225\n",
       "          chicago      0.153\n",
       "          topeka       0.162\n",
       "san-diego new-york     0.225\n",
       "          chicago      0.162\n",
       "          topeka       0.126"
      ]
     },
     "execution_count": 91,
     "metadata": {},
     "output_type": "execute_result"
    }
   ],
   "source": [
    "cost = freight_cost * distances / 1000\n",
    "cost"
   ]
  },
  {
   "cell_type": "code",
   "execution_count": 92,
   "metadata": {},
   "outputs": [
    {
     "data": {
      "text/html": [
       "<div>\n",
       "<style scoped>\n",
       "    .dataframe tbody tr th:only-of-type {\n",
       "        vertical-align: middle;\n",
       "    }\n",
       "\n",
       "    .dataframe tbody tr th {\n",
       "        vertical-align: top;\n",
       "    }\n",
       "\n",
       "    .dataframe thead th {\n",
       "        text-align: right;\n",
       "    }\n",
       "</style>\n",
       "<table border=\"1\" class=\"dataframe\">\n",
       "  <thead>\n",
       "    <tr style=\"text-align: right;\">\n",
       "      <th></th>\n",
       "      <th>from</th>\n",
       "      <th>to</th>\n",
       "      <th>value</th>\n",
       "    </tr>\n",
       "  </thead>\n",
       "  <tbody>\n",
       "    <tr>\n",
       "      <th>0</th>\n",
       "      <td>seattle</td>\n",
       "      <td>new-york</td>\n",
       "      <td>0.225</td>\n",
       "    </tr>\n",
       "    <tr>\n",
       "      <th>1</th>\n",
       "      <td>seattle</td>\n",
       "      <td>chicago</td>\n",
       "      <td>0.153</td>\n",
       "    </tr>\n",
       "    <tr>\n",
       "      <th>2</th>\n",
       "      <td>seattle</td>\n",
       "      <td>topeka</td>\n",
       "      <td>0.162</td>\n",
       "    </tr>\n",
       "    <tr>\n",
       "      <th>3</th>\n",
       "      <td>san-diego</td>\n",
       "      <td>new-york</td>\n",
       "      <td>0.225</td>\n",
       "    </tr>\n",
       "    <tr>\n",
       "      <th>4</th>\n",
       "      <td>san-diego</td>\n",
       "      <td>chicago</td>\n",
       "      <td>0.162</td>\n",
       "    </tr>\n",
       "    <tr>\n",
       "      <th>5</th>\n",
       "      <td>san-diego</td>\n",
       "      <td>topeka</td>\n",
       "      <td>0.126</td>\n",
       "    </tr>\n",
       "  </tbody>\n",
       "</table>\n",
       "</div>"
      ],
      "text/plain": [
       "        from        to  value\n",
       "0    seattle  new-york  0.225\n",
       "1    seattle   chicago  0.153\n",
       "2    seattle    topeka  0.162\n",
       "3  san-diego  new-york  0.225\n",
       "4  san-diego   chicago  0.162\n",
       "5  san-diego    topeka  0.126"
      ]
     },
     "execution_count": 92,
     "metadata": {},
     "output_type": "execute_result"
    }
   ],
   "source": [
    "c.setRecords(cost.reset_index())\n",
    "c.records"
   ]
  },
  {
   "cell_type": "markdown",
   "metadata": {},
   "source": [
    "#### GAMSPy Assignment\n",
    "\n",
    "For the direct assignment we need to declare a new parameter denoting the distances between $i$ and $j$.\n"
   ]
  },
  {
   "cell_type": "code",
   "execution_count": 93,
   "metadata": {},
   "outputs": [
    {
     "data": {
      "text/html": [
       "<div>\n",
       "<style scoped>\n",
       "    .dataframe tbody tr th:only-of-type {\n",
       "        vertical-align: middle;\n",
       "    }\n",
       "\n",
       "    .dataframe tbody tr th {\n",
       "        vertical-align: top;\n",
       "    }\n",
       "\n",
       "    .dataframe thead th {\n",
       "        text-align: right;\n",
       "    }\n",
       "</style>\n",
       "<table border=\"1\" class=\"dataframe\">\n",
       "  <thead>\n",
       "    <tr style=\"text-align: right;\">\n",
       "      <th></th>\n",
       "      <th>from</th>\n",
       "      <th>to</th>\n",
       "      <th>value</th>\n",
       "    </tr>\n",
       "  </thead>\n",
       "  <tbody>\n",
       "    <tr>\n",
       "      <th>0</th>\n",
       "      <td>seattle</td>\n",
       "      <td>new-york</td>\n",
       "      <td>2.5</td>\n",
       "    </tr>\n",
       "    <tr>\n",
       "      <th>1</th>\n",
       "      <td>seattle</td>\n",
       "      <td>chicago</td>\n",
       "      <td>1.7</td>\n",
       "    </tr>\n",
       "    <tr>\n",
       "      <th>2</th>\n",
       "      <td>seattle</td>\n",
       "      <td>topeka</td>\n",
       "      <td>1.8</td>\n",
       "    </tr>\n",
       "    <tr>\n",
       "      <th>3</th>\n",
       "      <td>san-diego</td>\n",
       "      <td>new-york</td>\n",
       "      <td>2.5</td>\n",
       "    </tr>\n",
       "    <tr>\n",
       "      <th>4</th>\n",
       "      <td>san-diego</td>\n",
       "      <td>chicago</td>\n",
       "      <td>1.8</td>\n",
       "    </tr>\n",
       "    <tr>\n",
       "      <th>5</th>\n",
       "      <td>san-diego</td>\n",
       "      <td>topeka</td>\n",
       "      <td>1.4</td>\n",
       "    </tr>\n",
       "  </tbody>\n",
       "</table>\n",
       "</div>"
      ],
      "text/plain": [
       "        from        to  value\n",
       "0    seattle  new-york    2.5\n",
       "1    seattle   chicago    1.7\n",
       "2    seattle    topeka    1.8\n",
       "3  san-diego  new-york    2.5\n",
       "4  san-diego   chicago    1.8\n",
       "5  san-diego    topeka    1.4"
      ]
     },
     "execution_count": 93,
     "metadata": {},
     "output_type": "execute_result"
    }
   ],
   "source": [
    "d = m.addParameter(\n",
    "    name=\"d\",\n",
    "    domain=[i, j],\n",
    "    description=\"distance between plant i and market j\",\n",
    "    records=distances.reset_index(),\n",
    ")\n",
    "d.records"
   ]
  },
  {
   "cell_type": "code",
   "execution_count": 94,
   "metadata": {},
   "outputs": [
    {
     "data": {
      "text/html": [
       "<div>\n",
       "<style scoped>\n",
       "    .dataframe tbody tr th:only-of-type {\n",
       "        vertical-align: middle;\n",
       "    }\n",
       "\n",
       "    .dataframe tbody tr th {\n",
       "        vertical-align: top;\n",
       "    }\n",
       "\n",
       "    .dataframe thead th {\n",
       "        text-align: right;\n",
       "    }\n",
       "</style>\n",
       "<table border=\"1\" class=\"dataframe\">\n",
       "  <thead>\n",
       "    <tr style=\"text-align: right;\">\n",
       "      <th></th>\n",
       "      <th>i</th>\n",
       "      <th>j</th>\n",
       "      <th>value</th>\n",
       "    </tr>\n",
       "  </thead>\n",
       "  <tbody>\n",
       "    <tr>\n",
       "      <th>0</th>\n",
       "      <td>seattle</td>\n",
       "      <td>new-york</td>\n",
       "      <td>0.225</td>\n",
       "    </tr>\n",
       "    <tr>\n",
       "      <th>1</th>\n",
       "      <td>seattle</td>\n",
       "      <td>chicago</td>\n",
       "      <td>0.153</td>\n",
       "    </tr>\n",
       "    <tr>\n",
       "      <th>2</th>\n",
       "      <td>seattle</td>\n",
       "      <td>topeka</td>\n",
       "      <td>0.162</td>\n",
       "    </tr>\n",
       "    <tr>\n",
       "      <th>3</th>\n",
       "      <td>san-diego</td>\n",
       "      <td>new-york</td>\n",
       "      <td>0.225</td>\n",
       "    </tr>\n",
       "    <tr>\n",
       "      <th>4</th>\n",
       "      <td>san-diego</td>\n",
       "      <td>chicago</td>\n",
       "      <td>0.162</td>\n",
       "    </tr>\n",
       "    <tr>\n",
       "      <th>5</th>\n",
       "      <td>san-diego</td>\n",
       "      <td>topeka</td>\n",
       "      <td>0.126</td>\n",
       "    </tr>\n",
       "  </tbody>\n",
       "</table>\n",
       "</div>"
      ],
      "text/plain": [
       "           i         j  value\n",
       "0    seattle  new-york  0.225\n",
       "1    seattle   chicago  0.153\n",
       "2    seattle    topeka  0.162\n",
       "3  san-diego  new-york  0.225\n",
       "4  san-diego   chicago  0.162\n",
       "5  san-diego    topeka  0.126"
      ]
     },
     "execution_count": 94,
     "metadata": {},
     "output_type": "execute_result"
    }
   ],
   "source": [
    "c[i, j] = freight_cost * d[i, j] / 1000\n",
    "c.records"
   ]
  },
  {
   "cell_type": "markdown",
   "metadata": {},
   "source": [
    "### Variables\n",
    "\n",
    "The decision variables of a GAMSPy-expressed model must be declared with the `container.addVariable()` statement. Each variable is given a name, a domain if appropriate, a type, and (optionally) description.\n"
   ]
  },
  {
   "cell_type": "code",
   "execution_count": 95,
   "metadata": {},
   "outputs": [],
   "source": [
    "x = m.addVariable(\n",
    "    name=\"x\",\n",
    "    domain=[i, j],\n",
    "    type=\"Positive\",\n",
    "    description=\"amount of commodity to ship from plant i to market j\",\n",
    ")"
   ]
  },
  {
   "cell_type": "markdown",
   "metadata": {},
   "source": [
    "This statement results in the declaration of a shipment variable for each (i,j) pair. (You will see in chapter [Equations](#equations), how GAMSPy can handle the typical real-world situation in which only a subset of the (i,j) pairs is allowable for shipment.)\n",
    "\n",
    "More information on variables can be found in the [variable section](https://gamspy.readthedocs.io/en/latest/user/variable.html) of our user guide.\n"
   ]
  },
  {
   "cell_type": "markdown",
   "metadata": {},
   "source": [
    "## Equations\n",
    "Equations must be declared and defined in separate statements. The format of the declaration is the same as for other GAMSPy entities. First comes the keyword, `m.addEquation()` in this case, followed by the name, domain and text. The transportation problem has two constraints:\n",
    "\n",
    "Supply: observe supply limit at plant $i$: $\\sum_j x_{ij} \\le a_i \\: \\forall i$\n",
    "Demand: satisfy demand at market $j$: $\\sum_i x_{ij} \\ge b_j \\: \\forall j$"
   ]
  },
  {
   "cell_type": "code",
   "execution_count": 96,
   "metadata": {},
   "outputs": [],
   "source": [
    "supply = m.addEquation(\n",
    "    name=\"supply\", domain=i, description=\"observe supply limit at plant i\"\n",
    ")\n",
    "demand = m.addEquation(\n",
    "    name=\"demand\", domain=j, description=\"satisfy demand at market j\"\n",
    ")"
   ]
  },
  {
   "cell_type": "markdown",
   "metadata": {},
   "source": [
    "The components of an equation definition are:\n",
    "1. The Python variable of the equation being defined\n",
    "2. The domain (optional)\n",
    "3. Domain restriction condition (optional)\n",
    "4. A `=` sign\n",
    "5. Left hand side expression\n",
    "6. Relational operator (`==`, `<=`, `>=`)\n",
    "7. The right hand side expression.\n",
    "\n",
    "The equation definition for the supply constraint of the transportation problem is implemented as follows:"
   ]
  },
  {
   "cell_type": "code",
   "execution_count": 97,
   "metadata": {},
   "outputs": [],
   "source": [
    "supply[i] = Sum(j, x[i, j]) <= a[i]"
   ]
  },
  {
   "cell_type": "markdown",
   "metadata": {},
   "source": [
    "Using the same logic as above, we can define the demand equation as follows:"
   ]
  },
  {
   "cell_type": "code",
   "execution_count": 98,
   "metadata": {},
   "outputs": [],
   "source": [
    "demand[j] = Sum(i, x[i, j]) >= b[j]"
   ]
  },
  {
   "cell_type": "markdown",
   "metadata": {},
   "source": [
    "More information on equations is given in the [equation section](https://gamspy.readthedocs.io/en/latest/user/equation.html) of our user guide."
   ]
  },
  {
   "cell_type": "markdown",
   "metadata": {},
   "source": [
    "## Objective\n",
    "The objective function of a GAMSPy model does not require a separate equation declaration. You can assign the objective expression to a Python variable or use it directly in the model statement of the [next section](#model).\n"
   ]
  },
  {
   "cell_type": "code",
   "execution_count": 99,
   "metadata": {},
   "outputs": [],
   "source": [
    "obj = Sum((i, j), c[i, j] * x[i, j])"
   ]
  },
  {
   "cell_type": "markdown",
   "metadata": {},
   "source": [
    "## Model\n",
    "A GAMSPy `Model()` is a collection of the constraints that go into your model. It is also associated with an objective function, a sense (minimize or maximize), and a problem type. Further, a GAMSPy `Model()` has a name and is associated with a `Container()`.\n",
    "\n",
    "To define the transportation problem as a GAMSPy `Model()`, we assign the `Model()` to a Python variable, point to our container `m` that we filled with GAMSPy symbols and data, and give it the name `transport`. Further, we define th problem type to be linear (LP), specify the sense to minimization (`Sense.MIN`), and point to the objective expression.\n",
    "\n",
    "GAMSPy allows to alternatives to assign equations to a `Model()`:\n",
    "1. Using a list of equations,\n",
    "2. Retrieving _all_ equations by calling `container.getEquations()`.\n",
    "\n",
    "### Using a List of Equations\n",
    "Using a list of equations is especially useful if you want to define multiple GAMSPy models with a subset of all equations in your container. For the transportation problem this can be done as follows:"
   ]
  },
  {
   "cell_type": "code",
   "execution_count": 100,
   "metadata": {},
   "outputs": [],
   "source": [
    "transport = Model(\n",
    "    m,\n",
    "    name=\"transport\",\n",
    "    equations=[supply, demand],\n",
    "    problem=\"LP\",\n",
    "    sense=Sense.MIN,\n",
    "    objective=obj,\n",
    ")"
   ]
  },
  {
   "cell_type": "markdown",
   "metadata": {},
   "source": [
    "### Retrieving all Equations\n",
    "Using `Container().getEquations()` is especially convenient if you want to include all equations of your container to be associated with your model. For the transportation problem this can be done as follows:"
   ]
  },
  {
   "cell_type": "code",
   "execution_count": 101,
   "metadata": {},
   "outputs": [],
   "source": [
    "transport_2 = Model(\n",
    "    m,\n",
    "    name=\"transport\",\n",
    "    equations=m.getEquations(),\n",
    "    problem=\"LP\",\n",
    "    sense=Sense.MIN,\n",
    "    objective=obj,\n",
    ")"
   ]
  },
  {
   "cell_type": "markdown",
   "metadata": {},
   "source": [
    "More information on the usage of a GAMSPy `Model()` can be found in the [model section](https://gamspy.readthedocs.io/en/latest/user/model.html) of our user guide."
   ]
  },
  {
   "cell_type": "markdown",
   "metadata": {},
   "source": [
    "## Solve\n",
    "After you have defined you GAMSPy `Model()`, you are ready to solve it.  The solve statement will cause several things to happen when executed. The specific instance of interest of the model will be generated, the appropriate data structures for inputting this problem to the solver will be created, and the solver will be invoked. If you want to see the output from the solver to be written to your console, you can use the `sys` libaray and pass the `output=sys.stdout` attribute to the `Model().solve()` statement."
   ]
  },
  {
   "cell_type": "code",
   "execution_count": 102,
   "metadata": {},
   "outputs": [
    {
     "name": "stdout",
     "output_type": "stream",
     "text": [
      "--- Job _gams_py_gjo5.gms Start 10/06/23 11:24:25 45.0.0 6d29854d WEX-WEI x86 64bit/MS Windows\n",
      "--- Applying:\n",
      "    C:\\Users\\jbroi\\anaconda3\\envs\\test\\Lib\\site-packages\\gamspy_base\\gmsprmNT.txt\n",
      "    C:\\Users\\jbroi\\Documents\\GAMS\\gamsconfig.yaml\n",
      "--- GAMS Parameters defined\n",
      "    LP CPLEX\n",
      "    MIP CPLEX\n",
      "    RMIP CPLEX\n",
      "    NLP CONOPT\n",
      "    MCP PATH\n",
      "    MPEC NLPEC\n",
      "    RMPEC CONVERT\n",
      "    CNS CONOPT\n",
      "    DNLP CONOPT\n",
      "    RMINLP CONOPT\n",
      "    MINLP SBB\n",
      "    QCP CONOPT\n",
      "    MIQCP SBB\n",
      "    RMIQCP CONOPT\n",
      "    EMP CONVERT\n",
      "    Restart C:\\Users\\jbroi\\AppData\\Local\\Temp\\tmpb57wt3c9\\default_save.g00\n",
      "    Input C:\\Users\\jbroi\\AppData\\Local\\Temp\\tmpb57wt3c9\\_gams_py_gjo5.gms\n",
      "    Output C:\\Users\\jbroi\\AppData\\Local\\Temp\\tmpb57wt3c9\\_gams_py_gjo5.lst\n",
      "    Save C:\\Users\\jbroi\\AppData\\Local\\Temp\\tmpb57wt3c9\\default_restart.g00\n",
      "    ScrDir C:\\Users\\jbroi\\AppData\\Local\\Temp\\tmpb57wt3c9\\225a\\\n",
      "    SysDir C:\\Users\\jbroi\\anaconda3\\envs\\test\\Lib\\site-packages\\gamspy_base\\\n",
      "    CurDir C:\\Users\\jbroi\\AppData\\Local\\Temp\\tmpb57wt3c9\\\n",
      "    LogOption 3\n",
      "    LogFile C:\\Users\\jbroi\\AppData\\Local\\Temp\\tmpb57wt3c9\\_gams_py_gjo5.log\n",
      "    GDX C:\\Users\\jbroi\\AppData\\Local\\Temp\\tmpb57wt3c9\\default.gdx\n",
      "*** ************* ALPHA release\n",
      "*** GAMS Base Module 45.0.0 6d29854d Sep 26, 2023  (ALPHA) WEI x86 64bit/MS Window\n",
      "*** ************* ALPHA release\n",
      "Licensee: GAMS Working License                           S230720|0002CO-GEN\n",
      "          GAMS Software GmbH, Braunschweig Office                   DCE2920\n",
      "          C:\\Users\\jbroi\\Documents\\GAMS\\gamslice.txt\n",
      "          License Admin: Justine Broihan, jbroihan@gams.com                \n",
      "          Evaluation license: Not for commercial or production use\n",
      "          The evaluation period of the license will expire on Jan 16, 2024\n",
      "Processor information: 1 socket(s), 12 core(s), and 16 thread(s) available\n",
      "GAMS 45.0.0   Copyright (C) 1987-2023 GAMS Development. All rights reserved\n",
      "--- Starting continued compilation\n",
      "--- Workfile was generated under GAMS version WEX450-450\n",
      "--- _gams_py_gjo5.gms(1) 3 Mb 1 Error\n",
      "*** Error 194 in C:\\Users\\jbroi\\AppData\\Local\\Temp\\tmpb57wt3c9\\_gams_py_gjo5.gms\n",
      "    Symbol redefined - a second data statement for the same symbol\n",
      "       or a data statement after an assignment\n",
      "       Hint: You could use $onMulti to merge the data from different\n",
      "             data statements or $onMultiR to replace existing data\n",
      "             with data from a later data statement\n",
      "--- _gams_py_gjo5.gms(27) 3 Mb 2 Errors\n",
      "*** Error 257 in C:\\Users\\jbroi\\AppData\\Local\\Temp\\tmpb57wt3c9\\_gams_py_gjo5.gms\n",
      "    Solve statement not checked because of previous errors\n",
      "--- _gams_py_gjo5.gms(52) 3 Mb\n",
      "--- GDX File C:\\Users\\jbroi\\AppData\\Local\\Temp\\tmpb57wt3c9\\default.gdx\n",
      "--- _gams_py_gjo5.gms(52) 3 Mb 2 Errors\n",
      "*** Status: Compilation error(s)\n",
      "--- Job _gams_py_gjo5.gms Stop 10/06/23 11:24:25 elapsed 0:00:00.022\n"
     ]
    },
    {
     "ename": "GamsExceptionExecution",
     "evalue": "GAMS return code not 0 (2), check C:\\Users\\jbroi\\AppData\\Local\\Temp\\tmpb57wt3c9\\_gams_py_gjo5.lst for more details",
     "output_type": "error",
     "traceback": [
      "\u001b[1;31m---------------------------------------------------------------------------\u001b[0m",
      "\u001b[1;31mGamsExceptionExecution\u001b[0m                    Traceback (most recent call last)",
      "\u001b[1;32mc:\\Users\\jbroi\\Documents\\Repositories\\gamspy\\docs\\user\\notebooks\\trnsport.ipynb Cell 46\u001b[0m line \u001b[0;36m3\n\u001b[0;32m      <a href='vscode-notebook-cell:/c%3A/Users/jbroi/Documents/Repositories/gamspy/docs/user/notebooks/trnsport.ipynb#X56sZmlsZQ%3D%3D?line=0'>1</a>\u001b[0m \u001b[39mimport\u001b[39;00m \u001b[39msys\u001b[39;00m\n\u001b[1;32m----> <a href='vscode-notebook-cell:/c%3A/Users/jbroi/Documents/Repositories/gamspy/docs/user/notebooks/trnsport.ipynb#X56sZmlsZQ%3D%3D?line=2'>3</a>\u001b[0m transport\u001b[39m.\u001b[39msolve(output\u001b[39m=\u001b[39msys\u001b[39m.\u001b[39mstdout)\n",
      "File \u001b[1;32mc:\\Users\\jbroi\\anaconda3\\envs\\test\\Lib\\site-packages\\gamspy\\_model.py:484\u001b[0m, in \u001b[0;36mModel.solve\u001b[1;34m(self, commandline_options, solver_options, model_instance_options, output, backend, engine_config)\u001b[0m\n\u001b[0;32m    481\u001b[0m     \u001b[39mself\u001b[39m\u001b[39m.\u001b[39m_append_solve_string()\n\u001b[0;32m    482\u001b[0m     \u001b[39mself\u001b[39m\u001b[39m.\u001b[39m_assign_model_attributes()\n\u001b[1;32m--> 484\u001b[0m     \u001b[39mself\u001b[39m\u001b[39m.\u001b[39mcontainer\u001b[39m.\u001b[39m_run(options, output, backend, engine_config)\n\u001b[0;32m    486\u001b[0m     \u001b[39mself\u001b[39m\u001b[39m.\u001b[39m_update_model_attributes()\n\u001b[0;32m    487\u001b[0m \u001b[39melse\u001b[39;00m:\n",
      "File \u001b[1;32mc:\\Users\\jbroi\\anaconda3\\envs\\test\\Lib\\site-packages\\gamspy\\_container.py:871\u001b[0m, in \u001b[0;36mContainer._run\u001b[1;34m(self, options, output, backend, engine_config)\u001b[0m\n\u001b[0;32m    869\u001b[0m         message \u001b[39m=\u001b[39m \u001b[39mself\u001b[39m\u001b[39m.\u001b[39m_parse_message(options, \u001b[39mself\u001b[39m\u001b[39m.\u001b[39m_job)\n\u001b[0;32m    870\u001b[0m         e\u001b[39m.\u001b[39mvalue \u001b[39m=\u001b[39m message \u001b[39m+\u001b[39m e\u001b[39m.\u001b[39mvalue\n\u001b[1;32m--> 871\u001b[0m         \u001b[39mraise\u001b[39;00m e\n\u001b[0;32m    872\u001b[0m \u001b[39melif\u001b[39;00m backend \u001b[39min\u001b[39;00m [\u001b[39m\"\u001b[39m\u001b[39mengine-one\u001b[39m\u001b[39m\"\u001b[39m, \u001b[39m\"\u001b[39m\u001b[39mengine-sass\u001b[39m\u001b[39m\"\u001b[39m]:\n\u001b[0;32m    873\u001b[0m     options\u001b[39m.\u001b[39mgdx \u001b[39m=\u001b[39m \u001b[39m\"\u001b[39m\u001b[39mdefault.gdx\u001b[39m\u001b[39m\"\u001b[39m\n",
      "File \u001b[1;32mc:\\Users\\jbroi\\anaconda3\\envs\\test\\Lib\\site-packages\\gamspy\\_container.py:858\u001b[0m, in \u001b[0;36mContainer._run\u001b[1;34m(self, options, output, backend, engine_config)\u001b[0m\n\u001b[0;32m    856\u001b[0m \u001b[39mif\u001b[39;00m backend \u001b[39m==\u001b[39m \u001b[39m\"\u001b[39m\u001b[39mlocal\u001b[39m\u001b[39m\"\u001b[39m:\n\u001b[0;32m    857\u001b[0m     \u001b[39mtry\u001b[39;00m:\n\u001b[1;32m--> 858\u001b[0m         \u001b[39mself\u001b[39m\u001b[39m.\u001b[39m_job\u001b[39m.\u001b[39mrun(\n\u001b[0;32m    859\u001b[0m             gams_options\u001b[39m=\u001b[39moptions,\n\u001b[0;32m    860\u001b[0m             checkpoint\u001b[39m=\u001b[39m\u001b[39mself\u001b[39m\u001b[39m.\u001b[39m_save_to,\n\u001b[0;32m    861\u001b[0m             create_out_db\u001b[39m=\u001b[39m\u001b[39mFalse\u001b[39;00m,\n\u001b[0;32m    862\u001b[0m             output\u001b[39m=\u001b[39moutput,\n\u001b[0;32m    863\u001b[0m         )\n\u001b[0;32m    864\u001b[0m     \u001b[39mexcept\u001b[39;00m \u001b[39mKeyboardInterrupt\u001b[39;00m:\n\u001b[0;32m    865\u001b[0m         \u001b[39mraise\u001b[39;00m EarlyQuit(\n\u001b[0;32m    866\u001b[0m             \u001b[39m\"\u001b[39m\u001b[39mKeyboard interrupt was received while solving the model\u001b[39m\u001b[39m\"\u001b[39m\n\u001b[0;32m    867\u001b[0m         )\n",
      "File \u001b[1;32m~\\AppData\\Roaming\\Python\\Python311\\site-packages\\gams\\control\\execution.py:1037\u001b[0m, in \u001b[0;36mGamsJob.run\u001b[1;34m(self, gams_options, checkpoint, output, create_out_db, databases)\u001b[0m\n\u001b[0;32m   1035\u001b[0m         \u001b[39mraise\u001b[39;00m gams\u001b[39m.\u001b[39mcontrol\u001b[39m.\u001b[39mworkspace\u001b[39m.\u001b[39mGamsExceptionExecution(\u001b[39m\"\u001b[39m\u001b[39mGAMS return code not 0 (\u001b[39m\u001b[39m\"\u001b[39m \u001b[39m+\u001b[39m \u001b[39mstr\u001b[39m(exitcode) \u001b[39m+\u001b[39m \u001b[39m\"\u001b[39m\u001b[39m), set the debug flag of the GamsWorkspace constructor to DebugLevel.KeepFiles or higher or define a working_directory to receive a listing file with more details\u001b[39m\u001b[39m\"\u001b[39m, exitcode)\n\u001b[0;32m   1036\u001b[0m     \u001b[39melse\u001b[39;00m:\n\u001b[1;32m-> 1037\u001b[0m         \u001b[39mraise\u001b[39;00m gams\u001b[39m.\u001b[39mcontrol\u001b[39m.\u001b[39mworkspace\u001b[39m.\u001b[39mGamsExceptionExecution(\u001b[39m\"\u001b[39m\u001b[39mGAMS return code not 0 (\u001b[39m\u001b[39m\"\u001b[39m \u001b[39m+\u001b[39m \u001b[39mstr\u001b[39m(exitcode) \u001b[39m+\u001b[39m \u001b[39m\"\u001b[39m\u001b[39m), check \u001b[39m\u001b[39m\"\u001b[39m \u001b[39m+\u001b[39m \u001b[39mself\u001b[39m\u001b[39m.\u001b[39m_workspace\u001b[39m.\u001b[39m_working_directory \u001b[39m+\u001b[39m os\u001b[39m.\u001b[39mpath\u001b[39m.\u001b[39msep \u001b[39m+\u001b[39m tmp_opt\u001b[39m.\u001b[39moutput \u001b[39m+\u001b[39m \u001b[39m\"\u001b[39m\u001b[39m for more details\u001b[39m\u001b[39m\"\u001b[39m, exitcode)\n\u001b[0;32m   1038\u001b[0m \u001b[39mself\u001b[39m\u001b[39m.\u001b[39m_p \u001b[39m=\u001b[39m \u001b[39mNone\u001b[39;00m\n\u001b[0;32m   1040\u001b[0m \u001b[39mif\u001b[39;00m tmp_cp:\n",
      "\u001b[1;31mGamsExceptionExecution\u001b[0m: GAMS return code not 0 (2), check C:\\Users\\jbroi\\AppData\\Local\\Temp\\tmpb57wt3c9\\_gams_py_gjo5.lst for more details"
     ]
    }
   ],
   "source": [
    "import sys\n",
    "\n",
    "transport.solve(output=sys.stdout)"
   ]
  },
  {
   "cell_type": "markdown",
   "metadata": {},
   "source": [
    "# Results\n"
   ]
  },
  {
   "cell_type": "code",
   "execution_count": null,
   "metadata": {},
   "outputs": [
    {
     "data": {
      "text/html": [
       "<div>\n",
       "<style scoped>\n",
       "    .dataframe tbody tr th:only-of-type {\n",
       "        vertical-align: middle;\n",
       "    }\n",
       "\n",
       "    .dataframe tbody tr th {\n",
       "        vertical-align: top;\n",
       "    }\n",
       "\n",
       "    .dataframe thead th {\n",
       "        text-align: right;\n",
       "    }\n",
       "</style>\n",
       "<table border=\"1\" class=\"dataframe\">\n",
       "  <thead>\n",
       "    <tr style=\"text-align: right;\">\n",
       "      <th></th>\n",
       "      <th></th>\n",
       "      <th>level</th>\n",
       "      <th>marginal</th>\n",
       "      <th>lower</th>\n",
       "      <th>upper</th>\n",
       "      <th>scale</th>\n",
       "    </tr>\n",
       "    <tr>\n",
       "      <th>i</th>\n",
       "      <th>j</th>\n",
       "      <th></th>\n",
       "      <th></th>\n",
       "      <th></th>\n",
       "      <th></th>\n",
       "      <th></th>\n",
       "    </tr>\n",
       "  </thead>\n",
       "  <tbody>\n",
       "    <tr>\n",
       "      <th rowspan=\"3\" valign=\"top\">seattle</th>\n",
       "      <th>new-york</th>\n",
       "      <td>0.0</td>\n",
       "      <td>-0.000</td>\n",
       "      <td>0.0</td>\n",
       "      <td>inf</td>\n",
       "      <td>1.0</td>\n",
       "    </tr>\n",
       "    <tr>\n",
       "      <th>chicago</th>\n",
       "      <td>300.0</td>\n",
       "      <td>0.000</td>\n",
       "      <td>0.0</td>\n",
       "      <td>inf</td>\n",
       "      <td>1.0</td>\n",
       "    </tr>\n",
       "    <tr>\n",
       "      <th>topeka</th>\n",
       "      <td>0.0</td>\n",
       "      <td>0.036</td>\n",
       "      <td>0.0</td>\n",
       "      <td>inf</td>\n",
       "      <td>1.0</td>\n",
       "    </tr>\n",
       "    <tr>\n",
       "      <th rowspan=\"3\" valign=\"top\">san-diego</th>\n",
       "      <th>new-york</th>\n",
       "      <td>325.0</td>\n",
       "      <td>0.000</td>\n",
       "      <td>0.0</td>\n",
       "      <td>inf</td>\n",
       "      <td>1.0</td>\n",
       "    </tr>\n",
       "    <tr>\n",
       "      <th>chicago</th>\n",
       "      <td>0.0</td>\n",
       "      <td>0.009</td>\n",
       "      <td>0.0</td>\n",
       "      <td>inf</td>\n",
       "      <td>1.0</td>\n",
       "    </tr>\n",
       "    <tr>\n",
       "      <th>topeka</th>\n",
       "      <td>275.0</td>\n",
       "      <td>0.000</td>\n",
       "      <td>0.0</td>\n",
       "      <td>inf</td>\n",
       "      <td>1.0</td>\n",
       "    </tr>\n",
       "  </tbody>\n",
       "</table>\n",
       "</div>"
      ],
      "text/plain": [
       "                    level  marginal  lower  upper  scale\n",
       "i         j                                             \n",
       "seattle   new-york    0.0    -0.000    0.0    inf    1.0\n",
       "          chicago   300.0     0.000    0.0    inf    1.0\n",
       "          topeka      0.0     0.036    0.0    inf    1.0\n",
       "san-diego new-york  325.0     0.000    0.0    inf    1.0\n",
       "          chicago     0.0     0.009    0.0    inf    1.0\n",
       "          topeka    275.0     0.000    0.0    inf    1.0"
      ]
     },
     "execution_count": 15,
     "metadata": {},
     "output_type": "execute_result"
    }
   ],
   "source": [
    "x_s = x.records.set_index([\"i\", \"j\"])\n",
    "\n",
    "x_s"
   ]
  },
  {
   "cell_type": "code",
   "execution_count": null,
   "metadata": {},
   "outputs": [
    {
     "data": {
      "text/plain": [
       "153.675"
      ]
     },
     "execution_count": 16,
     "metadata": {},
     "output_type": "execute_result"
    }
   ],
   "source": [
    "transport.objective_value"
   ]
  },
  {
   "cell_type": "code",
   "execution_count": null,
   "metadata": {},
   "outputs": [
    {
     "data": {
      "text/plain": [
       "<ModelStatus.OptimalGlobal: 1>"
      ]
     },
     "execution_count": 17,
     "metadata": {},
     "output_type": "execute_result"
    }
   ],
   "source": [
    "transport.status"
   ]
  }
 ],
 "metadata": {
  "kernelspec": {
   "display_name": "gamspy",
   "language": "python",
   "name": "python3"
  },
  "language_info": {
   "codemirror_mode": {
    "name": "ipython",
    "version": 3
   },
   "file_extension": ".py",
   "mimetype": "text/x-python",
   "name": "python",
   "nbconvert_exporter": "python",
   "pygments_lexer": "ipython3",
   "version": "3.11.5"
  },
  "orig_nbformat": 4
 },
 "nbformat": 4,
 "nbformat_minor": 2
}
