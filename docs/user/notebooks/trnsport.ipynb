{
 "cells": [
  {
   "cell_type": "markdown",
   "metadata": {},
   "source": [
    "# A Transportation Problem\n",
    "## Importing GAMSPy"
   ]
  },
  {
   "cell_type": "code",
   "execution_count": 6,
   "metadata": {},
   "outputs": [],
   "source": [
    "# Install dependencies\n",
    "! pip install -q gamspy"
   ]
  },
  {
   "cell_type": "code",
   "execution_count": 1,
   "metadata": {},
   "outputs": [],
   "source": [
    "from gamspy import Model, Container, Sum, Sense"
   ]
  },
  {
   "cell_type": "markdown",
   "metadata": {},
   "source": [
    "## Importing Further Python Libraries\n"
   ]
  },
  {
   "cell_type": "code",
   "execution_count": 2,
   "metadata": {},
   "outputs": [],
   "source": [
    "import pandas as pd\n",
    "import sys"
   ]
  },
  {
   "cell_type": "markdown",
   "metadata": {},
   "source": [
    "## Prepare data"
   ]
  },
  {
   "cell_type": "code",
   "execution_count": 3,
   "metadata": {},
   "outputs": [
    {
     "data": {
      "text/html": [
       "<div>\n",
       "<style scoped>\n",
       "    .dataframe tbody tr th:only-of-type {\n",
       "        vertical-align: middle;\n",
       "    }\n",
       "\n",
       "    .dataframe tbody tr th {\n",
       "        vertical-align: top;\n",
       "    }\n",
       "\n",
       "    .dataframe thead th {\n",
       "        text-align: right;\n",
       "    }\n",
       "</style>\n",
       "<table border=\"1\" class=\"dataframe\">\n",
       "  <thead>\n",
       "    <tr style=\"text-align: right;\">\n",
       "      <th></th>\n",
       "      <th></th>\n",
       "      <th>distance</th>\n",
       "    </tr>\n",
       "    <tr>\n",
       "      <th>from</th>\n",
       "      <th>to</th>\n",
       "      <th></th>\n",
       "    </tr>\n",
       "  </thead>\n",
       "  <tbody>\n",
       "    <tr>\n",
       "      <th rowspan=\"3\" valign=\"top\">seattle</th>\n",
       "      <th>new-york</th>\n",
       "      <td>2.5</td>\n",
       "    </tr>\n",
       "    <tr>\n",
       "      <th>chicago</th>\n",
       "      <td>1.7</td>\n",
       "    </tr>\n",
       "    <tr>\n",
       "      <th>topeka</th>\n",
       "      <td>1.8</td>\n",
       "    </tr>\n",
       "    <tr>\n",
       "      <th rowspan=\"3\" valign=\"top\">san-diego</th>\n",
       "      <th>new-york</th>\n",
       "      <td>2.5</td>\n",
       "    </tr>\n",
       "    <tr>\n",
       "      <th>chicago</th>\n",
       "      <td>1.8</td>\n",
       "    </tr>\n",
       "    <tr>\n",
       "      <th>topeka</th>\n",
       "      <td>1.4</td>\n",
       "    </tr>\n",
       "  </tbody>\n",
       "</table>\n",
       "</div>"
      ],
      "text/plain": [
       "                    distance\n",
       "from      to                \n",
       "seattle   new-york       2.5\n",
       "          chicago        1.7\n",
       "          topeka         1.8\n",
       "san-diego new-york       2.5\n",
       "          chicago        1.8\n",
       "          topeka         1.4"
      ]
     },
     "execution_count": 3,
     "metadata": {},
     "output_type": "execute_result"
    }
   ],
   "source": [
    "distances = pd.DataFrame([\n",
    "    [\"seattle\", \"new-york\", 2.5],\n",
    "    [\"seattle\", \"chicago\", 1.7],\n",
    "    [\"seattle\", \"topeka\", 1.8],\n",
    "    [\"san-diego\", \"new-york\", 2.5],\n",
    "    [\"san-diego\", \"chicago\", 1.8],\n",
    "    [\"san-diego\", \"topeka\", 1.4],\n",
    "], columns=['from', 'to', 'distance'])\n",
    "\n",
    "distances.set_index(['from', 'to'])"
   ]
  },
  {
   "cell_type": "code",
   "execution_count": 4,
   "metadata": {},
   "outputs": [
    {
     "data": {
      "text/html": [
       "<div>\n",
       "<style scoped>\n",
       "    .dataframe tbody tr th:only-of-type {\n",
       "        vertical-align: middle;\n",
       "    }\n",
       "\n",
       "    .dataframe tbody tr th {\n",
       "        vertical-align: top;\n",
       "    }\n",
       "\n",
       "    .dataframe thead th {\n",
       "        text-align: right;\n",
       "    }\n",
       "</style>\n",
       "<table border=\"1\" class=\"dataframe\">\n",
       "  <thead>\n",
       "    <tr style=\"text-align: right;\">\n",
       "      <th></th>\n",
       "      <th>capacity</th>\n",
       "    </tr>\n",
       "    <tr>\n",
       "      <th>city</th>\n",
       "      <th></th>\n",
       "    </tr>\n",
       "  </thead>\n",
       "  <tbody>\n",
       "    <tr>\n",
       "      <th>seattle</th>\n",
       "      <td>350</td>\n",
       "    </tr>\n",
       "    <tr>\n",
       "      <th>san-diego</th>\n",
       "      <td>600</td>\n",
       "    </tr>\n",
       "  </tbody>\n",
       "</table>\n",
       "</div>"
      ],
      "text/plain": [
       "           capacity\n",
       "city               \n",
       "seattle         350\n",
       "san-diego       600"
      ]
     },
     "execution_count": 4,
     "metadata": {},
     "output_type": "execute_result"
    }
   ],
   "source": [
    "capacities = pd.DataFrame([[\"seattle\", 350], [\"san-diego\", 600]], columns=['city', 'capacity'])\n",
    "\n",
    "capacities.set_index('city')"
   ]
  },
  {
   "cell_type": "code",
   "execution_count": 5,
   "metadata": {},
   "outputs": [
    {
     "data": {
      "text/html": [
       "<div>\n",
       "<style scoped>\n",
       "    .dataframe tbody tr th:only-of-type {\n",
       "        vertical-align: middle;\n",
       "    }\n",
       "\n",
       "    .dataframe tbody tr th {\n",
       "        vertical-align: top;\n",
       "    }\n",
       "\n",
       "    .dataframe thead th {\n",
       "        text-align: right;\n",
       "    }\n",
       "</style>\n",
       "<table border=\"1\" class=\"dataframe\">\n",
       "  <thead>\n",
       "    <tr style=\"text-align: right;\">\n",
       "      <th></th>\n",
       "      <th>demand</th>\n",
       "    </tr>\n",
       "    <tr>\n",
       "      <th>city</th>\n",
       "      <th></th>\n",
       "    </tr>\n",
       "  </thead>\n",
       "  <tbody>\n",
       "    <tr>\n",
       "      <th>new-york</th>\n",
       "      <td>325</td>\n",
       "    </tr>\n",
       "    <tr>\n",
       "      <th>chicago</th>\n",
       "      <td>300</td>\n",
       "    </tr>\n",
       "    <tr>\n",
       "      <th>topeka</th>\n",
       "      <td>275</td>\n",
       "    </tr>\n",
       "  </tbody>\n",
       "</table>\n",
       "</div>"
      ],
      "text/plain": [
       "          demand\n",
       "city            \n",
       "new-york     325\n",
       "chicago      300\n",
       "topeka       275"
      ]
     },
     "execution_count": 5,
     "metadata": {},
     "output_type": "execute_result"
    }
   ],
   "source": [
    "demands = pd.DataFrame([[\"new-york\", 325], [\"chicago\", 300], [\"topeka\", 275]], columns=['city', 'demand'])\n",
    "\n",
    "demands.set_index('city')"
   ]
  },
  {
   "cell_type": "markdown",
   "metadata": {},
   "source": [
    "## Create a Container"
   ]
  },
  {
   "cell_type": "code",
   "execution_count": 6,
   "metadata": {},
   "outputs": [],
   "source": [
    "m = Container()"
   ]
  },
  {
   "cell_type": "markdown",
   "metadata": {},
   "source": [
    "## Define Sets"
   ]
  },
  {
   "cell_type": "code",
   "execution_count": 7,
   "metadata": {},
   "outputs": [],
   "source": [
    "i = m.addSet(name=\"i\", records=capacities.city)\n",
    "j = m.addSet(name=\"j\", records=demands.city)"
   ]
  },
  {
   "cell_type": "markdown",
   "metadata": {},
   "source": [
    "## Parameter"
   ]
  },
  {
   "cell_type": "code",
   "execution_count": 8,
   "metadata": {},
   "outputs": [],
   "source": [
    "a = m.addParameter(name=\"a\", domain=[i], records=capacities)\n",
    "b = m.addParameter(name=\"b\", domain=[j], records=demands)\n",
    "d = m.addParameter(name=\"d\", domain=[i, j], records=distances)\n",
    "c = m.addParameter(name=\"c\", domain=[i, j])\n",
    "c[i, j] = 90 * d[i, j] / 1000"
   ]
  },
  {
   "cell_type": "markdown",
   "metadata": {},
   "source": [
    "## Variables"
   ]
  },
  {
   "cell_type": "code",
   "execution_count": 9,
   "metadata": {},
   "outputs": [],
   "source": [
    "x = m.addVariable(name=\"x\", domain=[i, j], type=\"Positive\")"
   ]
  },
  {
   "cell_type": "markdown",
   "metadata": {},
   "source": [
    "## Equations\n",
    "### Supply"
   ]
  },
  {
   "cell_type": "code",
   "execution_count": 10,
   "metadata": {},
   "outputs": [],
   "source": [
    "supply = m.addEquation(name=\"supply\", domain=[i])\n",
    "\n",
    "supply[i] = Sum(j, x[i, j]) <= a[i]"
   ]
  },
  {
   "cell_type": "markdown",
   "metadata": {},
   "source": [
    "### Demand"
   ]
  },
  {
   "cell_type": "code",
   "execution_count": 11,
   "metadata": {},
   "outputs": [],
   "source": [
    "demand = m.addEquation(name=\"demand\", domain=[j])\n",
    "\n",
    "demand[j] = Sum(i, x[i, j]) >= b[j]"
   ]
  },
  {
   "cell_type": "markdown",
   "metadata": {},
   "source": [
    "## Objective"
   ]
  },
  {
   "cell_type": "code",
   "execution_count": 12,
   "metadata": {},
   "outputs": [],
   "source": [
    "obj = Sum((i, j), c[i, j] * x[i, j])"
   ]
  },
  {
   "cell_type": "markdown",
   "metadata": {},
   "source": [
    "## Model"
   ]
  },
  {
   "cell_type": "code",
   "execution_count": 13,
   "metadata": {},
   "outputs": [],
   "source": [
    "transport = Model(\n",
    "        m,\n",
    "        name=\"transport\",\n",
    "        equations=m.getEquations(),\n",
    "        problem=\"LP\",\n",
    "        sense=Sense.MIN,\n",
    "        objective=obj,\n",
    "    )"
   ]
  },
  {
   "cell_type": "markdown",
   "metadata": {},
   "source": [
    "## Solve"
   ]
  },
  {
   "cell_type": "code",
   "execution_count": 14,
   "metadata": {},
   "outputs": [
    {
     "name": "stdout",
     "output_type": "stream",
     "text": [
      "--- Job _gams_py_gjo0.gms Start 09/25/23 16:49:27 45.0.0 a37313c4 WEX-WEI x86 64bit/MS Windows\n",
      "--- Applying:\n",
      "    C:\\Users\\jbroi\\anaconda3\\envs\\test\\Lib\\site-packages\\gamspy\\minigams\\windows\\gmsprmNT.txt\n",
      "    C:\\Users\\jbroi\\Documents\\GAMS\\gamsconfig.yaml\n",
      "--- GAMS Parameters defined\n",
      "    LP HIGHS\n",
      "    MIP HIGHS\n",
      "    RMIP HIGHS\n",
      "    NLP CONOPT\n",
      "    MCP PATH\n",
      "    MPEC NLPEC\n",
      "    RMPEC CONVERT\n",
      "    CNS CONOPT\n",
      "    DNLP CONOPT\n",
      "    RMINLP CONOPT\n",
      "    MINLP SBB\n",
      "    QCP CONOPT\n",
      "    MIQCP SBB\n",
      "    RMIQCP CONOPT\n",
      "    EMP CONVERT\n",
      "    Input C:\\Users\\jbroi\\AppData\\Local\\Temp\\tmp1eqsfa5d\\_gams_py_gjo0.gms\n",
      "    Output C:\\Users\\jbroi\\AppData\\Local\\Temp\\tmp1eqsfa5d\\_gams_py_gjo0.lst\n",
      "    Save C:\\Users\\jbroi\\AppData\\Local\\Temp\\tmp1eqsfa5d\\default_save.g00\n",
      "    ScrDir C:\\Users\\jbroi\\AppData\\Local\\Temp\\tmp1eqsfa5d\\225a\\\n",
      "    SysDir C:\\Users\\jbroi\\anaconda3\\envs\\test\\Lib\\site-packages\\gamspy\\minigams\\windows\\\n",
      "    CurDir C:\\Users\\jbroi\\AppData\\Local\\Temp\\tmp1eqsfa5d\\\n",
      "    LogOption 3\n",
      "    LogFile C:\\Users\\jbroi\\AppData\\Local\\Temp\\tmp1eqsfa5d\\_gams_py_gjo0.log\n",
      "    GDX C:\\Users\\jbroi\\AppData\\Local\\Temp\\tmp1eqsfa5d\\default.gdx\n",
      "*** ************* ALPHA release\n",
      "*** GAMS Base Module 45.0.0 a37313c4 Sep 14, 2023  (ALPHA) WEI x86 64bit/MS Window\n",
      "*** ************* ALPHA release\n",
      "Licensee: GAMS Working License                           S230720|0002CO-GEN\n",
      "          GAMS Software GmbH, Braunschweig Office                   DCE2920\n",
      "          C:\\Users\\jbroi\\Documents\\GAMS\\gamslice.txt\n",
      "          License Admin: Justine Broihan, jbroihan@gams.com                \n",
      "          Evaluation license: Not for commercial or production use\n",
      "          The evaluation period of the license will expire on Jan 16, 2024\n",
      "Processor information: 1 socket(s), 12 core(s), and 16 thread(s) available\n",
      "GAMS 45.0.0   Copyright (C) 1987-2023 GAMS Development. All rights reserved\n",
      "--- Starting compilation\n",
      "--- _gams_py_gjo0.gms(2) 2 Mb\n",
      "--- GDXin=C:\\Users\\jbroi\\AppData\\Local\\Temp\\tmp1eqsfa5d\\default.gdx\n",
      "--- GDX File ($gdxLoad) C:\\Users\\jbroi\\AppData\\Local\\Temp\\tmp1eqsfa5d\\default.gdx\n",
      "--- _gams_py_gjo0.gms(5) 3 Mb\n",
      "--- GDXin=C:\\Users\\jbroi\\AppData\\Local\\Temp\\tmp1eqsfa5d\\default.gdx\n",
      "--- GDX File ($gdxLoad) C:\\Users\\jbroi\\AppData\\Local\\Temp\\tmp1eqsfa5d\\default.gdx\n",
      "--- _gams_py_gjo0.gms(8) 3 Mb\n",
      "--- GDXin=C:\\Users\\jbroi\\AppData\\Local\\Temp\\tmp1eqsfa5d\\default.gdx\n",
      "--- GDX File ($gdxLoad) C:\\Users\\jbroi\\AppData\\Local\\Temp\\tmp1eqsfa5d\\default.gdx\n",
      "--- _gams_py_gjo0.gms(11) 3 Mb\n",
      "--- GDXin=C:\\Users\\jbroi\\AppData\\Local\\Temp\\tmp1eqsfa5d\\default.gdx\n",
      "--- GDX File ($gdxLoad) C:\\Users\\jbroi\\AppData\\Local\\Temp\\tmp1eqsfa5d\\default.gdx\n",
      "--- _gams_py_gjo0.gms(14) 3 Mb\n",
      "--- GDXin=C:\\Users\\jbroi\\AppData\\Local\\Temp\\tmp1eqsfa5d\\default.gdx\n",
      "--- GDX File ($gdxLoad) C:\\Users\\jbroi\\AppData\\Local\\Temp\\tmp1eqsfa5d\\default.gdx\n",
      "--- _gams_py_gjo0.gms(17) 3 Mb\n",
      "--- GDXin=C:\\Users\\jbroi\\AppData\\Local\\Temp\\tmp1eqsfa5d\\default.gdx\n",
      "--- GDX File ($gdxLoad) C:\\Users\\jbroi\\AppData\\Local\\Temp\\tmp1eqsfa5d\\default.gdx\n",
      "--- _gams_py_gjo0.gms(22) 3 Mb\n",
      "--- GDXin=C:\\Users\\jbroi\\AppData\\Local\\Temp\\tmp1eqsfa5d\\default.gdx\n",
      "--- GDX File ($gdxLoad) C:\\Users\\jbroi\\AppData\\Local\\Temp\\tmp1eqsfa5d\\default.gdx\n",
      "--- _gams_py_gjo0.gms(25) 3 Mb\n",
      "--- GDXin=C:\\Users\\jbroi\\AppData\\Local\\Temp\\tmp1eqsfa5d\\default.gdx\n",
      "--- GDX File ($gdxLoad) C:\\Users\\jbroi\\AppData\\Local\\Temp\\tmp1eqsfa5d\\default.gdx\n",
      "--- _gams_py_gjo0.gms(30) 3 Mb\n",
      "--- GDXin=C:\\Users\\jbroi\\AppData\\Local\\Temp\\tmp1eqsfa5d\\default.gdx\n",
      "--- GDX File ($gdxLoad) C:\\Users\\jbroi\\AppData\\Local\\Temp\\tmp1eqsfa5d\\default.gdx\n",
      "--- _gams_py_gjo0.gms(35) 3 Mb\n",
      "--- GDXin=C:\\Users\\jbroi\\AppData\\Local\\Temp\\tmp1eqsfa5d\\default.gdx\n",
      "--- GDX File ($gdxLoad) C:\\Users\\jbroi\\AppData\\Local\\Temp\\tmp1eqsfa5d\\default.gdx\n",
      "--- _gams_py_gjo0.gms(38) 3 Mb\n",
      "--- GDXin=C:\\Users\\jbroi\\AppData\\Local\\Temp\\tmp1eqsfa5d\\default.gdx\n",
      "--- GDX File ($gdxLoad) C:\\Users\\jbroi\\AppData\\Local\\Temp\\tmp1eqsfa5d\\default.gdx\n",
      "--- _gams_py_gjo0.gms(93) 3 Mb\n",
      "--- Starting execution: elapsed 0:00:00.032\n",
      "--- _gams_py_gjo0.gms(19) 4 Mb\n",
      "--- Generating LP model transport\n",
      "--- _gams_py_gjo0.gms(68) 4 Mb\n",
      "---   6 rows  7 columns  19 non-zeroes\n",
      "--- Range statistics (absolute non-zero finite values)\n",
      "--- RHS       [min, max] : [ 2.750E+02, 6.000E+02] - Zero values observed as well\n",
      "--- Bound     [min, max] : [        NA,        NA] - Zero values observed as well\n",
      "--- Matrix    [min, max] : [ 1.260E-01, 1.000E+00]\n",
      "--- Executing HIGHS (Solvelink=2): elapsed 0:00:00.049\n",
      "\n",
      "HIGHS            45.0.0 a37313c4 Sep 14, 2023  (ALPHA) WEI x86 64bit/MS Window\n",
      "\n",
      "Running HiGHS 1.5.4 [git hash: 977756503]\n",
      "Copyright (c) 2023 HiGHS under MIT licence terms\n",
      "Options set:\n",
      "  time_limit           = 1e+10\n",
      "  threads              = 1\n",
      "  mip_abs_gap          = 0\n",
      "\n",
      "Solving LP without presolve or with basis\n",
      "Using EKK dual simplex solver - serial\n",
      "  Iteration        Objective     Infeasibilities num(sum)\n",
      "          0     0.0000000000e+00 Pr: 3(900) 0s\n",
      "          3     1.5367500000e+02 Pr: 0(0) 0s\n",
      "Model   status      : Optimal\n",
      "Simplex   iterations: 3\n",
      "Objective value     :  1.5367500000e+02\n",
      "HiGHS run time      :          0.00\n",
      "--- Reading solution for model transport\n",
      "--- Executing after solve: elapsed 0:00:00.144\n",
      "--- _gams_py_gjo0.gms(93) 4 Mb\n",
      "--- GDX File C:\\Users\\jbroi\\AppData\\Local\\Temp\\tmp1eqsfa5d\\default.gdx\n",
      "*** Status: Normal completion\n",
      "--- Job _gams_py_gjo0.gms Stop 09/25/23 16:49:27 elapsed 0:00:00.148\n"
     ]
    }
   ],
   "source": [
    "transport.solve(output=sys.stdout)"
   ]
  },
  {
   "cell_type": "markdown",
   "metadata": {},
   "source": [
    "## Results"
   ]
  },
  {
   "cell_type": "code",
   "execution_count": 15,
   "metadata": {},
   "outputs": [
    {
     "data": {
      "text/html": [
       "<div>\n",
       "<style scoped>\n",
       "    .dataframe tbody tr th:only-of-type {\n",
       "        vertical-align: middle;\n",
       "    }\n",
       "\n",
       "    .dataframe tbody tr th {\n",
       "        vertical-align: top;\n",
       "    }\n",
       "\n",
       "    .dataframe thead th {\n",
       "        text-align: right;\n",
       "    }\n",
       "</style>\n",
       "<table border=\"1\" class=\"dataframe\">\n",
       "  <thead>\n",
       "    <tr style=\"text-align: right;\">\n",
       "      <th></th>\n",
       "      <th></th>\n",
       "      <th>level</th>\n",
       "      <th>marginal</th>\n",
       "      <th>lower</th>\n",
       "      <th>upper</th>\n",
       "      <th>scale</th>\n",
       "    </tr>\n",
       "    <tr>\n",
       "      <th>i</th>\n",
       "      <th>j</th>\n",
       "      <th></th>\n",
       "      <th></th>\n",
       "      <th></th>\n",
       "      <th></th>\n",
       "      <th></th>\n",
       "    </tr>\n",
       "  </thead>\n",
       "  <tbody>\n",
       "    <tr>\n",
       "      <th rowspan=\"3\" valign=\"top\">seattle</th>\n",
       "      <th>new-york</th>\n",
       "      <td>0.0</td>\n",
       "      <td>-0.000</td>\n",
       "      <td>0.0</td>\n",
       "      <td>inf</td>\n",
       "      <td>1.0</td>\n",
       "    </tr>\n",
       "    <tr>\n",
       "      <th>chicago</th>\n",
       "      <td>300.0</td>\n",
       "      <td>0.000</td>\n",
       "      <td>0.0</td>\n",
       "      <td>inf</td>\n",
       "      <td>1.0</td>\n",
       "    </tr>\n",
       "    <tr>\n",
       "      <th>topeka</th>\n",
       "      <td>0.0</td>\n",
       "      <td>0.036</td>\n",
       "      <td>0.0</td>\n",
       "      <td>inf</td>\n",
       "      <td>1.0</td>\n",
       "    </tr>\n",
       "    <tr>\n",
       "      <th rowspan=\"3\" valign=\"top\">san-diego</th>\n",
       "      <th>new-york</th>\n",
       "      <td>325.0</td>\n",
       "      <td>0.000</td>\n",
       "      <td>0.0</td>\n",
       "      <td>inf</td>\n",
       "      <td>1.0</td>\n",
       "    </tr>\n",
       "    <tr>\n",
       "      <th>chicago</th>\n",
       "      <td>0.0</td>\n",
       "      <td>0.009</td>\n",
       "      <td>0.0</td>\n",
       "      <td>inf</td>\n",
       "      <td>1.0</td>\n",
       "    </tr>\n",
       "    <tr>\n",
       "      <th>topeka</th>\n",
       "      <td>275.0</td>\n",
       "      <td>0.000</td>\n",
       "      <td>0.0</td>\n",
       "      <td>inf</td>\n",
       "      <td>1.0</td>\n",
       "    </tr>\n",
       "  </tbody>\n",
       "</table>\n",
       "</div>"
      ],
      "text/plain": [
       "                    level  marginal  lower  upper  scale\n",
       "i         j                                             \n",
       "seattle   new-york    0.0    -0.000    0.0    inf    1.0\n",
       "          chicago   300.0     0.000    0.0    inf    1.0\n",
       "          topeka      0.0     0.036    0.0    inf    1.0\n",
       "san-diego new-york  325.0     0.000    0.0    inf    1.0\n",
       "          chicago     0.0     0.009    0.0    inf    1.0\n",
       "          topeka    275.0     0.000    0.0    inf    1.0"
      ]
     },
     "execution_count": 15,
     "metadata": {},
     "output_type": "execute_result"
    }
   ],
   "source": [
    "x_s = x.records.set_index(['i', 'j'])\n",
    "\n",
    "x_s"
   ]
  },
  {
   "cell_type": "code",
   "execution_count": 16,
   "metadata": {},
   "outputs": [
    {
     "data": {
      "text/plain": [
       "153.675"
      ]
     },
     "execution_count": 16,
     "metadata": {},
     "output_type": "execute_result"
    }
   ],
   "source": [
    "transport.objective_value"
   ]
  },
  {
   "cell_type": "code",
   "execution_count": 17,
   "metadata": {},
   "outputs": [
    {
     "data": {
      "text/plain": [
       "<ModelStatus.OptimalGlobal: 1>"
      ]
     },
     "execution_count": 17,
     "metadata": {},
     "output_type": "execute_result"
    }
   ],
   "source": [
    "transport.status"
   ]
  }
 ],
 "metadata": {
  "kernelspec": {
   "display_name": "gamspy",
   "language": "python",
   "name": "python3"
  },
  "language_info": {
   "codemirror_mode": {
    "name": "ipython",
    "version": 3
   },
   "file_extension": ".py",
   "mimetype": "text/x-python",
   "name": "python",
   "nbconvert_exporter": "python",
   "pygments_lexer": "ipython3",
   "version": "3.11.5"
  },
  "orig_nbformat": 4
 },
 "nbformat": 4,
 "nbformat_minor": 2
}
