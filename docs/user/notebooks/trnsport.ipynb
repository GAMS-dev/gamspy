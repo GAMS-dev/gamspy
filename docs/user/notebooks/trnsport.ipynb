{
 "cells": [
  {
   "cell_type": "markdown",
   "metadata": {},
   "source": [
    "# Quick Start Guide\n",
    "\n",
    "## Introduction\n",
    "\n",
    "This quick start guide aims to briefly introduce you to GAMSPy and its main features. After completing this guide you will be able to implement basic mathematical models using GAMSPy. For advanced features we advise you to look into our [Users Guide](https://gamspy.readthedocs.io/en/latest/user/index.html) and the [model library](https://gamspy.readthedocs.io/en/latest/user/model_library.html).\n",
    "\n",
    "To successfully complete this tutorial it is helpful, but not mandatory, to have basic knowledge of programming in Python and the use of the [Pandas library](https://pandas.pydata.org/).\n",
    "\n",
    "## A Transportation Problem\n",
    "\n",
    "The example we will use in this guide is an instance of the transportation problem. We are given the supplies at several plants and the demands at several markets for a single commodity, and we are given the unit costs of shipping the commodity from plants to markets. The economic question is: how much shipment should there be between each plant and each market so as to minimize total transport cost?\n",
    "\n",
    "The algebraic representation of this problem is usually presented in a format similar to the following.\n",
    "\n",
    "Indices:\n",
    "\n",
    "- $i$ = plants\n",
    "- $j$ = markets\n",
    "\n",
    "Given Data:\n",
    "\n",
    "- $a_i$ = supply of commodity of plant $i$ (in cases)\n",
    "- $b_j$ = demand for commodity at market $j$\n",
    "- $c_{ij}$ = cost per unit shipment between plant $i$ and market $j$\n",
    "\n",
    "Decision Variables:\n",
    "\n",
    "- $x_{ij}$ = amount of commodity to ship from plant $i$ to market $j$ where $x_{ij} \\ge 0$ for all $i,j$\n",
    "\n",
    "Constraints:\n",
    "\n",
    "- Observe supply limit at plant $i$: $\\sum_j x_{ij} \\le a_i \\: \\forall i$\n",
    "- Satisfy demand at market $j$: $\\sum_i x_{ij} \\ge b_j \\: \\forall j$\n",
    "- Objective Function: Minimize $\\sum_i \\sum_j c_{ij} \\cdot x_{ij}$\n"
   ]
  },
  {
   "cell_type": "markdown",
   "metadata": {},
   "source": [
    "## Data\n",
    "\n",
    "We start by using the Pandas library to include the data which we will later pass to our optimization model.\n"
   ]
  },
  {
   "cell_type": "code",
   "execution_count": 62,
   "metadata": {},
   "outputs": [
    {
     "data": {
      "text/html": [
       "<div>\n",
       "<style scoped>\n",
       "    .dataframe tbody tr th:only-of-type {\n",
       "        vertical-align: middle;\n",
       "    }\n",
       "\n",
       "    .dataframe tbody tr th {\n",
       "        vertical-align: top;\n",
       "    }\n",
       "\n",
       "    .dataframe thead th {\n",
       "        text-align: right;\n",
       "    }\n",
       "</style>\n",
       "<table border=\"1\" class=\"dataframe\">\n",
       "  <thead>\n",
       "    <tr style=\"text-align: right;\">\n",
       "      <th></th>\n",
       "      <th>capacity</th>\n",
       "    </tr>\n",
       "    <tr>\n",
       "      <th>city</th>\n",
       "      <th></th>\n",
       "    </tr>\n",
       "  </thead>\n",
       "  <tbody>\n",
       "    <tr>\n",
       "      <th>seattle</th>\n",
       "      <td>350</td>\n",
       "    </tr>\n",
       "    <tr>\n",
       "      <th>san-diego</th>\n",
       "      <td>600</td>\n",
       "    </tr>\n",
       "  </tbody>\n",
       "</table>\n",
       "</div>"
      ],
      "text/plain": [
       "           capacity\n",
       "city               \n",
       "seattle         350\n",
       "san-diego       600"
      ]
     },
     "execution_count": 62,
     "metadata": {},
     "output_type": "execute_result"
    }
   ],
   "source": [
    "import pandas as pd\n",
    "\n",
    "capacities = pd.DataFrame(\n",
    "    [[\"seattle\", 350], [\"san-diego\", 600]], columns=[\"city\", \"capacity\"]\n",
    ").set_index(\"city\")\n",
    "\n",
    "capacities"
   ]
  },
  {
   "cell_type": "code",
   "execution_count": 63,
   "metadata": {},
   "outputs": [
    {
     "data": {
      "text/html": [
       "<div>\n",
       "<style scoped>\n",
       "    .dataframe tbody tr th:only-of-type {\n",
       "        vertical-align: middle;\n",
       "    }\n",
       "\n",
       "    .dataframe tbody tr th {\n",
       "        vertical-align: top;\n",
       "    }\n",
       "\n",
       "    .dataframe thead th {\n",
       "        text-align: right;\n",
       "    }\n",
       "</style>\n",
       "<table border=\"1\" class=\"dataframe\">\n",
       "  <thead>\n",
       "    <tr style=\"text-align: right;\">\n",
       "      <th></th>\n",
       "      <th>demand</th>\n",
       "    </tr>\n",
       "    <tr>\n",
       "      <th>city</th>\n",
       "      <th></th>\n",
       "    </tr>\n",
       "  </thead>\n",
       "  <tbody>\n",
       "    <tr>\n",
       "      <th>new-york</th>\n",
       "      <td>325</td>\n",
       "    </tr>\n",
       "    <tr>\n",
       "      <th>chicago</th>\n",
       "      <td>300</td>\n",
       "    </tr>\n",
       "    <tr>\n",
       "      <th>topeka</th>\n",
       "      <td>275</td>\n",
       "    </tr>\n",
       "  </tbody>\n",
       "</table>\n",
       "</div>"
      ],
      "text/plain": [
       "          demand\n",
       "city            \n",
       "new-york     325\n",
       "chicago      300\n",
       "topeka       275"
      ]
     },
     "execution_count": 63,
     "metadata": {},
     "output_type": "execute_result"
    }
   ],
   "source": [
    "demands = pd.DataFrame(\n",
    "    [[\"new-york\", 325], [\"chicago\", 300], [\"topeka\", 275]], columns=[\"city\", \"demand\"]\n",
    ").set_index(\"city\")\n",
    "\n",
    "demands"
   ]
  },
  {
   "cell_type": "code",
   "execution_count": 64,
   "metadata": {},
   "outputs": [
    {
     "data": {
      "text/html": [
       "<div>\n",
       "<style scoped>\n",
       "    .dataframe tbody tr th:only-of-type {\n",
       "        vertical-align: middle;\n",
       "    }\n",
       "\n",
       "    .dataframe tbody tr th {\n",
       "        vertical-align: top;\n",
       "    }\n",
       "\n",
       "    .dataframe thead th {\n",
       "        text-align: right;\n",
       "    }\n",
       "</style>\n",
       "<table border=\"1\" class=\"dataframe\">\n",
       "  <thead>\n",
       "    <tr style=\"text-align: right;\">\n",
       "      <th></th>\n",
       "      <th></th>\n",
       "      <th>distance</th>\n",
       "    </tr>\n",
       "    <tr>\n",
       "      <th>from</th>\n",
       "      <th>to</th>\n",
       "      <th></th>\n",
       "    </tr>\n",
       "  </thead>\n",
       "  <tbody>\n",
       "    <tr>\n",
       "      <th rowspan=\"3\" valign=\"top\">seattle</th>\n",
       "      <th>new-york</th>\n",
       "      <td>2.5</td>\n",
       "    </tr>\n",
       "    <tr>\n",
       "      <th>chicago</th>\n",
       "      <td>1.7</td>\n",
       "    </tr>\n",
       "    <tr>\n",
       "      <th>topeka</th>\n",
       "      <td>1.8</td>\n",
       "    </tr>\n",
       "    <tr>\n",
       "      <th rowspan=\"3\" valign=\"top\">san-diego</th>\n",
       "      <th>new-york</th>\n",
       "      <td>2.5</td>\n",
       "    </tr>\n",
       "    <tr>\n",
       "      <th>chicago</th>\n",
       "      <td>1.8</td>\n",
       "    </tr>\n",
       "    <tr>\n",
       "      <th>topeka</th>\n",
       "      <td>1.4</td>\n",
       "    </tr>\n",
       "  </tbody>\n",
       "</table>\n",
       "</div>"
      ],
      "text/plain": [
       "                    distance\n",
       "from      to                \n",
       "seattle   new-york       2.5\n",
       "          chicago        1.7\n",
       "          topeka         1.8\n",
       "san-diego new-york       2.5\n",
       "          chicago        1.8\n",
       "          topeka         1.4"
      ]
     },
     "execution_count": 64,
     "metadata": {},
     "output_type": "execute_result"
    }
   ],
   "source": [
    "distances = pd.DataFrame(\n",
    "    [\n",
    "        [\"seattle\", \"new-york\", 2.5],\n",
    "        [\"seattle\", \"chicago\", 1.7],\n",
    "        [\"seattle\", \"topeka\", 1.8],\n",
    "        [\"san-diego\", \"new-york\", 2.5],\n",
    "        [\"san-diego\", \"chicago\", 1.8],\n",
    "        [\"san-diego\", \"topeka\", 1.4],\n",
    "    ],\n",
    "    columns=[\"from\", \"to\", \"distance\"],\n",
    ").set_index([\"from\", \"to\"])\n",
    "\n",
    "distances"
   ]
  },
  {
   "cell_type": "code",
   "execution_count": 65,
   "metadata": {},
   "outputs": [],
   "source": [
    "freight_cost = 90"
   ]
  },
  {
   "cell_type": "markdown",
   "metadata": {},
   "source": [
    "## Symbol Declaration\n",
    "\n",
    "Similar to our separation of the transportation problem into sets, parameter, variables, and constraints we will use this separation to define the transportation problem as a GAMSPy model. Therefore, we need to import the `gamspy` library first.\n"
   ]
  },
  {
   "cell_type": "code",
   "execution_count": 66,
   "metadata": {},
   "outputs": [],
   "source": [
    "from gamspy import Model, Container, Sum, Sense"
   ]
  },
  {
   "cell_type": "markdown",
   "metadata": {},
   "source": [
    "### Container\n",
    "\n",
    "A container gathers all the information that is relevant for a GAMSPy model. Thus, the first step is to create such a container.\n"
   ]
  },
  {
   "cell_type": "code",
   "execution_count": 67,
   "metadata": {},
   "outputs": [],
   "source": [
    "m = Container()"
   ]
  },
  {
   "cell_type": "markdown",
   "metadata": {},
   "source": [
    "### Sets\n",
    "\n",
    "Sets are the basic building blocks of a GAMSPy model, corresponding exactly to the indices in the algebraic representations of models.\n",
    "\n",
    "Indices of the transportation problem:\n",
    "\n",
    "- $i$ = plants\n",
    "- $j$ = markets\n",
    "\n",
    "Sets are associated with a container, which is why we use `Container().addSet()`. You can find further information on the usage of sets in the [user guide](https://gamspy.readthedocs.io/en/latest/user/set.html).\n",
    "\n",
    "There a two ways to declare sets:\n",
    "\n",
    "1. Separate declaration and data assignment\n",
    "2. Combine declaration and data assignment\n",
    "\n",
    "#### Separate declaration and data assignment\n"
   ]
  },
  {
   "cell_type": "code",
   "execution_count": 68,
   "metadata": {},
   "outputs": [],
   "source": [
    "i = m.addSet(name=\"i\", description=\"plants\")\n",
    "i.setRecords(capacities.index)"
   ]
  },
  {
   "cell_type": "markdown",
   "metadata": {},
   "source": [
    "#### Combine declaration and data assignment\n"
   ]
  },
  {
   "cell_type": "code",
   "execution_count": 69,
   "metadata": {
    "tags": []
   },
   "outputs": [],
   "source": [
    "j = m.addSet(name=\"j\", description=\"markets\", records=demands.index)"
   ]
  },
  {
   "cell_type": "markdown",
   "metadata": {},
   "source": [
    "The effect of using the above `m.addSet()` statements is that we declared two sets and gave them the names i and j. We added a description to elaborate on the meaning and make the model easier readable. Lastly, we assigned members to the sets as follows:\n",
    "\n",
    "$i$ = {Seattle, San Diego}\n",
    "\n",
    "$j$ = {New York, Chicago, Topeka}\n",
    "\n",
    "To verify, you can use `<python variable>.records`.\n"
   ]
  },
  {
   "cell_type": "code",
   "execution_count": 70,
   "metadata": {},
   "outputs": [
    {
     "data": {
      "text/html": [
       "<div>\n",
       "<style scoped>\n",
       "    .dataframe tbody tr th:only-of-type {\n",
       "        vertical-align: middle;\n",
       "    }\n",
       "\n",
       "    .dataframe tbody tr th {\n",
       "        vertical-align: top;\n",
       "    }\n",
       "\n",
       "    .dataframe thead th {\n",
       "        text-align: right;\n",
       "    }\n",
       "</style>\n",
       "<table border=\"1\" class=\"dataframe\">\n",
       "  <thead>\n",
       "    <tr style=\"text-align: right;\">\n",
       "      <th></th>\n",
       "      <th>uni</th>\n",
       "      <th>element_text</th>\n",
       "    </tr>\n",
       "  </thead>\n",
       "  <tbody>\n",
       "    <tr>\n",
       "      <th>0</th>\n",
       "      <td>seattle</td>\n",
       "      <td></td>\n",
       "    </tr>\n",
       "    <tr>\n",
       "      <th>1</th>\n",
       "      <td>san-diego</td>\n",
       "      <td></td>\n",
       "    </tr>\n",
       "  </tbody>\n",
       "</table>\n",
       "</div>"
      ],
      "text/plain": [
       "         uni element_text\n",
       "0    seattle             \n",
       "1  san-diego             "
      ]
     },
     "execution_count": 70,
     "metadata": {},
     "output_type": "execute_result"
    }
   ],
   "source": [
    "i.records"
   ]
  },
  {
   "cell_type": "code",
   "execution_count": 71,
   "metadata": {},
   "outputs": [
    {
     "data": {
      "text/html": [
       "<div>\n",
       "<style scoped>\n",
       "    .dataframe tbody tr th:only-of-type {\n",
       "        vertical-align: middle;\n",
       "    }\n",
       "\n",
       "    .dataframe tbody tr th {\n",
       "        vertical-align: top;\n",
       "    }\n",
       "\n",
       "    .dataframe thead th {\n",
       "        text-align: right;\n",
       "    }\n",
       "</style>\n",
       "<table border=\"1\" class=\"dataframe\">\n",
       "  <thead>\n",
       "    <tr style=\"text-align: right;\">\n",
       "      <th></th>\n",
       "      <th>uni</th>\n",
       "      <th>element_text</th>\n",
       "    </tr>\n",
       "  </thead>\n",
       "  <tbody>\n",
       "    <tr>\n",
       "      <th>0</th>\n",
       "      <td>new-york</td>\n",
       "      <td></td>\n",
       "    </tr>\n",
       "    <tr>\n",
       "      <th>1</th>\n",
       "      <td>chicago</td>\n",
       "      <td></td>\n",
       "    </tr>\n",
       "    <tr>\n",
       "      <th>2</th>\n",
       "      <td>topeka</td>\n",
       "      <td></td>\n",
       "    </tr>\n",
       "  </tbody>\n",
       "</table>\n",
       "</div>"
      ],
      "text/plain": [
       "        uni element_text\n",
       "0  new-york             \n",
       "1   chicago             \n",
       "2    topeka             "
      ]
     },
     "execution_count": 71,
     "metadata": {},
     "output_type": "execute_result"
    }
   ],
   "source": [
    "j.records"
   ]
  },
  {
   "cell_type": "markdown",
   "metadata": {},
   "source": [
    "### Parameters\n",
    "\n",
    "To declare parameters we use `<container>.addParameter()`. We give the parameter a name and a description. Note that parameter $a_i$ is indexed by $i$. To account for indices we add the `domain` attribute and point to the corresponding set.\n",
    "\n",
    "Note that you can either, as shown for sets, combine or separate the declaration and the data assignment. For convenience we combine declaration and data assignment from now on.\n"
   ]
  },
  {
   "cell_type": "code",
   "execution_count": 72,
   "metadata": {},
   "outputs": [
    {
     "data": {
      "text/html": [
       "<div>\n",
       "<style scoped>\n",
       "    .dataframe tbody tr th:only-of-type {\n",
       "        vertical-align: middle;\n",
       "    }\n",
       "\n",
       "    .dataframe tbody tr th {\n",
       "        vertical-align: top;\n",
       "    }\n",
       "\n",
       "    .dataframe thead th {\n",
       "        text-align: right;\n",
       "    }\n",
       "</style>\n",
       "<table border=\"1\" class=\"dataframe\">\n",
       "  <thead>\n",
       "    <tr style=\"text-align: right;\">\n",
       "      <th></th>\n",
       "      <th>city</th>\n",
       "      <th>value</th>\n",
       "    </tr>\n",
       "  </thead>\n",
       "  <tbody>\n",
       "    <tr>\n",
       "      <th>0</th>\n",
       "      <td>seattle</td>\n",
       "      <td>350.0</td>\n",
       "    </tr>\n",
       "    <tr>\n",
       "      <th>1</th>\n",
       "      <td>san-diego</td>\n",
       "      <td>600.0</td>\n",
       "    </tr>\n",
       "  </tbody>\n",
       "</table>\n",
       "</div>"
      ],
      "text/plain": [
       "        city  value\n",
       "0    seattle  350.0\n",
       "1  san-diego  600.0"
      ]
     },
     "execution_count": 72,
     "metadata": {},
     "output_type": "execute_result"
    }
   ],
   "source": [
    "a = m.addParameter(\n",
    "    name=\"a\",\n",
    "    domain=i,\n",
    "    description=\"supply of commodity of plant i (in cases)\",\n",
    "    records=capacities.reset_index(),\n",
    ")\n",
    "a.records"
   ]
  },
  {
   "cell_type": "code",
   "execution_count": 73,
   "metadata": {},
   "outputs": [
    {
     "data": {
      "text/html": [
       "<div>\n",
       "<style scoped>\n",
       "    .dataframe tbody tr th:only-of-type {\n",
       "        vertical-align: middle;\n",
       "    }\n",
       "\n",
       "    .dataframe tbody tr th {\n",
       "        vertical-align: top;\n",
       "    }\n",
       "\n",
       "    .dataframe thead th {\n",
       "        text-align: right;\n",
       "    }\n",
       "</style>\n",
       "<table border=\"1\" class=\"dataframe\">\n",
       "  <thead>\n",
       "    <tr style=\"text-align: right;\">\n",
       "      <th></th>\n",
       "      <th>city</th>\n",
       "      <th>value</th>\n",
       "    </tr>\n",
       "  </thead>\n",
       "  <tbody>\n",
       "    <tr>\n",
       "      <th>0</th>\n",
       "      <td>new-york</td>\n",
       "      <td>325.0</td>\n",
       "    </tr>\n",
       "    <tr>\n",
       "      <th>1</th>\n",
       "      <td>chicago</td>\n",
       "      <td>300.0</td>\n",
       "    </tr>\n",
       "    <tr>\n",
       "      <th>2</th>\n",
       "      <td>topeka</td>\n",
       "      <td>275.0</td>\n",
       "    </tr>\n",
       "  </tbody>\n",
       "</table>\n",
       "</div>"
      ],
      "text/plain": [
       "       city  value\n",
       "0  new-york  325.0\n",
       "1   chicago  300.0\n",
       "2    topeka  275.0"
      ]
     },
     "execution_count": 73,
     "metadata": {},
     "output_type": "execute_result"
    }
   ],
   "source": [
    "b = m.addParameter(\n",
    "    name=\"b\",\n",
    "    domain=j,\n",
    "    description=\"demand for commodity at market j\",\n",
    "    records=demands.reset_index(),\n",
    ")\n",
    "b.records"
   ]
  },
  {
   "cell_type": "code",
   "execution_count": 74,
   "metadata": {},
   "outputs": [],
   "source": [
    "c = m.addParameter(\n",
    "    name=\"c\",\n",
    "    domain=[i, j],\n",
    "    description=\"cost per unit shipment between plant i and market j\",\n",
    ")"
   ]
  },
  {
   "cell_type": "markdown",
   "metadata": {},
   "source": [
    "The cost per unit shipment between plant $i$ and market $j$ is derived from the distance between $i$ and $j$ and can be calculated as follows:\n",
    "\n",
    "$c_{ij} = \\frac{90 \\cdot d_{ij}}{1000}$,\n",
    "\n",
    "where $d_{ij}$ denotes the distance between $i$ and $j$.\n",
    "\n",
    "We have two options to calculate $c_{ij}$ and assign the data to the GAMSPy parameter:\n",
    "\n",
    "1. Python assignment - calculation in Python, e.g., using Pandas and `.setRecords()`\n",
    "2. GAMSPy assignment - calculation on GAMSPy\n",
    "\n",
    "#### Python Assignment\n"
   ]
  },
  {
   "cell_type": "code",
   "execution_count": 75,
   "metadata": {},
   "outputs": [
    {
     "data": {
      "text/html": [
       "<div>\n",
       "<style scoped>\n",
       "    .dataframe tbody tr th:only-of-type {\n",
       "        vertical-align: middle;\n",
       "    }\n",
       "\n",
       "    .dataframe tbody tr th {\n",
       "        vertical-align: top;\n",
       "    }\n",
       "\n",
       "    .dataframe thead th {\n",
       "        text-align: right;\n",
       "    }\n",
       "</style>\n",
       "<table border=\"1\" class=\"dataframe\">\n",
       "  <thead>\n",
       "    <tr style=\"text-align: right;\">\n",
       "      <th></th>\n",
       "      <th></th>\n",
       "      <th>distance</th>\n",
       "    </tr>\n",
       "    <tr>\n",
       "      <th>from</th>\n",
       "      <th>to</th>\n",
       "      <th></th>\n",
       "    </tr>\n",
       "  </thead>\n",
       "  <tbody>\n",
       "    <tr>\n",
       "      <th rowspan=\"3\" valign=\"top\">seattle</th>\n",
       "      <th>new-york</th>\n",
       "      <td>0.225</td>\n",
       "    </tr>\n",
       "    <tr>\n",
       "      <th>chicago</th>\n",
       "      <td>0.153</td>\n",
       "    </tr>\n",
       "    <tr>\n",
       "      <th>topeka</th>\n",
       "      <td>0.162</td>\n",
       "    </tr>\n",
       "    <tr>\n",
       "      <th rowspan=\"3\" valign=\"top\">san-diego</th>\n",
       "      <th>new-york</th>\n",
       "      <td>0.225</td>\n",
       "    </tr>\n",
       "    <tr>\n",
       "      <th>chicago</th>\n",
       "      <td>0.162</td>\n",
       "    </tr>\n",
       "    <tr>\n",
       "      <th>topeka</th>\n",
       "      <td>0.126</td>\n",
       "    </tr>\n",
       "  </tbody>\n",
       "</table>\n",
       "</div>"
      ],
      "text/plain": [
       "                    distance\n",
       "from      to                \n",
       "seattle   new-york     0.225\n",
       "          chicago      0.153\n",
       "          topeka       0.162\n",
       "san-diego new-york     0.225\n",
       "          chicago      0.162\n",
       "          topeka       0.126"
      ]
     },
     "execution_count": 75,
     "metadata": {},
     "output_type": "execute_result"
    }
   ],
   "source": [
    "cost = freight_cost * distances / 1000\n",
    "cost"
   ]
  },
  {
   "cell_type": "code",
   "execution_count": 76,
   "metadata": {},
   "outputs": [
    {
     "data": {
      "text/html": [
       "<div>\n",
       "<style scoped>\n",
       "    .dataframe tbody tr th:only-of-type {\n",
       "        vertical-align: middle;\n",
       "    }\n",
       "\n",
       "    .dataframe tbody tr th {\n",
       "        vertical-align: top;\n",
       "    }\n",
       "\n",
       "    .dataframe thead th {\n",
       "        text-align: right;\n",
       "    }\n",
       "</style>\n",
       "<table border=\"1\" class=\"dataframe\">\n",
       "  <thead>\n",
       "    <tr style=\"text-align: right;\">\n",
       "      <th></th>\n",
       "      <th>from</th>\n",
       "      <th>to</th>\n",
       "      <th>value</th>\n",
       "    </tr>\n",
       "  </thead>\n",
       "  <tbody>\n",
       "    <tr>\n",
       "      <th>0</th>\n",
       "      <td>seattle</td>\n",
       "      <td>new-york</td>\n",
       "      <td>0.225</td>\n",
       "    </tr>\n",
       "    <tr>\n",
       "      <th>1</th>\n",
       "      <td>seattle</td>\n",
       "      <td>chicago</td>\n",
       "      <td>0.153</td>\n",
       "    </tr>\n",
       "    <tr>\n",
       "      <th>2</th>\n",
       "      <td>seattle</td>\n",
       "      <td>topeka</td>\n",
       "      <td>0.162</td>\n",
       "    </tr>\n",
       "    <tr>\n",
       "      <th>3</th>\n",
       "      <td>san-diego</td>\n",
       "      <td>new-york</td>\n",
       "      <td>0.225</td>\n",
       "    </tr>\n",
       "    <tr>\n",
       "      <th>4</th>\n",
       "      <td>san-diego</td>\n",
       "      <td>chicago</td>\n",
       "      <td>0.162</td>\n",
       "    </tr>\n",
       "    <tr>\n",
       "      <th>5</th>\n",
       "      <td>san-diego</td>\n",
       "      <td>topeka</td>\n",
       "      <td>0.126</td>\n",
       "    </tr>\n",
       "  </tbody>\n",
       "</table>\n",
       "</div>"
      ],
      "text/plain": [
       "        from        to  value\n",
       "0    seattle  new-york  0.225\n",
       "1    seattle   chicago  0.153\n",
       "2    seattle    topeka  0.162\n",
       "3  san-diego  new-york  0.225\n",
       "4  san-diego   chicago  0.162\n",
       "5  san-diego    topeka  0.126"
      ]
     },
     "execution_count": 76,
     "metadata": {},
     "output_type": "execute_result"
    }
   ],
   "source": [
    "c.setRecords(cost.reset_index())\n",
    "c.records"
   ]
  },
  {
   "cell_type": "markdown",
   "metadata": {},
   "source": [
    "#### GAMSPy Assignment\n",
    "\n",
    "For the direct assignment we need to declare a new parameter denoting the distances between $i$ and $j$.\n"
   ]
  },
  {
   "cell_type": "code",
   "execution_count": 77,
   "metadata": {},
   "outputs": [
    {
     "data": {
      "text/html": [
       "<div>\n",
       "<style scoped>\n",
       "    .dataframe tbody tr th:only-of-type {\n",
       "        vertical-align: middle;\n",
       "    }\n",
       "\n",
       "    .dataframe tbody tr th {\n",
       "        vertical-align: top;\n",
       "    }\n",
       "\n",
       "    .dataframe thead th {\n",
       "        text-align: right;\n",
       "    }\n",
       "</style>\n",
       "<table border=\"1\" class=\"dataframe\">\n",
       "  <thead>\n",
       "    <tr style=\"text-align: right;\">\n",
       "      <th></th>\n",
       "      <th>from</th>\n",
       "      <th>to</th>\n",
       "      <th>value</th>\n",
       "    </tr>\n",
       "  </thead>\n",
       "  <tbody>\n",
       "    <tr>\n",
       "      <th>0</th>\n",
       "      <td>seattle</td>\n",
       "      <td>new-york</td>\n",
       "      <td>2.5</td>\n",
       "    </tr>\n",
       "    <tr>\n",
       "      <th>1</th>\n",
       "      <td>seattle</td>\n",
       "      <td>chicago</td>\n",
       "      <td>1.7</td>\n",
       "    </tr>\n",
       "    <tr>\n",
       "      <th>2</th>\n",
       "      <td>seattle</td>\n",
       "      <td>topeka</td>\n",
       "      <td>1.8</td>\n",
       "    </tr>\n",
       "    <tr>\n",
       "      <th>3</th>\n",
       "      <td>san-diego</td>\n",
       "      <td>new-york</td>\n",
       "      <td>2.5</td>\n",
       "    </tr>\n",
       "    <tr>\n",
       "      <th>4</th>\n",
       "      <td>san-diego</td>\n",
       "      <td>chicago</td>\n",
       "      <td>1.8</td>\n",
       "    </tr>\n",
       "    <tr>\n",
       "      <th>5</th>\n",
       "      <td>san-diego</td>\n",
       "      <td>topeka</td>\n",
       "      <td>1.4</td>\n",
       "    </tr>\n",
       "  </tbody>\n",
       "</table>\n",
       "</div>"
      ],
      "text/plain": [
       "        from        to  value\n",
       "0    seattle  new-york    2.5\n",
       "1    seattle   chicago    1.7\n",
       "2    seattle    topeka    1.8\n",
       "3  san-diego  new-york    2.5\n",
       "4  san-diego   chicago    1.8\n",
       "5  san-diego    topeka    1.4"
      ]
     },
     "execution_count": 77,
     "metadata": {},
     "output_type": "execute_result"
    }
   ],
   "source": [
    "d = m.addParameter(\n",
    "    name=\"d\",\n",
    "    domain=[i, j],\n",
    "    description=\"distance between plant i and market j\",\n",
    "    records=distances.reset_index(),\n",
    ")\n",
    "d.records"
   ]
  },
  {
   "cell_type": "code",
   "execution_count": 78,
   "metadata": {},
   "outputs": [
    {
     "data": {
      "text/html": [
       "<div>\n",
       "<style scoped>\n",
       "    .dataframe tbody tr th:only-of-type {\n",
       "        vertical-align: middle;\n",
       "    }\n",
       "\n",
       "    .dataframe tbody tr th {\n",
       "        vertical-align: top;\n",
       "    }\n",
       "\n",
       "    .dataframe thead th {\n",
       "        text-align: right;\n",
       "    }\n",
       "</style>\n",
       "<table border=\"1\" class=\"dataframe\">\n",
       "  <thead>\n",
       "    <tr style=\"text-align: right;\">\n",
       "      <th></th>\n",
       "      <th>i</th>\n",
       "      <th>j</th>\n",
       "      <th>value</th>\n",
       "    </tr>\n",
       "  </thead>\n",
       "  <tbody>\n",
       "    <tr>\n",
       "      <th>0</th>\n",
       "      <td>seattle</td>\n",
       "      <td>new-york</td>\n",
       "      <td>0.225</td>\n",
       "    </tr>\n",
       "    <tr>\n",
       "      <th>1</th>\n",
       "      <td>seattle</td>\n",
       "      <td>chicago</td>\n",
       "      <td>0.153</td>\n",
       "    </tr>\n",
       "    <tr>\n",
       "      <th>2</th>\n",
       "      <td>seattle</td>\n",
       "      <td>topeka</td>\n",
       "      <td>0.162</td>\n",
       "    </tr>\n",
       "    <tr>\n",
       "      <th>3</th>\n",
       "      <td>san-diego</td>\n",
       "      <td>new-york</td>\n",
       "      <td>0.225</td>\n",
       "    </tr>\n",
       "    <tr>\n",
       "      <th>4</th>\n",
       "      <td>san-diego</td>\n",
       "      <td>chicago</td>\n",
       "      <td>0.162</td>\n",
       "    </tr>\n",
       "    <tr>\n",
       "      <th>5</th>\n",
       "      <td>san-diego</td>\n",
       "      <td>topeka</td>\n",
       "      <td>0.126</td>\n",
       "    </tr>\n",
       "  </tbody>\n",
       "</table>\n",
       "</div>"
      ],
      "text/plain": [
       "           i         j  value\n",
       "0    seattle  new-york  0.225\n",
       "1    seattle   chicago  0.153\n",
       "2    seattle    topeka  0.162\n",
       "3  san-diego  new-york  0.225\n",
       "4  san-diego   chicago  0.162\n",
       "5  san-diego    topeka  0.126"
      ]
     },
     "execution_count": 78,
     "metadata": {},
     "output_type": "execute_result"
    }
   ],
   "source": [
    "c[i, j] = freight_cost * d[i, j] / 1000\n",
    "c.records"
   ]
  },
  {
   "cell_type": "markdown",
   "metadata": {},
   "source": [
    "### Variables\n",
    "\n",
    "The decision variables of a GAMSPy-expressed model must be declared with the `container.addVariable()` statement. Each variable is given a name, a domain if appropriate, a type, and (optionally) description.\n"
   ]
  },
  {
   "cell_type": "code",
   "execution_count": 79,
   "metadata": {},
   "outputs": [],
   "source": [
    "x = m.addVariable(\n",
    "    name=\"x\",\n",
    "    domain=[i, j],\n",
    "    type=\"Positive\",\n",
    "    description=\"amount of commodity to ship from plant i to market j\",\n",
    ")"
   ]
  },
  {
   "cell_type": "markdown",
   "metadata": {},
   "source": [
    "This statement results in the declaration of a shipment variable for each (i,j) pair. (You will see in chapter [Equations](#equations), how GAMSPy can handle the typical real-world situation in which only a subset of the (i,j) pairs is allowable for shipment.)\n"
   ]
  },
  {
   "cell_type": "markdown",
   "metadata": {},
   "source": [
    "## Equations\n",
    "Equations must be declared and defined in separate statements. The format of the declaration is the same as for other GAMSPy entities. First comes the keyword, `m.addEquation()` in this case, followed by the name, domain and text. The transportation problem has two constraints:\n",
    "\n",
    "Supply: observe supply limit at plant $i$: $\\sum_j x_{ij} \\le a_i \\: \\forall i$\n",
    "Demand: satisfy demand at market $j$: $\\sum_i x_{ij} \\ge b_j \\: \\forall j$"
   ]
  },
  {
   "cell_type": "code",
   "execution_count": 81,
   "metadata": {},
   "outputs": [],
   "source": [
    "supply = m.addEquation(\n",
    "    name=\"supply\", domain=i, description=\"observe supply limit at plant i\"\n",
    ")\n",
    "demand = m.addEquation(\n",
    "    name=\"demand\", domain=j, description=\"satisfy demand at market j\"\n",
    ")"
   ]
  },
  {
   "cell_type": "markdown",
   "metadata": {},
   "source": [
    "The equation definition "
   ]
  },
  {
   "cell_type": "code",
   "execution_count": null,
   "metadata": {},
   "outputs": [
    {
     "ename": "NameError",
     "evalue": "name 'x' is not defined",
     "output_type": "error",
     "traceback": [
      "\u001b[1;31m---------------------------------------------------------------------------\u001b[0m",
      "\u001b[1;31mNameError\u001b[0m                                 Traceback (most recent call last)",
      "\u001b[1;32mc:\\Users\\jbroi\\Documents\\Repositories\\gamspy\\docs\\user\\notebooks\\trnsport.ipynb Cell 30\u001b[0m line \u001b[0;36m3\n\u001b[0;32m      <a href='vscode-notebook-cell:/c%3A/Users/jbroi/Documents/Repositories/gamspy/docs/user/notebooks/trnsport.ipynb#X24sZmlsZQ%3D%3D?line=0'>1</a>\u001b[0m supply \u001b[39m=\u001b[39m m\u001b[39m.\u001b[39maddEquation(name\u001b[39m=\u001b[39m\u001b[39m\"\u001b[39m\u001b[39msupply\u001b[39m\u001b[39m\"\u001b[39m, domain\u001b[39m=\u001b[39m[i])\n\u001b[1;32m----> <a href='vscode-notebook-cell:/c%3A/Users/jbroi/Documents/Repositories/gamspy/docs/user/notebooks/trnsport.ipynb#X24sZmlsZQ%3D%3D?line=2'>3</a>\u001b[0m supply[i] \u001b[39m=\u001b[39m Sum(j, x[i, j]) \u001b[39m<\u001b[39m\u001b[39m=\u001b[39m a[i]\n",
      "\u001b[1;31mNameError\u001b[0m: name 'x' is not defined"
     ]
    }
   ],
   "source": [
    "supply[i] = Sum(j, x[i, j]) <= a[i]"
   ]
  },
  {
   "cell_type": "markdown",
   "metadata": {},
   "source": [
    "# Demand\n"
   ]
  },
  {
   "cell_type": "code",
   "execution_count": null,
   "metadata": {},
   "outputs": [],
   "source": [
    "demand = m.addEquation(name=\"demand\", domain=[j])\n",
    "\n",
    "demand[j] = Sum(i, x[i, j]) >= b[j]"
   ]
  },
  {
   "cell_type": "markdown",
   "metadata": {},
   "source": [
    "# Objective\n"
   ]
  },
  {
   "cell_type": "code",
   "execution_count": null,
   "metadata": {},
   "outputs": [],
   "source": [
    "obj = Sum((i, j), c[i, j] * x[i, j])"
   ]
  },
  {
   "cell_type": "markdown",
   "metadata": {},
   "source": [
    "# Model\n"
   ]
  },
  {
   "cell_type": "code",
   "execution_count": null,
   "metadata": {},
   "outputs": [],
   "source": [
    "transport = Model(\n",
    "    m,\n",
    "    name=\"transport\",\n",
    "    equations=m.getEquations(),\n",
    "    problem=\"LP\",\n",
    "    sense=Sense.MIN,\n",
    "    objective=obj,\n",
    ")"
   ]
  },
  {
   "cell_type": "markdown",
   "metadata": {},
   "source": [
    "# Solve\n"
   ]
  },
  {
   "cell_type": "code",
   "execution_count": null,
   "metadata": {},
   "outputs": [
    {
     "name": "stdout",
     "output_type": "stream",
     "text": [
      "--- Job _gams_py_gjo0.gms Start 09/25/23 16:49:27 45.0.0 a37313c4 WEX-WEI x86 64bit/MS Windows\n",
      "--- Applying:\n",
      "    C:\\Users\\jbroi\\anaconda3\\envs\\test\\Lib\\site-packages\\gamspy\\minigams\\windows\\gmsprmNT.txt\n",
      "    C:\\Users\\jbroi\\Documents\\GAMS\\gamsconfig.yaml\n",
      "--- GAMS Parameters defined\n",
      "    LP HIGHS\n",
      "    MIP HIGHS\n",
      "    RMIP HIGHS\n",
      "    NLP CONOPT\n",
      "    MCP PATH\n",
      "    MPEC NLPEC\n",
      "    RMPEC CONVERT\n",
      "    CNS CONOPT\n",
      "    DNLP CONOPT\n",
      "    RMINLP CONOPT\n",
      "    MINLP SBB\n",
      "    QCP CONOPT\n",
      "    MIQCP SBB\n",
      "    RMIQCP CONOPT\n",
      "    EMP CONVERT\n",
      "    Input C:\\Users\\jbroi\\AppData\\Local\\Temp\\tmp1eqsfa5d\\_gams_py_gjo0.gms\n",
      "    Output C:\\Users\\jbroi\\AppData\\Local\\Temp\\tmp1eqsfa5d\\_gams_py_gjo0.lst\n",
      "    Save C:\\Users\\jbroi\\AppData\\Local\\Temp\\tmp1eqsfa5d\\default_save.g00\n",
      "    ScrDir C:\\Users\\jbroi\\AppData\\Local\\Temp\\tmp1eqsfa5d\\225a\\\n",
      "    SysDir C:\\Users\\jbroi\\anaconda3\\envs\\test\\Lib\\site-packages\\gamspy\\minigams\\windows\\\n",
      "    CurDir C:\\Users\\jbroi\\AppData\\Local\\Temp\\tmp1eqsfa5d\\\n",
      "    LogOption 3\n",
      "    LogFile C:\\Users\\jbroi\\AppData\\Local\\Temp\\tmp1eqsfa5d\\_gams_py_gjo0.log\n",
      "    GDX C:\\Users\\jbroi\\AppData\\Local\\Temp\\tmp1eqsfa5d\\default.gdx\n",
      "*** ************* ALPHA release\n",
      "*** GAMS Base Module 45.0.0 a37313c4 Sep 14, 2023  (ALPHA) WEI x86 64bit/MS Window\n",
      "*** ************* ALPHA release\n",
      "Licensee: GAMS Working License                           S230720|0002CO-GEN\n",
      "          GAMS Software GmbH, Braunschweig Office                   DCE2920\n",
      "          C:\\Users\\jbroi\\Documents\\GAMS\\gamslice.txt\n",
      "          License Admin: Justine Broihan, jbroihan@gams.com                \n",
      "          Evaluation license: Not for commercial or production use\n",
      "          The evaluation period of the license will expire on Jan 16, 2024\n",
      "Processor information: 1 socket(s), 12 core(s), and 16 thread(s) available\n",
      "GAMS 45.0.0   Copyright (C) 1987-2023 GAMS Development. All rights reserved\n",
      "--- Starting compilation\n",
      "--- _gams_py_gjo0.gms(2) 2 Mb\n",
      "--- GDXin=C:\\Users\\jbroi\\AppData\\Local\\Temp\\tmp1eqsfa5d\\default.gdx\n",
      "--- GDX File ($gdxLoad) C:\\Users\\jbroi\\AppData\\Local\\Temp\\tmp1eqsfa5d\\default.gdx\n",
      "--- _gams_py_gjo0.gms(5) 3 Mb\n",
      "--- GDXin=C:\\Users\\jbroi\\AppData\\Local\\Temp\\tmp1eqsfa5d\\default.gdx\n",
      "--- GDX File ($gdxLoad) C:\\Users\\jbroi\\AppData\\Local\\Temp\\tmp1eqsfa5d\\default.gdx\n",
      "--- _gams_py_gjo0.gms(8) 3 Mb\n",
      "--- GDXin=C:\\Users\\jbroi\\AppData\\Local\\Temp\\tmp1eqsfa5d\\default.gdx\n",
      "--- GDX File ($gdxLoad) C:\\Users\\jbroi\\AppData\\Local\\Temp\\tmp1eqsfa5d\\default.gdx\n",
      "--- _gams_py_gjo0.gms(11) 3 Mb\n",
      "--- GDXin=C:\\Users\\jbroi\\AppData\\Local\\Temp\\tmp1eqsfa5d\\default.gdx\n",
      "--- GDX File ($gdxLoad) C:\\Users\\jbroi\\AppData\\Local\\Temp\\tmp1eqsfa5d\\default.gdx\n",
      "--- _gams_py_gjo0.gms(14) 3 Mb\n",
      "--- GDXin=C:\\Users\\jbroi\\AppData\\Local\\Temp\\tmp1eqsfa5d\\default.gdx\n",
      "--- GDX File ($gdxLoad) C:\\Users\\jbroi\\AppData\\Local\\Temp\\tmp1eqsfa5d\\default.gdx\n",
      "--- _gams_py_gjo0.gms(17) 3 Mb\n",
      "--- GDXin=C:\\Users\\jbroi\\AppData\\Local\\Temp\\tmp1eqsfa5d\\default.gdx\n",
      "--- GDX File ($gdxLoad) C:\\Users\\jbroi\\AppData\\Local\\Temp\\tmp1eqsfa5d\\default.gdx\n",
      "--- _gams_py_gjo0.gms(22) 3 Mb\n",
      "--- GDXin=C:\\Users\\jbroi\\AppData\\Local\\Temp\\tmp1eqsfa5d\\default.gdx\n",
      "--- GDX File ($gdxLoad) C:\\Users\\jbroi\\AppData\\Local\\Temp\\tmp1eqsfa5d\\default.gdx\n",
      "--- _gams_py_gjo0.gms(25) 3 Mb\n",
      "--- GDXin=C:\\Users\\jbroi\\AppData\\Local\\Temp\\tmp1eqsfa5d\\default.gdx\n",
      "--- GDX File ($gdxLoad) C:\\Users\\jbroi\\AppData\\Local\\Temp\\tmp1eqsfa5d\\default.gdx\n",
      "--- _gams_py_gjo0.gms(30) 3 Mb\n",
      "--- GDXin=C:\\Users\\jbroi\\AppData\\Local\\Temp\\tmp1eqsfa5d\\default.gdx\n",
      "--- GDX File ($gdxLoad) C:\\Users\\jbroi\\AppData\\Local\\Temp\\tmp1eqsfa5d\\default.gdx\n",
      "--- _gams_py_gjo0.gms(35) 3 Mb\n",
      "--- GDXin=C:\\Users\\jbroi\\AppData\\Local\\Temp\\tmp1eqsfa5d\\default.gdx\n",
      "--- GDX File ($gdxLoad) C:\\Users\\jbroi\\AppData\\Local\\Temp\\tmp1eqsfa5d\\default.gdx\n",
      "--- _gams_py_gjo0.gms(38) 3 Mb\n",
      "--- GDXin=C:\\Users\\jbroi\\AppData\\Local\\Temp\\tmp1eqsfa5d\\default.gdx\n",
      "--- GDX File ($gdxLoad) C:\\Users\\jbroi\\AppData\\Local\\Temp\\tmp1eqsfa5d\\default.gdx\n",
      "--- _gams_py_gjo0.gms(93) 3 Mb\n",
      "--- Starting execution: elapsed 0:00:00.032\n",
      "--- _gams_py_gjo0.gms(19) 4 Mb\n",
      "--- Generating LP model transport\n",
      "--- _gams_py_gjo0.gms(68) 4 Mb\n",
      "---   6 rows  7 columns  19 non-zeroes\n",
      "--- Range statistics (absolute non-zero finite values)\n",
      "--- RHS       [min, max] : [ 2.750E+02, 6.000E+02] - Zero values observed as well\n",
      "--- Bound     [min, max] : [        NA,        NA] - Zero values observed as well\n",
      "--- Matrix    [min, max] : [ 1.260E-01, 1.000E+00]\n",
      "--- Executing HIGHS (Solvelink=2): elapsed 0:00:00.049\n",
      "\n",
      "HIGHS            45.0.0 a37313c4 Sep 14, 2023  (ALPHA) WEI x86 64bit/MS Window\n",
      "\n",
      "Running HiGHS 1.5.4 [git hash: 977756503]\n",
      "Copyright (c) 2023 HiGHS under MIT licence terms\n",
      "Options set:\n",
      "  time_limit           = 1e+10\n",
      "  threads              = 1\n",
      "  mip_abs_gap          = 0\n",
      "\n",
      "Solving LP without presolve or with basis\n",
      "Using EKK dual simplex solver - serial\n",
      "  Iteration        Objective     Infeasibilities num(sum)\n",
      "          0     0.0000000000e+00 Pr: 3(900) 0s\n",
      "          3     1.5367500000e+02 Pr: 0(0) 0s\n",
      "Model   status      : Optimal\n",
      "Simplex   iterations: 3\n",
      "Objective value     :  1.5367500000e+02\n",
      "HiGHS run time      :          0.00\n",
      "--- Reading solution for model transport\n",
      "--- Executing after solve: elapsed 0:00:00.144\n",
      "--- _gams_py_gjo0.gms(93) 4 Mb\n",
      "--- GDX File C:\\Users\\jbroi\\AppData\\Local\\Temp\\tmp1eqsfa5d\\default.gdx\n",
      "*** Status: Normal completion\n",
      "--- Job _gams_py_gjo0.gms Stop 09/25/23 16:49:27 elapsed 0:00:00.148\n"
     ]
    }
   ],
   "source": [
    "import sys\n",
    "\n",
    "transport.solve(output=sys.stdout)"
   ]
  },
  {
   "cell_type": "markdown",
   "metadata": {},
   "source": [
    "# Results\n"
   ]
  },
  {
   "cell_type": "code",
   "execution_count": null,
   "metadata": {},
   "outputs": [
    {
     "data": {
      "text/html": [
       "<div>\n",
       "<style scoped>\n",
       "    .dataframe tbody tr th:only-of-type {\n",
       "        vertical-align: middle;\n",
       "    }\n",
       "\n",
       "    .dataframe tbody tr th {\n",
       "        vertical-align: top;\n",
       "    }\n",
       "\n",
       "    .dataframe thead th {\n",
       "        text-align: right;\n",
       "    }\n",
       "</style>\n",
       "<table border=\"1\" class=\"dataframe\">\n",
       "  <thead>\n",
       "    <tr style=\"text-align: right;\">\n",
       "      <th></th>\n",
       "      <th></th>\n",
       "      <th>level</th>\n",
       "      <th>marginal</th>\n",
       "      <th>lower</th>\n",
       "      <th>upper</th>\n",
       "      <th>scale</th>\n",
       "    </tr>\n",
       "    <tr>\n",
       "      <th>i</th>\n",
       "      <th>j</th>\n",
       "      <th></th>\n",
       "      <th></th>\n",
       "      <th></th>\n",
       "      <th></th>\n",
       "      <th></th>\n",
       "    </tr>\n",
       "  </thead>\n",
       "  <tbody>\n",
       "    <tr>\n",
       "      <th rowspan=\"3\" valign=\"top\">seattle</th>\n",
       "      <th>new-york</th>\n",
       "      <td>0.0</td>\n",
       "      <td>-0.000</td>\n",
       "      <td>0.0</td>\n",
       "      <td>inf</td>\n",
       "      <td>1.0</td>\n",
       "    </tr>\n",
       "    <tr>\n",
       "      <th>chicago</th>\n",
       "      <td>300.0</td>\n",
       "      <td>0.000</td>\n",
       "      <td>0.0</td>\n",
       "      <td>inf</td>\n",
       "      <td>1.0</td>\n",
       "    </tr>\n",
       "    <tr>\n",
       "      <th>topeka</th>\n",
       "      <td>0.0</td>\n",
       "      <td>0.036</td>\n",
       "      <td>0.0</td>\n",
       "      <td>inf</td>\n",
       "      <td>1.0</td>\n",
       "    </tr>\n",
       "    <tr>\n",
       "      <th rowspan=\"3\" valign=\"top\">san-diego</th>\n",
       "      <th>new-york</th>\n",
       "      <td>325.0</td>\n",
       "      <td>0.000</td>\n",
       "      <td>0.0</td>\n",
       "      <td>inf</td>\n",
       "      <td>1.0</td>\n",
       "    </tr>\n",
       "    <tr>\n",
       "      <th>chicago</th>\n",
       "      <td>0.0</td>\n",
       "      <td>0.009</td>\n",
       "      <td>0.0</td>\n",
       "      <td>inf</td>\n",
       "      <td>1.0</td>\n",
       "    </tr>\n",
       "    <tr>\n",
       "      <th>topeka</th>\n",
       "      <td>275.0</td>\n",
       "      <td>0.000</td>\n",
       "      <td>0.0</td>\n",
       "      <td>inf</td>\n",
       "      <td>1.0</td>\n",
       "    </tr>\n",
       "  </tbody>\n",
       "</table>\n",
       "</div>"
      ],
      "text/plain": [
       "                    level  marginal  lower  upper  scale\n",
       "i         j                                             \n",
       "seattle   new-york    0.0    -0.000    0.0    inf    1.0\n",
       "          chicago   300.0     0.000    0.0    inf    1.0\n",
       "          topeka      0.0     0.036    0.0    inf    1.0\n",
       "san-diego new-york  325.0     0.000    0.0    inf    1.0\n",
       "          chicago     0.0     0.009    0.0    inf    1.0\n",
       "          topeka    275.0     0.000    0.0    inf    1.0"
      ]
     },
     "execution_count": 15,
     "metadata": {},
     "output_type": "execute_result"
    }
   ],
   "source": [
    "x_s = x.records.set_index([\"i\", \"j\"])\n",
    "\n",
    "x_s"
   ]
  },
  {
   "cell_type": "code",
   "execution_count": null,
   "metadata": {},
   "outputs": [
    {
     "data": {
      "text/plain": [
       "153.675"
      ]
     },
     "execution_count": 16,
     "metadata": {},
     "output_type": "execute_result"
    }
   ],
   "source": [
    "transport.objective_value"
   ]
  },
  {
   "cell_type": "code",
   "execution_count": null,
   "metadata": {},
   "outputs": [
    {
     "data": {
      "text/plain": [
       "<ModelStatus.OptimalGlobal: 1>"
      ]
     },
     "execution_count": 17,
     "metadata": {},
     "output_type": "execute_result"
    }
   ],
   "source": [
    "transport.status"
   ]
  }
 ],
 "metadata": {
  "kernelspec": {
   "display_name": "gamspy",
   "language": "python",
   "name": "python3"
  },
  "language_info": {
   "codemirror_mode": {
    "name": "ipython",
    "version": 3
   },
   "file_extension": ".py",
   "mimetype": "text/x-python",
   "name": "python",
   "nbconvert_exporter": "python",
   "pygments_lexer": "ipython3",
   "version": "3.11.5"
  },
  "orig_nbformat": 4
 },
 "nbformat": 4,
 "nbformat_minor": 2
}
