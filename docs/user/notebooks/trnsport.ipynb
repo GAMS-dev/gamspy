{
 "cells": [
  {
   "cell_type": "markdown",
   "metadata": {},
   "source": [
    "# A Transportation Problem\n",
    "## Importing GAMSPy"
   ]
  },
  {
   "cell_type": "code",
   "execution_count": 1,
   "metadata": {},
   "outputs": [],
   "source": [
    "from gamspy import Container, Sum, Sense"
   ]
  },
  {
   "cell_type": "markdown",
   "metadata": {},
   "source": [
    "## Importing Further Python Libraries\n"
   ]
  },
  {
   "cell_type": "code",
   "execution_count": 2,
   "metadata": {},
   "outputs": [],
   "source": [
    "import pandas as pd\n",
    "import sys"
   ]
  },
  {
   "cell_type": "markdown",
   "metadata": {},
   "source": [
    "## Prepare data"
   ]
  },
  {
   "cell_type": "code",
   "execution_count": 3,
   "metadata": {},
   "outputs": [
    {
     "data": {
      "text/html": [
       "<div>\n",
       "<style scoped>\n",
       "    .dataframe tbody tr th:only-of-type {\n",
       "        vertical-align: middle;\n",
       "    }\n",
       "\n",
       "    .dataframe tbody tr th {\n",
       "        vertical-align: top;\n",
       "    }\n",
       "\n",
       "    .dataframe thead th {\n",
       "        text-align: right;\n",
       "    }\n",
       "</style>\n",
       "<table border=\"1\" class=\"dataframe\">\n",
       "  <thead>\n",
       "    <tr style=\"text-align: right;\">\n",
       "      <th></th>\n",
       "      <th></th>\n",
       "      <th>distance</th>\n",
       "    </tr>\n",
       "    <tr>\n",
       "      <th>from</th>\n",
       "      <th>to</th>\n",
       "      <th></th>\n",
       "    </tr>\n",
       "  </thead>\n",
       "  <tbody>\n",
       "    <tr>\n",
       "      <th rowspan=\"3\" valign=\"top\">seattle</th>\n",
       "      <th>new-york</th>\n",
       "      <td>2.5</td>\n",
       "    </tr>\n",
       "    <tr>\n",
       "      <th>chicago</th>\n",
       "      <td>1.7</td>\n",
       "    </tr>\n",
       "    <tr>\n",
       "      <th>topeka</th>\n",
       "      <td>1.8</td>\n",
       "    </tr>\n",
       "    <tr>\n",
       "      <th rowspan=\"3\" valign=\"top\">san-diego</th>\n",
       "      <th>new-york</th>\n",
       "      <td>2.5</td>\n",
       "    </tr>\n",
       "    <tr>\n",
       "      <th>chicago</th>\n",
       "      <td>1.8</td>\n",
       "    </tr>\n",
       "    <tr>\n",
       "      <th>topeka</th>\n",
       "      <td>1.4</td>\n",
       "    </tr>\n",
       "  </tbody>\n",
       "</table>\n",
       "</div>"
      ],
      "text/plain": [
       "                    distance\n",
       "from      to                \n",
       "seattle   new-york       2.5\n",
       "          chicago        1.7\n",
       "          topeka         1.8\n",
       "san-diego new-york       2.5\n",
       "          chicago        1.8\n",
       "          topeka         1.4"
      ]
     },
     "execution_count": 3,
     "metadata": {},
     "output_type": "execute_result"
    }
   ],
   "source": [
    "distances = pd.DataFrame([\n",
    "    [\"seattle\", \"new-york\", 2.5],\n",
    "    [\"seattle\", \"chicago\", 1.7],\n",
    "    [\"seattle\", \"topeka\", 1.8],\n",
    "    [\"san-diego\", \"new-york\", 2.5],\n",
    "    [\"san-diego\", \"chicago\", 1.8],\n",
    "    [\"san-diego\", \"topeka\", 1.4],\n",
    "], columns=['from', 'to', 'distance'])\n",
    "\n",
    "distances.set_index(['from', 'to'])"
   ]
  },
  {
   "cell_type": "code",
   "execution_count": 4,
   "metadata": {},
   "outputs": [
    {
     "data": {
      "text/html": [
       "<div>\n",
       "<style scoped>\n",
       "    .dataframe tbody tr th:only-of-type {\n",
       "        vertical-align: middle;\n",
       "    }\n",
       "\n",
       "    .dataframe tbody tr th {\n",
       "        vertical-align: top;\n",
       "    }\n",
       "\n",
       "    .dataframe thead th {\n",
       "        text-align: right;\n",
       "    }\n",
       "</style>\n",
       "<table border=\"1\" class=\"dataframe\">\n",
       "  <thead>\n",
       "    <tr style=\"text-align: right;\">\n",
       "      <th></th>\n",
       "      <th>capacity</th>\n",
       "    </tr>\n",
       "    <tr>\n",
       "      <th>city</th>\n",
       "      <th></th>\n",
       "    </tr>\n",
       "  </thead>\n",
       "  <tbody>\n",
       "    <tr>\n",
       "      <th>seattle</th>\n",
       "      <td>350</td>\n",
       "    </tr>\n",
       "    <tr>\n",
       "      <th>san-diego</th>\n",
       "      <td>600</td>\n",
       "    </tr>\n",
       "  </tbody>\n",
       "</table>\n",
       "</div>"
      ],
      "text/plain": [
       "           capacity\n",
       "city               \n",
       "seattle         350\n",
       "san-diego       600"
      ]
     },
     "execution_count": 4,
     "metadata": {},
     "output_type": "execute_result"
    }
   ],
   "source": [
    "capacities = pd.DataFrame([[\"seattle\", 350], [\"san-diego\", 600]], columns=['city', 'capacity'])\n",
    "\n",
    "capacities.set_index('city')"
   ]
  },
  {
   "cell_type": "code",
   "execution_count": 5,
   "metadata": {},
   "outputs": [
    {
     "data": {
      "text/html": [
       "<div>\n",
       "<style scoped>\n",
       "    .dataframe tbody tr th:only-of-type {\n",
       "        vertical-align: middle;\n",
       "    }\n",
       "\n",
       "    .dataframe tbody tr th {\n",
       "        vertical-align: top;\n",
       "    }\n",
       "\n",
       "    .dataframe thead th {\n",
       "        text-align: right;\n",
       "    }\n",
       "</style>\n",
       "<table border=\"1\" class=\"dataframe\">\n",
       "  <thead>\n",
       "    <tr style=\"text-align: right;\">\n",
       "      <th></th>\n",
       "      <th>demand</th>\n",
       "    </tr>\n",
       "    <tr>\n",
       "      <th>city</th>\n",
       "      <th></th>\n",
       "    </tr>\n",
       "  </thead>\n",
       "  <tbody>\n",
       "    <tr>\n",
       "      <th>new-york</th>\n",
       "      <td>325</td>\n",
       "    </tr>\n",
       "    <tr>\n",
       "      <th>chicago</th>\n",
       "      <td>300</td>\n",
       "    </tr>\n",
       "    <tr>\n",
       "      <th>topeka</th>\n",
       "      <td>275</td>\n",
       "    </tr>\n",
       "  </tbody>\n",
       "</table>\n",
       "</div>"
      ],
      "text/plain": [
       "          demand\n",
       "city            \n",
       "new-york     325\n",
       "chicago      300\n",
       "topeka       275"
      ]
     },
     "execution_count": 5,
     "metadata": {},
     "output_type": "execute_result"
    }
   ],
   "source": [
    "demands = pd.DataFrame([[\"new-york\", 325], [\"chicago\", 300], [\"topeka\", 275]], columns=['city', 'demand'])\n",
    "\n",
    "demands.set_index('city')"
   ]
  },
  {
   "cell_type": "markdown",
   "metadata": {},
   "source": [
    "## Create a Container"
   ]
  },
  {
   "cell_type": "code",
   "execution_count": 6,
   "metadata": {},
   "outputs": [],
   "source": [
    "m = Container()"
   ]
  },
  {
   "cell_type": "markdown",
   "metadata": {},
   "source": [
    "## Define Sets"
   ]
  },
  {
   "cell_type": "code",
   "execution_count": 7,
   "metadata": {},
   "outputs": [],
   "source": [
    "i = m.addSet(name=\"i\", records=capacities.city)\n",
    "j = m.addSet(name=\"j\", records=demands.city)"
   ]
  },
  {
   "cell_type": "markdown",
   "metadata": {},
   "source": [
    "## Parameter"
   ]
  },
  {
   "cell_type": "code",
   "execution_count": 8,
   "metadata": {},
   "outputs": [],
   "source": [
    "a = m.addParameter(name=\"a\", domain=[i], records=capacities)\n",
    "b = m.addParameter(name=\"b\", domain=[j], records=demands)\n",
    "d = m.addParameter(name=\"d\", domain=[i, j], records=distances)\n",
    "c = m.addParameter(name=\"c\", domain=[i, j])\n",
    "c[i, j] = 90 * d[i, j] / 1000"
   ]
  },
  {
   "cell_type": "markdown",
   "metadata": {},
   "source": [
    "## Variables"
   ]
  },
  {
   "cell_type": "code",
   "execution_count": 9,
   "metadata": {},
   "outputs": [],
   "source": [
    "x = m.addVariable(name=\"x\", domain=[i, j], type=\"Positive\")"
   ]
  },
  {
   "cell_type": "markdown",
   "metadata": {},
   "source": [
    "## Equations\n",
    "### Supply"
   ]
  },
  {
   "cell_type": "code",
   "execution_count": 10,
   "metadata": {},
   "outputs": [],
   "source": [
    "supply = m.addEquation(name=\"supply\", domain=[i])\n",
    "\n",
    "supply[i] = Sum(j, x[i, j]) <= a[i]"
   ]
  },
  {
   "cell_type": "markdown",
   "metadata": {},
   "source": [
    "### Demand"
   ]
  },
  {
   "cell_type": "code",
   "execution_count": 11,
   "metadata": {},
   "outputs": [],
   "source": [
    "demand = m.addEquation(name=\"demand\", domain=[j])\n",
    "\n",
    "demand[j] = Sum(i, x[i, j]) >= b[j]"
   ]
  },
  {
   "cell_type": "markdown",
   "metadata": {},
   "source": [
    "## Objective"
   ]
  },
  {
   "cell_type": "code",
   "execution_count": 12,
   "metadata": {},
   "outputs": [],
   "source": [
    "obj = Sum((i, j), c[i, j] * x[i, j])"
   ]
  },
  {
   "cell_type": "markdown",
   "metadata": {},
   "source": [
    "## Model"
   ]
  },
  {
   "cell_type": "code",
   "execution_count": 13,
   "metadata": {},
   "outputs": [],
   "source": [
    "transport = m.addModel(\n",
    "        name=\"transport\",\n",
    "        equations=m.getEquations(),\n",
    "        problem=\"LP\",\n",
    "        sense=Sense.MIN,\n",
    "        objective=obj,\n",
    "    )"
   ]
  },
  {
   "cell_type": "markdown",
   "metadata": {},
   "source": [
    "## Solve"
   ]
  },
  {
   "cell_type": "code",
   "execution_count": 14,
   "metadata": {},
   "outputs": [
    {
     "name": "stdout",
     "output_type": "stream",
     "text": [
      "--- Job _gams_py_gjo4.gms Start 10/10/23 13:04:04 45.0.0 6d29854d WEX-WEI x86 64bit/MS Windows\n",
      "--- Applying:\n",
      "    C:\\Users\\jbroi\\anaconda3\\envs\\test\\Lib\\site-packages\\gamspy_base\\gmsprmNT.txt\n",
      "    C:\\Users\\jbroi\\Documents\\GAMS\\gamsconfig.yaml\n",
      "--- GAMS Parameters defined\n",
      "    LP CPLEX\n",
      "    MIP CPLEX\n",
      "    RMIP CPLEX\n",
      "    NLP CONOPT\n",
      "    MCP PATH\n",
      "    MPEC NLPEC\n",
      "    RMPEC CONVERT\n",
      "    CNS CONOPT\n",
      "    DNLP CONOPT\n",
      "    RMINLP CONOPT\n",
      "    MINLP SBB\n",
      "    QCP CONOPT\n",
      "    MIQCP SBB\n",
      "    RMIQCP CONOPT\n",
      "    EMP CONVERT\n",
      "    Restart C:\\Users\\jbroi\\AppData\\Local\\Temp\\tmpmgkjze5t\\default_restart.g00\n",
      "    Input C:\\Users\\jbroi\\AppData\\Local\\Temp\\tmpmgkjze5t\\_gams_py_gjo4.gms\n",
      "    Output C:\\Users\\jbroi\\AppData\\Local\\Temp\\tmpmgkjze5t\\_gams_py_gjo4.lst\n",
      "    Save C:\\Users\\jbroi\\AppData\\Local\\Temp\\tmpmgkjze5t\\default_save.g00\n",
      "    ScrDir C:\\Users\\jbroi\\AppData\\Local\\Temp\\tmpmgkjze5t\\225a\\\n",
      "    SysDir C:\\Users\\jbroi\\anaconda3\\envs\\test\\Lib\\site-packages\\gamspy_base\\\n",
      "    CurDir C:\\Users\\jbroi\\AppData\\Local\\Temp\\tmpmgkjze5t\\\n",
      "    LogOption 3\n",
      "    LogFile C:\\Users\\jbroi\\AppData\\Local\\Temp\\tmpmgkjze5t\\_gams_py_gjo4.log\n",
      "    GDX C:\\Users\\jbroi\\AppData\\Local\\Temp\\tmpmgkjze5t\\default.gdx\n",
      "*** ************* ALPHA release\n",
      "*** GAMS Base Module 45.0.0 6d29854d Sep 26, 2023  (ALPHA) WEI x86 64bit/MS Window\n",
      "*** ************* ALPHA release\n",
      "Licensee: GAMS Demo, for EULA and demo limitations see   G230706/0001CB-GEN\n",
      "          https://www.gams.com/latest/docs/UG%5FLicense.html         DC0000\n",
      "          C:\\Users\\jbroi\\Documents\\GAMS\\gamslice.txt\n",
      "          Demo license for demonstration and instructional purposes only\n",
      "Processor information: 1 socket(s), 12 core(s), and 16 thread(s) available\n",
      "GAMS 45.0.0   Copyright (C) 1987-2023 GAMS Development. All rights reserved\n",
      "--- Starting continued compilation\n",
      "--- Workfile was generated under GAMS version WEX450-450\n",
      "--- _gams_py_gjo4.gms(52) 3 Mb\n",
      "--- Starting execution: elapsed 0:00:00.013\n",
      "--- Generating LP model transport\n",
      "--- _gams_py_gjo4.gms(68) 4 Mb\n",
      "---   6 rows  7 columns  19 non-zeroes\n",
      "--- Range statistics (absolute non-zero finite values)\n",
      "--- RHS       [min, max] : [ 2.750E+02, 6.000E+02] - Zero values observed as well\n",
      "--- Bound     [min, max] : [        NA,        NA] - Zero values observed as well\n",
      "--- Matrix    [min, max] : [ 1.260E-01, 1.000E+00]\n",
      "--- Executing CPLEX (Solvelink=2): elapsed 0:00:00.013\n",
      "\n",
      "IBM ILOG CPLEX   45.0.0 6d29854d Sep 26, 2023  (ALPHA) WEI x86 64bit/MS Window\n",
      "\n",
      "*** This solver runs with a demo license. No commercial use.\n",
      "--- GMO setup time: 0.00s\n",
      "--- GMO memory 0.50 Mb (peak 0.50 Mb)\n",
      "--- Dictionary memory 0.00 Mb\n",
      "--- Cplex 22.1.1.0 link memory 0.00 Mb (peak 0.00 Mb)\n",
      "--- Starting Cplex\n",
      "\n",
      "Version identifier: 22.1.1.0 | 2022-11-27 | 9160aff4d\n",
      "CPXPARAM_Advance                                 0\n",
      "CPXPARAM_Simplex_Display                         2\n",
      "CPXPARAM_Threads                                 1\n",
      "CPXPARAM_MIP_Display                             4\n",
      "CPXPARAM_MIP_Pool_Capacity                       0\n",
      "CPXPARAM_MIP_Tolerances_AbsMIPGap                0\n",
      "Tried aggregator 1 time.\n",
      "LP Presolve eliminated 0 rows and 1 columns.\n",
      "Reduced LP has 5 rows, 6 columns, and 12 nonzeros.\n",
      "Presolve time = 0.00 sec. (0.00 ticks)\n",
      "\n",
      "Iteration      Dual Objective            In Variable           Out Variable\n",
      "     1              73.125000    x(seattle,new-york) demand(new-york) slack\n",
      "     2             119.025000     x(seattle,chicago)  demand(chicago) slack\n",
      "     3             153.675000    x(san-diego,topeka)   demand(topeka) slack\n",
      "     4             153.675000  x(san-diego,new-york)  supply(seattle) slack\n",
      "\n",
      "--- LP status (1): optimal.\n",
      "--- Cplex Time: 0.00sec (det. 0.01 ticks)\n",
      "\n",
      "\n",
      "Optimal solution found\n",
      "Objective:          153.675000\n",
      "\n",
      "--- Reading solution for model transport\n",
      "--- Executing after solve: elapsed 0:00:00.032\n",
      "--- _gams_py_gjo4.gms(93) 4 Mb\n",
      "--- GDX File C:\\Users\\jbroi\\AppData\\Local\\Temp\\tmpmgkjze5t\\default.gdx\n",
      "*** Status: Normal completion\n",
      "--- Job _gams_py_gjo4.gms Stop 10/10/23 13:04:04 elapsed 0:00:00.048\n"
     ]
    }
   ],
   "source": [
    "transport.solve(output=sys.stdout)"
   ]
  },
  {
   "cell_type": "markdown",
   "metadata": {},
   "source": [
    "## Results"
   ]
  },
  {
   "cell_type": "code",
   "execution_count": 15,
   "metadata": {},
   "outputs": [
    {
     "data": {
      "text/html": [
       "<div>\n",
       "<style scoped>\n",
       "    .dataframe tbody tr th:only-of-type {\n",
       "        vertical-align: middle;\n",
       "    }\n",
       "\n",
       "    .dataframe tbody tr th {\n",
       "        vertical-align: top;\n",
       "    }\n",
       "\n",
       "    .dataframe thead th {\n",
       "        text-align: right;\n",
       "    }\n",
       "</style>\n",
       "<table border=\"1\" class=\"dataframe\">\n",
       "  <thead>\n",
       "    <tr style=\"text-align: right;\">\n",
       "      <th></th>\n",
       "      <th></th>\n",
       "      <th>level</th>\n",
       "      <th>marginal</th>\n",
       "      <th>lower</th>\n",
       "      <th>upper</th>\n",
       "      <th>scale</th>\n",
       "    </tr>\n",
       "    <tr>\n",
       "      <th>i</th>\n",
       "      <th>j</th>\n",
       "      <th></th>\n",
       "      <th></th>\n",
       "      <th></th>\n",
       "      <th></th>\n",
       "      <th></th>\n",
       "    </tr>\n",
       "  </thead>\n",
       "  <tbody>\n",
       "    <tr>\n",
       "      <th rowspan=\"3\" valign=\"top\">seattle</th>\n",
       "      <th>new-york</th>\n",
       "      <td>50.0</td>\n",
       "      <td>0.000</td>\n",
       "      <td>0.0</td>\n",
       "      <td>inf</td>\n",
       "      <td>1.0</td>\n",
       "    </tr>\n",
       "    <tr>\n",
       "      <th>chicago</th>\n",
       "      <td>300.0</td>\n",
       "      <td>0.000</td>\n",
       "      <td>0.0</td>\n",
       "      <td>inf</td>\n",
       "      <td>1.0</td>\n",
       "    </tr>\n",
       "    <tr>\n",
       "      <th>topeka</th>\n",
       "      <td>0.0</td>\n",
       "      <td>0.036</td>\n",
       "      <td>0.0</td>\n",
       "      <td>inf</td>\n",
       "      <td>1.0</td>\n",
       "    </tr>\n",
       "    <tr>\n",
       "      <th rowspan=\"3\" valign=\"top\">san-diego</th>\n",
       "      <th>new-york</th>\n",
       "      <td>275.0</td>\n",
       "      <td>0.000</td>\n",
       "      <td>0.0</td>\n",
       "      <td>inf</td>\n",
       "      <td>1.0</td>\n",
       "    </tr>\n",
       "    <tr>\n",
       "      <th>chicago</th>\n",
       "      <td>0.0</td>\n",
       "      <td>0.009</td>\n",
       "      <td>0.0</td>\n",
       "      <td>inf</td>\n",
       "      <td>1.0</td>\n",
       "    </tr>\n",
       "    <tr>\n",
       "      <th>topeka</th>\n",
       "      <td>275.0</td>\n",
       "      <td>0.000</td>\n",
       "      <td>0.0</td>\n",
       "      <td>inf</td>\n",
       "      <td>1.0</td>\n",
       "    </tr>\n",
       "  </tbody>\n",
       "</table>\n",
       "</div>"
      ],
      "text/plain": [
       "                    level  marginal  lower  upper  scale\n",
       "i         j                                             \n",
       "seattle   new-york   50.0     0.000    0.0    inf    1.0\n",
       "          chicago   300.0     0.000    0.0    inf    1.0\n",
       "          topeka      0.0     0.036    0.0    inf    1.0\n",
       "san-diego new-york  275.0     0.000    0.0    inf    1.0\n",
       "          chicago     0.0     0.009    0.0    inf    1.0\n",
       "          topeka    275.0     0.000    0.0    inf    1.0"
      ]
     },
     "execution_count": 15,
     "metadata": {},
     "output_type": "execute_result"
    }
   ],
   "source": [
    "x_s = x.records.set_index(['i', 'j'])\n",
    "\n",
    "x_s"
   ]
  },
  {
   "cell_type": "code",
   "execution_count": 16,
   "metadata": {},
   "outputs": [
    {
     "data": {
      "text/plain": [
       "153.675"
      ]
     },
     "execution_count": 16,
     "metadata": {},
     "output_type": "execute_result"
    }
   ],
   "source": [
    "transport.objective_value"
   ]
  },
  {
   "cell_type": "code",
   "execution_count": 17,
   "metadata": {},
   "outputs": [
    {
     "data": {
      "text/plain": [
       "<ModelStatus.OptimalGlobal: 1>"
      ]
     },
     "execution_count": 17,
     "metadata": {},
     "output_type": "execute_result"
    }
   ],
   "source": [
    "transport.status"
   ]
  }
 ],
 "metadata": {
  "kernelspec": {
   "display_name": "gamspy",
   "language": "python",
   "name": "python3"
  },
  "language_info": {
   "codemirror_mode": {
    "name": "ipython",
    "version": 3
   },
   "file_extension": ".py",
   "mimetype": "text/x-python",
   "name": "python",
   "nbconvert_exporter": "python",
   "pygments_lexer": "ipython3",
   "version": "3.11.5"
  },
  "orig_nbformat": 4
 },
 "nbformat": 4,
 "nbformat_minor": 2
}
