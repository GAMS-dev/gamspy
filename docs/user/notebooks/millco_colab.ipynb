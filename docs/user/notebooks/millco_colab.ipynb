{
 "cells": [
  {
   "cell_type": "markdown",
   "metadata": {},
   "source": [
    "# Lumber Transportation Problem \n",
    "J. Reeb and S. Leavengood\n",
    "\n",
    "Millco has three wood mills and is planning three new logging sites. Each mill has a maximum capacity and each logging site can harvest a certain number of truckloads of lumber per day. The cost of a haul is $2/mile of distance. If distances from logging sites to mills are given below, how should the hauls be routed to minimize hauling costs while meeting all demands?\n",
    "\n",
    "| Logging Site | Mill A | Mill B | Mill C | Max loads per day |\n",
    "|:------------:|:------:|:------:|:------:|:-----------------:|\n",
    "| 1            |  8     |  15    |  50    |  20               |\n",
    "| 2            |  10    |  17    |  20    |  30               |\n",
    "| 3            |  30    |  26    |  15    |  45               |\n",
    "| Mill demand  |  30    |  35    |  30    |                   |"
   ]
  },
  {
   "cell_type": "code",
   "execution_count": null,
   "metadata": {},
   "outputs": [],
   "source": [
    "# Install dependencies\n",
    "! pip install -q gamspy"
   ]
  },
  {
   "cell_type": "code",
   "execution_count": null,
   "metadata": {},
   "outputs": [],
   "source": [
    "from gamspy import Container, Set, Alias, Parameter, Variable, Equation, Model, Sum, Sense\n",
    "import numpy as np"
   ]
  },
  {
   "cell_type": "code",
   "execution_count": null,
   "metadata": {},
   "outputs": [],
   "source": [
    "m = Container()\n",
    "\n",
    "# Model sets and parameters\n",
    "sites = Set(container=m, name=\"sites\", records=[\"1\", \"2\", \"3\"])\n",
    "mills = Set(container=m, name=\"mills\", records=[\"Mill A\", \"Mill B\", \"Mill C\"])\n",
    "dist = Parameter(\n",
    "    container=m,\n",
    "    name=\"dist\",\n",
    "    domain=[sites, mills],\n",
    "    records=np.array([[8, 15, 50], [10, 17, 20], [30, 26, 15]]),\n",
    ")\n",
    "supply = Parameter(\n",
    "    container=m, name=\"supply\", domain=sites, records=np.array([20, 30, 45])\n",
    ")\n",
    "demand = Parameter(\n",
    "    container=m, name=\"demand\", domain=mills, records=np.array([30, 35, 30])\n",
    ")\n",
    "cost_per_haul = 4\n",
    "\n",
    "# Model variables\n",
    "Alias(container=m, name=\"s\", alias_with=sites)\n",
    "Alias(container=m, name=\"m\", alias_with=mills)\n",
    "ship = Variable(container=m, name=\"ship\", type=\"positive\", domain=[sites, mills])\n",
    "\n",
    "defcost = cost_per_haul * Sum([sites, mills], ship[sites, mills] * dist[sites, mills])\n",
    "\n",
    "defsupply = Equation(container=m, name=\"defsupply\", domain=sites)\n",
    "defsupply[sites] = Sum(mills, ship[sites, mills]) == supply[sites]\n",
    "\n",
    "defdemand = Equation(container=m, name=\"defdemand\", domain=mills)\n",
    "defdemand[mills] = Sum(sites, ship[sites, mills]) == demand[mills]\n",
    "\n",
    "millco = Model(\n",
    "    container=m,\n",
    "    name=\"millco\",\n",
    "    equations=m.getEquations(),\n",
    "    problem=\"LP\",\n",
    "    sense=Sense.MIN,\n",
    "    objective=defcost,\n",
    ")"
   ]
  },
  {
   "cell_type": "code",
   "execution_count": null,
   "metadata": {},
   "outputs": [],
   "source": [
    "millco.solve()"
   ]
  },
  {
   "cell_type": "code",
   "execution_count": null,
   "metadata": {},
   "outputs": [],
   "source": [
    "ship.records.pivot(index='sites', columns='mills', values='level')"
   ]
  },
  {
   "cell_type": "code",
   "execution_count": null,
   "metadata": {},
   "outputs": [],
   "source": [
    "print(f'Total cost will be {millco.objective_value}')"
   ]
  },
  {
   "cell_type": "code",
   "execution_count": null,
   "metadata": {},
   "outputs": [],
   "source": [
    "m = Container()\n",
    "\n",
    "# Generic Model sets and parameters\n",
    "i = Set(\n",
    "    container=m,\n",
    "    name=\"i\",\n",
    "    records=[\"i\" + str(i) for i in range(6)],\n",
    "    description=\"equation index\",\n",
    ")\n",
    "j = Set(\n",
    "    container=m,\n",
    "    name=\"j\",\n",
    "    records=[\"j\" + str(j) for j in range(9)],\n",
    "    description=\"variable index\",\n",
    ")\n",
    "A = Parameter(\n",
    "    container=m,\n",
    "    name=\"A\",\n",
    "    domain=[i, j],\n",
    "    records=np.array(\n",
    "        [\n",
    "            [1, 1, 1, 0, 0, 0, 0, 0, 0],\n",
    "            [0, 0, 0, 1, 1, 1, 0, 0, 0],\n",
    "            [0, 0, 0, 0, 0, 0, 1, 1, 1],\n",
    "            [1, 0, 0, 1, 0, 0, 1, 0, 0],\n",
    "            [0, 1, 0, 0, 1, 0, 0, 1, 0],\n",
    "            [0, 0, 1, 0, 0, 1, 0, 0, 1],\n",
    "        ]\n",
    "    ),\n",
    ")\n",
    "b = Parameter(\n",
    "    container=m, name=\"b\", domain=i, records=np.array([20, 30, 45, 30, 35, 30])\n",
    ")\n",
    "c = Parameter(\n",
    "    container=m,\n",
    "    name=\"c\",\n",
    "    domain=j,\n",
    "    records=np.array([8, 15, 50, 10, 17, 20, 30, 26, 15]),\n",
    ")\n",
    "x = Variable(container=m, name=\"x\", type=\"positive\", domain=j)\n",
    "\n",
    "obj = 4 * Sum(j, c[j] * x[j])\n",
    "\n",
    "e = Equation(container=m, name=\"e\", domain=i)\n",
    "e[i] = Sum(j, A[i, j] * x[j]) == b[i]\n",
    "\n",
    "generic_model = Model(\n",
    "    container=m,\n",
    "    name=\"generic_model\",\n",
    "    equations=m.getEquations(),\n",
    "    problem=\"LP\",\n",
    "    sense=Sense.MIN,\n",
    "    objective=obj,\n",
    ")"
   ]
  },
  {
   "cell_type": "code",
   "execution_count": null,
   "metadata": {},
   "outputs": [],
   "source": [
    "generic_model.solve()"
   ]
  },
  {
   "cell_type": "code",
   "execution_count": null,
   "metadata": {},
   "outputs": [],
   "source": [
    "x.records"
   ]
  },
  {
   "cell_type": "code",
   "execution_count": null,
   "metadata": {},
   "outputs": [],
   "source": [
    "print(f'Total cost will be {generic_model.objective_value}')"
   ]
  }
 ],
 "metadata": {
  "kernelspec": {
   "display_name": "Python 3 (ipykernel)",
   "language": "python",
   "name": "python3"
  },
  "language_info": {
   "codemirror_mode": {
    "name": "ipython",
    "version": 3
   },
   "file_extension": ".py",
   "mimetype": "text/x-python",
   "name": "python",
   "nbconvert_exporter": "python",
   "pygments_lexer": "ipython3",
   "version": "3.8.10"
  }
 },
 "nbformat": 4,
 "nbformat_minor": 4
}
