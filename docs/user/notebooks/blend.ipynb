{
 "cells": [
  {
   "cell_type": "markdown",
   "metadata": {},
   "source": [
    "# Blend"
   ]
  },
  {
   "cell_type": "code",
   "execution_count": 1,
   "metadata": {},
   "outputs": [],
   "source": [
    "# Install dependencies\n",
    "! pip install -q gamspy"
   ]
  },
  {
   "cell_type": "code",
   "execution_count": 2,
   "metadata": {},
   "outputs": [
    {
     "ename": "ModuleNotFoundError",
     "evalue": "No module named 'gamspy_base'",
     "output_type": "error",
     "traceback": [
      "\u001b[1;31m---------------------------------------------------------------------------\u001b[0m",
      "\u001b[1;31mModuleNotFoundError\u001b[0m                       Traceback (most recent call last)",
      "\u001b[1;32mc:\\Users\\jbroi\\Documents\\Repositories\\gamspy\\docs\\user\\examples\\blend.ipynb Cell 3\u001b[0m line \u001b[0;36m1\n\u001b[1;32m----> <a href='vscode-notebook-cell:/c%3A/Users/jbroi/Documents/Repositories/gamspy/docs/user/examples/blend.ipynb#W2sZmlsZQ%3D%3D?line=0'>1</a>\u001b[0m \u001b[39mfrom\u001b[39;00m \u001b[39mgamspy\u001b[39;00m \u001b[39mimport\u001b[39;00m Set, Parameter, Variable, Equation, Model, Container\n\u001b[0;32m      <a href='vscode-notebook-cell:/c%3A/Users/jbroi/Documents/Repositories/gamspy/docs/user/examples/blend.ipynb#W2sZmlsZQ%3D%3D?line=1'>2</a>\u001b[0m \u001b[39mfrom\u001b[39;00m \u001b[39mgamspy\u001b[39;00m \u001b[39mimport\u001b[39;00m Sum, Sense\n\u001b[0;32m      <a href='vscode-notebook-cell:/c%3A/Users/jbroi/Documents/Repositories/gamspy/docs/user/examples/blend.ipynb#W2sZmlsZQ%3D%3D?line=2'>3</a>\u001b[0m \u001b[39mimport\u001b[39;00m \u001b[39mnumpy\u001b[39;00m \u001b[39mas\u001b[39;00m \u001b[39mnp\u001b[39;00m\n",
      "File \u001b[1;32mc:\\Users\\jbroi\\anaconda3\\envs\\test\\Lib\\site-packages\\gamspy\\__init__.py:26\u001b[0m\n\u001b[0;32m      1\u001b[0m \u001b[39m#\u001b[39;00m\n\u001b[0;32m      2\u001b[0m \u001b[39m# GAMS - General Algebraic Modeling System Python API\u001b[39;00m\n\u001b[0;32m      3\u001b[0m \u001b[39m#\u001b[39;00m\n\u001b[1;32m   (...)\u001b[0m\n\u001b[0;32m     24\u001b[0m \u001b[39m#\u001b[39;00m\n\u001b[0;32m     25\u001b[0m \u001b[39m# flake8: noqa\u001b[39;00m\n\u001b[1;32m---> 26\u001b[0m \u001b[39mfrom\u001b[39;00m \u001b[39mgamspy\u001b[39;00m\u001b[39m.\u001b[39;00m\u001b[39m_algebra\u001b[39;00m \u001b[39mimport\u001b[39;00m Card\n\u001b[0;32m     27\u001b[0m \u001b[39mfrom\u001b[39;00m \u001b[39mgamspy\u001b[39;00m\u001b[39m.\u001b[39;00m\u001b[39m_algebra\u001b[39;00m \u001b[39mimport\u001b[39;00m Domain\n\u001b[0;32m     28\u001b[0m \u001b[39mfrom\u001b[39;00m \u001b[39mgamspy\u001b[39;00m\u001b[39m.\u001b[39;00m\u001b[39m_algebra\u001b[39;00m \u001b[39mimport\u001b[39;00m Number\n",
      "File \u001b[1;32mc:\\Users\\jbroi\\anaconda3\\envs\\test\\Lib\\site-packages\\gamspy\\_algebra\\__init__.py:26\u001b[0m\n\u001b[0;32m      1\u001b[0m \u001b[39m#\u001b[39;00m\n\u001b[0;32m      2\u001b[0m \u001b[39m# GAMS - General Algebraic Modeling System Python API\u001b[39;00m\n\u001b[0;32m      3\u001b[0m \u001b[39m#\u001b[39;00m\n\u001b[1;32m   (...)\u001b[0m\n\u001b[0;32m     24\u001b[0m \u001b[39m#\u001b[39;00m\n\u001b[0;32m     25\u001b[0m \u001b[39m# flake8: noqa\u001b[39;00m\n\u001b[1;32m---> 26\u001b[0m \u001b[39mfrom\u001b[39;00m \u001b[39mgamspy\u001b[39;00m\u001b[39m.\u001b[39;00m\u001b[39m_algebra\u001b[39;00m\u001b[39m.\u001b[39;00m\u001b[39mdomain\u001b[39;00m \u001b[39mimport\u001b[39;00m Domain\n\u001b[0;32m     27\u001b[0m \u001b[39mfrom\u001b[39;00m \u001b[39mgamspy\u001b[39;00m\u001b[39m.\u001b[39;00m\u001b[39m_algebra\u001b[39;00m\u001b[39m.\u001b[39;00m\u001b[39mnumber\u001b[39;00m \u001b[39mimport\u001b[39;00m Number\n\u001b[0;32m     28\u001b[0m \u001b[39mfrom\u001b[39;00m \u001b[39mgamspy\u001b[39;00m\u001b[39m.\u001b[39;00m\u001b[39m_algebra\u001b[39;00m\u001b[39m.\u001b[39;00m\u001b[39moperation\u001b[39;00m \u001b[39mimport\u001b[39;00m Card\n",
      "File \u001b[1;32mc:\\Users\\jbroi\\anaconda3\\envs\\test\\Lib\\site-packages\\gamspy\\_algebra\\domain.py:31\u001b[0m\n\u001b[0;32m     28\u001b[0m \u001b[39mfrom\u001b[39;00m \u001b[39mtyping\u001b[39;00m \u001b[39mimport\u001b[39;00m TYPE_CHECKING\n\u001b[0;32m     29\u001b[0m \u001b[39mfrom\u001b[39;00m \u001b[39mtyping\u001b[39;00m \u001b[39mimport\u001b[39;00m Union\n\u001b[1;32m---> 31\u001b[0m \u001b[39mimport\u001b[39;00m \u001b[39mgamspy\u001b[39;00m\u001b[39m.\u001b[39;00m\u001b[39m_algebra\u001b[39;00m\u001b[39m.\u001b[39;00m\u001b[39mcondition\u001b[39;00m \u001b[39mas\u001b[39;00m \u001b[39mcondition\u001b[39;00m\n\u001b[0;32m     32\u001b[0m \u001b[39mimport\u001b[39;00m \u001b[39mgamspy\u001b[39;00m\u001b[39m.\u001b[39;00m\u001b[39mutils\u001b[39;00m \u001b[39mas\u001b[39;00m \u001b[39mutils\u001b[39;00m\n\u001b[0;32m     34\u001b[0m \u001b[39mif\u001b[39;00m TYPE_CHECKING:\n",
      "File \u001b[1;32mc:\\Users\\jbroi\\anaconda3\\envs\\test\\Lib\\site-packages\\gamspy\\_algebra\\condition.py:25\u001b[0m\n\u001b[0;32m      1\u001b[0m \u001b[39m#\u001b[39;00m\n\u001b[0;32m      2\u001b[0m \u001b[39m# GAMS - General Algebraic Modeling System Python API\u001b[39;00m\n\u001b[0;32m      3\u001b[0m \u001b[39m#\u001b[39;00m\n\u001b[1;32m   (...)\u001b[0m\n\u001b[0;32m     23\u001b[0m \u001b[39m# SOFTWARE.\u001b[39;00m\n\u001b[0;32m     24\u001b[0m \u001b[39m#\u001b[39;00m\n\u001b[1;32m---> 25\u001b[0m \u001b[39mimport\u001b[39;00m \u001b[39mgamspy\u001b[39;00m\u001b[39m.\u001b[39;00m\u001b[39m_algebra\u001b[39;00m\u001b[39m.\u001b[39;00m\u001b[39mexpression\u001b[39;00m \u001b[39mas\u001b[39;00m \u001b[39mexpression\u001b[39;00m\n\u001b[0;32m     26\u001b[0m \u001b[39mimport\u001b[39;00m \u001b[39mgamspy\u001b[39;00m\u001b[39m.\u001b[39;00m\u001b[39m_symbols\u001b[39;00m \u001b[39mas\u001b[39;00m \u001b[39msyms\u001b[39;00m\n\u001b[0;32m     27\u001b[0m \u001b[39mimport\u001b[39;00m \u001b[39mgamspy\u001b[39;00m\u001b[39m.\u001b[39;00m\u001b[39m_symbols\u001b[39;00m\u001b[39m.\u001b[39;00m\u001b[39mimplicits\u001b[39;00m \u001b[39mas\u001b[39;00m \u001b[39mimplicits\u001b[39;00m\n",
      "File \u001b[1;32mc:\\Users\\jbroi\\anaconda3\\envs\\test\\Lib\\site-packages\\gamspy\\_algebra\\expression.py:32\u001b[0m\n\u001b[0;32m     30\u001b[0m \u001b[39mimport\u001b[39;00m \u001b[39mgamspy\u001b[39;00m\u001b[39m.\u001b[39;00m\u001b[39m_algebra\u001b[39;00m\u001b[39m.\u001b[39;00m\u001b[39mdomain\u001b[39;00m \u001b[39mas\u001b[39;00m \u001b[39mdomain\u001b[39;00m\n\u001b[0;32m     31\u001b[0m \u001b[39mimport\u001b[39;00m \u001b[39mgamspy\u001b[39;00m\u001b[39m.\u001b[39;00m\u001b[39m_algebra\u001b[39;00m\u001b[39m.\u001b[39;00m\u001b[39moperable\u001b[39;00m \u001b[39mas\u001b[39;00m \u001b[39moperable\u001b[39;00m\n\u001b[1;32m---> 32\u001b[0m \u001b[39mimport\u001b[39;00m \u001b[39mgamspy\u001b[39;00m\u001b[39m.\u001b[39;00m\u001b[39m_symbols\u001b[39;00m \u001b[39mas\u001b[39;00m \u001b[39msyms\u001b[39;00m\n\u001b[0;32m     33\u001b[0m \u001b[39mimport\u001b[39;00m \u001b[39mgamspy\u001b[39;00m\u001b[39m.\u001b[39;00m\u001b[39m_symbols\u001b[39;00m\u001b[39m.\u001b[39;00m\u001b[39mimplicits\u001b[39;00m \u001b[39mas\u001b[39;00m \u001b[39mimplicits\u001b[39;00m\n\u001b[0;32m     34\u001b[0m \u001b[39mimport\u001b[39;00m \u001b[39mgamspy\u001b[39;00m\u001b[39m.\u001b[39;00m\u001b[39mutils\u001b[39;00m \u001b[39mas\u001b[39;00m \u001b[39mutils\u001b[39;00m\n",
      "File \u001b[1;32mc:\\Users\\jbroi\\anaconda3\\envs\\test\\Lib\\site-packages\\gamspy\\_symbols\\__init__.py:26\u001b[0m\n\u001b[0;32m      1\u001b[0m \u001b[39m#\u001b[39;00m\n\u001b[0;32m      2\u001b[0m \u001b[39m# GAMS - General Algebraic Modeling System Python API\u001b[39;00m\n\u001b[0;32m      3\u001b[0m \u001b[39m#\u001b[39;00m\n\u001b[1;32m   (...)\u001b[0m\n\u001b[0;32m     24\u001b[0m \u001b[39m#\u001b[39;00m\n\u001b[0;32m     25\u001b[0m \u001b[39m# flake8: noqa\u001b[39;00m\n\u001b[1;32m---> 26\u001b[0m \u001b[39mfrom\u001b[39;00m \u001b[39mgamspy\u001b[39;00m\u001b[39m.\u001b[39;00m\u001b[39m_symbols\u001b[39;00m\u001b[39m.\u001b[39;00m\u001b[39malias\u001b[39;00m \u001b[39mimport\u001b[39;00m Alias\n\u001b[0;32m     27\u001b[0m \u001b[39mfrom\u001b[39;00m \u001b[39mgamspy\u001b[39;00m\u001b[39m.\u001b[39;00m\u001b[39m_symbols\u001b[39;00m\u001b[39m.\u001b[39;00m\u001b[39mequation\u001b[39;00m \u001b[39mimport\u001b[39;00m Equation\n\u001b[0;32m     28\u001b[0m \u001b[39mfrom\u001b[39;00m \u001b[39mgamspy\u001b[39;00m\u001b[39m.\u001b[39;00m\u001b[39m_symbols\u001b[39;00m\u001b[39m.\u001b[39;00m\u001b[39mequation\u001b[39;00m \u001b[39mimport\u001b[39;00m EquationType\n",
      "File \u001b[1;32mc:\\Users\\jbroi\\anaconda3\\envs\\test\\Lib\\site-packages\\gamspy\\_symbols\\alias.py:34\u001b[0m\n\u001b[0;32m     32\u001b[0m \u001b[39mimport\u001b[39;00m \u001b[39mgamspy\u001b[39;00m\u001b[39m.\u001b[39;00m\u001b[39m_algebra\u001b[39;00m\u001b[39m.\u001b[39;00m\u001b[39mexpression\u001b[39;00m \u001b[39mas\u001b[39;00m \u001b[39mexpression\u001b[39;00m\n\u001b[0;32m     33\u001b[0m \u001b[39mimport\u001b[39;00m \u001b[39mgamspy\u001b[39;00m\u001b[39m.\u001b[39;00m\u001b[39m_algebra\u001b[39;00m\u001b[39m.\u001b[39;00m\u001b[39moperable\u001b[39;00m \u001b[39mas\u001b[39;00m \u001b[39moperable\u001b[39;00m\n\u001b[1;32m---> 34\u001b[0m \u001b[39mimport\u001b[39;00m \u001b[39mgamspy\u001b[39;00m\u001b[39m.\u001b[39;00m\u001b[39m_symbols\u001b[39;00m\u001b[39m.\u001b[39;00m\u001b[39mimplicits\u001b[39;00m \u001b[39mas\u001b[39;00m \u001b[39mimplicits\u001b[39;00m\n\u001b[0;32m     35\u001b[0m \u001b[39mfrom\u001b[39;00m \u001b[39mgamspy\u001b[39;00m\u001b[39m.\u001b[39;00m\u001b[39m_symbols\u001b[39;00m\u001b[39m.\u001b[39;00m\u001b[39msymbol\u001b[39;00m \u001b[39mimport\u001b[39;00m Symbol\n\u001b[0;32m     37\u001b[0m \u001b[39mif\u001b[39;00m TYPE_CHECKING:\n",
      "File \u001b[1;32mc:\\Users\\jbroi\\anaconda3\\envs\\test\\Lib\\site-packages\\gamspy\\_symbols\\implicits\\__init__.py:26\u001b[0m\n\u001b[0;32m      1\u001b[0m \u001b[39m#\u001b[39;00m\n\u001b[0;32m      2\u001b[0m \u001b[39m# GAMS - General Algebraic Modeling System Python API\u001b[39;00m\n\u001b[0;32m      3\u001b[0m \u001b[39m#\u001b[39;00m\n\u001b[1;32m   (...)\u001b[0m\n\u001b[0;32m     24\u001b[0m \u001b[39m#\u001b[39;00m\n\u001b[0;32m     25\u001b[0m \u001b[39m# flake8: noqa\u001b[39;00m\n\u001b[1;32m---> 26\u001b[0m \u001b[39mfrom\u001b[39;00m \u001b[39mgamspy\u001b[39;00m\u001b[39m.\u001b[39;00m\u001b[39m_symbols\u001b[39;00m\u001b[39m.\u001b[39;00m\u001b[39mimplicits\u001b[39;00m\u001b[39m.\u001b[39;00m\u001b[39mimplicit_equation\u001b[39;00m \u001b[39mimport\u001b[39;00m ImplicitEquation\n\u001b[0;32m     27\u001b[0m \u001b[39mfrom\u001b[39;00m \u001b[39mgamspy\u001b[39;00m\u001b[39m.\u001b[39;00m\u001b[39m_symbols\u001b[39;00m\u001b[39m.\u001b[39;00m\u001b[39mimplicits\u001b[39;00m\u001b[39m.\u001b[39;00m\u001b[39mimplicit_parameter\u001b[39;00m \u001b[39mimport\u001b[39;00m ImplicitParameter\n\u001b[0;32m     28\u001b[0m \u001b[39mfrom\u001b[39;00m \u001b[39mgamspy\u001b[39;00m\u001b[39m.\u001b[39;00m\u001b[39m_symbols\u001b[39;00m\u001b[39m.\u001b[39;00m\u001b[39mimplicits\u001b[39;00m\u001b[39m.\u001b[39;00m\u001b[39mimplicit_set\u001b[39;00m \u001b[39mimport\u001b[39;00m ImplicitSet\n",
      "File \u001b[1;32mc:\\Users\\jbroi\\anaconda3\\envs\\test\\Lib\\site-packages\\gamspy\\_symbols\\implicits\\implicit_equation.py:35\u001b[0m\n\u001b[0;32m     33\u001b[0m \u001b[39mimport\u001b[39;00m \u001b[39mgamspy\u001b[39;00m\u001b[39m.\u001b[39;00m\u001b[39m_symbols\u001b[39;00m\u001b[39m.\u001b[39;00m\u001b[39malias\u001b[39;00m \u001b[39mas\u001b[39;00m \u001b[39malias\u001b[39;00m\n\u001b[0;32m     34\u001b[0m \u001b[39mimport\u001b[39;00m \u001b[39mgamspy\u001b[39;00m\u001b[39m.\u001b[39;00m\u001b[39m_symbols\u001b[39;00m\u001b[39m.\u001b[39;00m\u001b[39mimplicits\u001b[39;00m \u001b[39mas\u001b[39;00m \u001b[39mimplicits\u001b[39;00m\n\u001b[1;32m---> 35\u001b[0m \u001b[39mimport\u001b[39;00m \u001b[39mgamspy\u001b[39;00m\u001b[39m.\u001b[39;00m\u001b[39m_symbols\u001b[39;00m\u001b[39m.\u001b[39;00m\u001b[39mset\u001b[39;00m \u001b[39mas\u001b[39;00m \u001b[39mgams_set\u001b[39;00m\n\u001b[0;32m     36\u001b[0m \u001b[39mfrom\u001b[39;00m \u001b[39mgamspy\u001b[39;00m\u001b[39m.\u001b[39;00m\u001b[39m_symbols\u001b[39;00m\u001b[39m.\u001b[39;00m\u001b[39mimplicits\u001b[39;00m\u001b[39m.\u001b[39;00m\u001b[39mimplicit_parameter\u001b[39;00m \u001b[39mimport\u001b[39;00m ImplicitParameter\n\u001b[0;32m     37\u001b[0m \u001b[39mfrom\u001b[39;00m \u001b[39mgamspy\u001b[39;00m\u001b[39m.\u001b[39;00m\u001b[39m_symbols\u001b[39;00m\u001b[39m.\u001b[39;00m\u001b[39mimplicits\u001b[39;00m\u001b[39m.\u001b[39;00m\u001b[39mimplicit_symbol\u001b[39;00m \u001b[39mimport\u001b[39;00m ImplicitSymbol\n",
      "File \u001b[1;32mc:\\Users\\jbroi\\anaconda3\\envs\\test\\Lib\\site-packages\\gamspy\\_symbols\\set.py:41\u001b[0m\n\u001b[0;32m     39\u001b[0m \u001b[39mimport\u001b[39;00m \u001b[39mgamspy\u001b[39;00m\u001b[39m.\u001b[39;00m\u001b[39m_algebra\u001b[39;00m\u001b[39m.\u001b[39;00m\u001b[39moperable\u001b[39;00m \u001b[39mas\u001b[39;00m \u001b[39moperable\u001b[39;00m\n\u001b[0;32m     40\u001b[0m \u001b[39mimport\u001b[39;00m \u001b[39mgamspy\u001b[39;00m\u001b[39m.\u001b[39;00m\u001b[39m_symbols\u001b[39;00m\u001b[39m.\u001b[39;00m\u001b[39mimplicits\u001b[39;00m \u001b[39mas\u001b[39;00m \u001b[39mimplicits\u001b[39;00m\n\u001b[1;32m---> 41\u001b[0m \u001b[39mimport\u001b[39;00m \u001b[39mgamspy\u001b[39;00m\u001b[39m.\u001b[39;00m\u001b[39mutils\u001b[39;00m \u001b[39mas\u001b[39;00m \u001b[39mutils\u001b[39;00m\n\u001b[0;32m     42\u001b[0m \u001b[39mfrom\u001b[39;00m \u001b[39mgamspy\u001b[39;00m\u001b[39m.\u001b[39;00m\u001b[39m_symbols\u001b[39;00m\u001b[39m.\u001b[39;00m\u001b[39msymbol\u001b[39;00m \u001b[39mimport\u001b[39;00m Symbol\n\u001b[0;32m     44\u001b[0m \u001b[39mif\u001b[39;00m TYPE_CHECKING:\n",
      "File \u001b[1;32mc:\\Users\\jbroi\\anaconda3\\envs\\test\\Lib\\site-packages\\gamspy\\utils.py:38\u001b[0m\n\u001b[0;32m     36\u001b[0m \u001b[39mimport\u001b[39;00m \u001b[39mgamspy\u001b[39;00m\n\u001b[0;32m     37\u001b[0m \u001b[39mimport\u001b[39;00m \u001b[39mgamspy\u001b[39;00m\u001b[39m.\u001b[39;00m\u001b[39m_symbols\u001b[39;00m\u001b[39m.\u001b[39;00m\u001b[39mimplicits\u001b[39;00m \u001b[39mas\u001b[39;00m \u001b[39mimplicits\u001b[39;00m\n\u001b[1;32m---> 38\u001b[0m \u001b[39mimport\u001b[39;00m \u001b[39mgamspy_base\u001b[39;00m\n\u001b[0;32m     39\u001b[0m \u001b[39mfrom\u001b[39;00m \u001b[39mgamspy\u001b[39;00m\u001b[39m.\u001b[39;00m\u001b[39mexceptions\u001b[39;00m \u001b[39mimport\u001b[39;00m GdxException\n\u001b[0;32m     41\u001b[0m \u001b[39mif\u001b[39;00m TYPE_CHECKING:\n",
      "\u001b[1;31mModuleNotFoundError\u001b[0m: No module named 'gamspy_base'"
     ]
    }
   ],
   "source": [
    "from gamspy import Set, Parameter, Variable, Equation, Model, Container\n",
    "from gamspy import Sum, Sense\n",
    "import numpy as np"
   ]
  },
  {
   "cell_type": "code",
   "execution_count": null,
   "metadata": {},
   "outputs": [],
   "source": [
    "m = Container()\n",
    "\n",
    "# Set\n",
    "alloy = Set(m, name=\"alloy\", records=[\"a\", \"b\", \"c\", \"d\", \"e\", \"f\", \"g\", \"h\", \"i\"])\n",
    "elem = Set(m, name=\"elem\", records=[\"lead\", \"zinc\", \"tin\"])\n",
    "\n",
    "# Data\n",
    "compdat = Parameter(\n",
    "    m,\n",
    "    name=\"compdat\",\n",
    "    domain=[elem, alloy],\n",
    "    records=np.array(\n",
    "        [\n",
    "            [10, 10, 40, 60, 30, 30, 30, 50, 20],\n",
    "            [10, 30, 50, 30, 30, 40, 20, 40, 30],\n",
    "            [80, 60, 10, 10, 40, 30, 50, 10, 50],\n",
    "        ]\n",
    "    ),\n",
    ")\n",
    "price = Parameter(\n",
    "    m,\n",
    "    name=\"price\",\n",
    "    domain=[alloy],\n",
    "    records=np.array([4.1, 4.3, 5.8, 6.0, 7.6, 7.5, 7.3, 6.9, 7.3]),\n",
    ")\n",
    "rb = Parameter(m, name=\"rb\", domain=[elem], records=np.array([30, 30, 40]))\n",
    "\n",
    "# Variable\n",
    "v = Variable(m, name=\"v\", domain=[alloy], type=\"Positive\")"
   ]
  },
  {
   "cell_type": "code",
   "execution_count": null,
   "metadata": {},
   "outputs": [],
   "source": [
    "pc = Equation(m, name=\"pc\", domain=[elem])\n",
    "mb = Equation(m, name=\"mb\")\n",
    "\n",
    "pc[elem] = Sum(alloy, compdat[elem, alloy] * v[alloy]) == rb[elem]\n",
    "mb.expr = Sum(alloy, v[alloy]) == 1"
   ]
  },
  {
   "cell_type": "code",
   "execution_count": null,
   "metadata": {},
   "outputs": [],
   "source": [
    "b1 = Model(\n",
    "    m,\n",
    "    name=\"b1\",\n",
    "    equations=[pc],\n",
    "    problem=\"LP\",\n",
    "    sense=Sense.MIN,\n",
    "    objective=Sum(alloy, price[alloy] * v[alloy]),\n",
    ")"
   ]
  },
  {
   "cell_type": "code",
   "execution_count": null,
   "metadata": {},
   "outputs": [],
   "source": [
    "b2 = Model(\n",
    "    m,\n",
    "    name=\"b2\",\n",
    "    equations=[pc, mb],\n",
    "    problem=\"LP\",\n",
    "    sense=Sense.MIN,\n",
    "    objective=Sum(alloy, price[alloy] * v[alloy]),\n",
    ")"
   ]
  },
  {
   "cell_type": "code",
   "execution_count": null,
   "metadata": {},
   "outputs": [],
   "source": [
    "report = Parameter(m, name=\"report\", domain=[alloy, \"*\"])"
   ]
  },
  {
   "cell_type": "code",
   "execution_count": null,
   "metadata": {},
   "outputs": [],
   "source": [
    "b1.solve()\n",
    "report[alloy, \"blend-1\"] = v.l[alloy]"
   ]
  },
  {
   "cell_type": "code",
   "execution_count": null,
   "metadata": {},
   "outputs": [],
   "source": [
    "b2.solve()\n",
    "report[alloy, \"blend-2\"] = v.l[alloy]"
   ]
  },
  {
   "cell_type": "code",
   "execution_count": null,
   "metadata": {},
   "outputs": [],
   "source": [
    "report.pivot()"
   ]
  }
 ],
 "metadata": {
  "kernelspec": {
   "display_name": "test",
   "language": "python",
   "name": "python3"
  },
  "language_info": {
   "codemirror_mode": {
    "name": "ipython",
    "version": 3
   },
   "file_extension": ".py",
   "mimetype": "text/x-python",
   "name": "python",
   "nbconvert_exporter": "python",
   "pygments_lexer": "ipython3",
   "version": "3.11.5"
  },
  "orig_nbformat": 4
 },
 "nbformat": 4,
 "nbformat_minor": 2
}
