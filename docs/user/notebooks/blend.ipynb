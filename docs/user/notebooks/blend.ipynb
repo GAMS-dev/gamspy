{
 "cells": [
  {
   "cell_type": "markdown",
   "metadata": {},
   "source": [
    "# Blending Problem\n",
    "## Importing Modules\n",
    "The `gamspy` Python package is loaded in order to access GAMSPy syntax."
   ]
  },
  {
   "cell_type": "code",
   "execution_count": 1,
   "metadata": {},
   "outputs": [],
   "source": [
    "from gamspy import Container, Set, Parameter, Variable, Equation, Model, Sum, Sense\n",
    "import numpy as np"
   ]
  },
  {
   "cell_type": "markdown",
   "metadata": {},
   "source": [
    "## Data"
   ]
  },
  {
   "cell_type": "code",
   "execution_count": 2,
   "metadata": {},
   "outputs": [],
   "source": [
    "m = Container()\n",
    "\n",
    "# Set\n",
    "alloy = Set(\n",
    "    container=m, name=\"alloy\", records=[\"a\", \"b\", \"c\", \"d\", \"e\", \"f\", \"g\", \"h\", \"i\"]\n",
    ")\n",
    "elem = Set(container=m, name=\"elem\", records=[\"lead\", \"zinc\", \"tin\"])\n",
    "\n",
    "# Data\n",
    "compdat = Parameter(\n",
    "    container=m,\n",
    "    name=\"compdat\",\n",
    "    domain=[elem, alloy],\n",
    "    records=np.array(\n",
    "        [\n",
    "            [10, 10, 40, 60, 30, 30, 30, 50, 20],\n",
    "            [10, 30, 50, 30, 30, 40, 20, 40, 30],\n",
    "            [80, 60, 10, 10, 40, 30, 50, 10, 50],\n",
    "        ]\n",
    "    ),\n",
    ")\n",
    "price = Parameter(\n",
    "    container=m,\n",
    "    name=\"price\",\n",
    "    domain=alloy,\n",
    "    records=np.array([4.1, 4.3, 5.8, 6.0, 7.6, 7.5, 7.3, 6.9, 7.3]),\n",
    ")\n",
    "rb = Parameter(container=m, name=\"rb\", domain=elem, records=np.array([30, 30, 40]))\n",
    "\n",
    "# Variable\n",
    "v = Variable(container=m, name=\"v\", domain=alloy, type=\"Positive\")"
   ]
  },
  {
   "cell_type": "markdown",
   "metadata": {},
   "source": [
    "## Model"
   ]
  },
  {
   "cell_type": "code",
   "execution_count": 3,
   "metadata": {},
   "outputs": [],
   "source": [
    "pc = Equation(container=m, name=\"pc\", domain=elem)\n",
    "mb = Equation(container=m, name=\"mb\")\n",
    "\n",
    "pc[elem] = Sum(alloy, compdat[elem, alloy] * v[alloy]) == rb[elem]\n",
    "mb[...] = Sum(alloy, v[alloy]) == 1"
   ]
  },
  {
   "cell_type": "code",
   "execution_count": 4,
   "metadata": {},
   "outputs": [],
   "source": [
    "b1 = Model(\n",
    "    container=m,\n",
    "    name=\"b1\",\n",
    "    equations=[pc],\n",
    "    problem=\"LP\",\n",
    "    sense=Sense.MIN,\n",
    "    objective=Sum(alloy, price[alloy] * v[alloy]),\n",
    ")"
   ]
  },
  {
   "cell_type": "code",
   "execution_count": 5,
   "metadata": {},
   "outputs": [],
   "source": [
    "b2 = Model(\n",
    "    container=m,\n",
    "    name=\"b2\",\n",
    "    equations=[pc, mb],\n",
    "    problem=\"LP\",\n",
    "    sense=Sense.MIN,\n",
    "    objective=Sum(alloy, price[alloy] * v[alloy]),\n",
    ")"
   ]
  },
  {
   "cell_type": "markdown",
   "metadata": {},
   "source": [
    "## Solve"
   ]
  },
  {
   "cell_type": "code",
   "execution_count": 6,
   "metadata": {},
   "outputs": [],
   "source": [
    "report = Parameter(container=m, name=\"report\", domain=[alloy, \"*\"])"
   ]
  },
  {
   "cell_type": "code",
   "execution_count": 7,
   "metadata": {},
   "outputs": [],
   "source": [
    "b1.solve()\n",
    "report[alloy, \"blend-1\"] = v.l[alloy]"
   ]
  },
  {
   "cell_type": "code",
   "execution_count": 8,
   "metadata": {},
   "outputs": [],
   "source": [
    "b2.solve()\n",
    "report[alloy, \"blend-2\"] = v.l[alloy]"
   ]
  },
  {
   "cell_type": "markdown",
   "metadata": {},
   "source": [
    "## Reporting"
   ]
  },
  {
   "cell_type": "code",
   "execution_count": 9,
   "metadata": {},
   "outputs": [
    {
     "data": {
      "text/html": [
       "<div>\n",
       "<style scoped>\n",
       "    .dataframe tbody tr th:only-of-type {\n",
       "        vertical-align: middle;\n",
       "    }\n",
       "\n",
       "    .dataframe tbody tr th {\n",
       "        vertical-align: top;\n",
       "    }\n",
       "\n",
       "    .dataframe thead th {\n",
       "        text-align: right;\n",
       "    }\n",
       "</style>\n",
       "<table border=\"1\" class=\"dataframe\">\n",
       "  <thead>\n",
       "    <tr style=\"text-align: right;\">\n",
       "      <th></th>\n",
       "      <th>blend-1</th>\n",
       "      <th>blend-2</th>\n",
       "    </tr>\n",
       "  </thead>\n",
       "  <tbody>\n",
       "    <tr>\n",
       "      <th>b</th>\n",
       "      <td>0.6</td>\n",
       "      <td>0.6</td>\n",
       "    </tr>\n",
       "    <tr>\n",
       "      <th>d</th>\n",
       "      <td>0.4</td>\n",
       "      <td>0.4</td>\n",
       "    </tr>\n",
       "  </tbody>\n",
       "</table>\n",
       "</div>"
      ],
      "text/plain": [
       "   blend-1  blend-2\n",
       "b      0.6      0.6\n",
       "d      0.4      0.4"
      ]
     },
     "execution_count": 9,
     "metadata": {},
     "output_type": "execute_result"
    }
   ],
   "source": [
    "report.pivot()"
   ]
  }
 ],
 "metadata": {
  "kernelspec": {
   "display_name": "Python 3 (ipykernel)",
   "language": "python",
   "name": "python3"
  },
  "language_info": {
   "codemirror_mode": {
    "name": "ipython",
    "version": 3
   },
   "file_extension": ".py",
   "mimetype": "text/x-python",
   "name": "python",
   "nbconvert_exporter": "python",
   "pygments_lexer": "ipython3",
   "version": "3.8.19"
  }
 },
 "nbformat": 4,
 "nbformat_minor": 4
}
