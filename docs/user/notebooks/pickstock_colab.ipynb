{
 "cells": [
  {
   "cell_type": "markdown",
   "metadata": {},
   "source": [
    "# Pickstock\n",
    "## Importing Modules\n",
    "The `gamspy` Python package is loaded in order to access GAMSPy syntax."
   ]
  },
  {
   "cell_type": "code",
   "execution_count": null,
   "metadata": {},
   "outputs": [],
   "source": [
    "# Install dependencies\n",
    "! pip install -q gamspy"
   ]
  },
  {
   "cell_type": "code",
   "execution_count": null,
   "metadata": {},
   "outputs": [],
   "source": [
    "from gamspy import Container, Set, Alias, Parameter, Variable, Equation, Model, Sum, Sense, Card, Options"
   ]
  },
  {
   "cell_type": "markdown",
   "metadata": {},
   "source": [
    "## Loading the price data\n",
    "The price data is provided from a CSV file located on the web. The Python package **pandas** is used to load the data. "
   ]
  },
  {
   "cell_type": "code",
   "execution_count": null,
   "metadata": {
    "scrolled": true
   },
   "outputs": [],
   "source": [
    "import pandas as pd\n",
    "\n",
    "url = (\n",
    "    \"https://github.com/daveh19/pydataberlin2017/raw/master/notebooks/dowjones2016.csv\"\n",
    ")\n",
    "price_data = pd.read_csv(url)"
   ]
  },
  {
   "cell_type": "code",
   "execution_count": null,
   "metadata": {},
   "outputs": [],
   "source": [
    "m = Container()\n",
    "date = Set(m, \"date\", description=\"trading date\")\n",
    "symbol = Set(m, \"symbol\", description=\"stock symbol\")\n",
    "price = Parameter(\n",
    "    m,\n",
    "    \"price\",\n",
    "    [date, symbol],\n",
    "    domain_forwarding=True,\n",
    "    records=price_data,\n",
    "    description=\"price of stock on date\",\n",
    ")\n",
    "d = Alias(m, \"d\", date)\n",
    "s = Alias(m, \"s\", symbol)"
   ]
  },
  {
   "cell_type": "code",
   "execution_count": null,
   "metadata": {},
   "outputs": [],
   "source": [
    "price.records.head()"
   ]
  },
  {
   "cell_type": "markdown",
   "metadata": {},
   "source": [
    "The mean price per stock is calculated in GAMS."
   ]
  },
  {
   "cell_type": "code",
   "execution_count": null,
   "metadata": {},
   "outputs": [],
   "source": [
    "avgprice = Parameter(m, \"avgprice\", symbol, description=\"average price of stock\")\n",
    "avgprice[s] = Sum(d, price[d, s]) / Card(d)\n",
    "\n",
    "avgprice.records.head()"
   ]
  },
  {
   "cell_type": "markdown",
   "metadata": {},
   "source": [
    "The averages can be used in order to calculate weights."
   ]
  },
  {
   "cell_type": "code",
   "execution_count": null,
   "metadata": {
    "scrolled": true
   },
   "outputs": [],
   "source": [
    "weight = Parameter(m, \"weight\", symbol, description=\"weight of stock\")\n",
    "weight[symbol] = avgprice[symbol] / Sum(s, avgprice[s])\n",
    "weight.records.head()"
   ]
  },
  {
   "cell_type": "markdown",
   "metadata": {},
   "source": [
    "Compute the contributions using weight and price"
   ]
  },
  {
   "cell_type": "code",
   "execution_count": null,
   "metadata": {},
   "outputs": [],
   "source": [
    "contribution = Parameter(m, \"contribution\", [date, symbol])\n",
    "contribution[d, s] = weight[s] * price[d, s]\n",
    "contribution.records.head()"
   ]
  },
  {
   "cell_type": "markdown",
   "metadata": {},
   "source": [
    "Compute index values"
   ]
  },
  {
   "cell_type": "code",
   "execution_count": null,
   "metadata": {},
   "outputs": [],
   "source": [
    "index = Parameter(m, \"index\", date, description=\"Dow Jones index\")\n",
    "index[d] = Sum(s, contribution[d, s])\n",
    "index.records.head()"
   ]
  },
  {
   "cell_type": "markdown",
   "metadata": {},
   "source": [
    "Create a plot showing the symbol and index values over time"
   ]
  },
  {
   "cell_type": "code",
   "execution_count": null,
   "metadata": {},
   "outputs": [],
   "source": [
    "import matplotlib\n",
    "import matplotlib.pyplot as plt\n",
    "\n",
    "fig, ax = plt.subplots()\n",
    "price.records.groupby(\"symbol\", observed=True).plot(\n",
    "    x=\"date\",\n",
    "    y=\"value\",\n",
    "    ax=ax,\n",
    "    alpha=0.4,\n",
    "    color=\"grey\",\n",
    "    legend=False,\n",
    "    ylim=(0, 300),\n",
    "    xticks=[],\n",
    ")\n",
    "index.records.plot(x=\"date\", y=\"value\", ax=ax, linewidth=2, legend=False)"
   ]
  },
  {
   "cell_type": "code",
   "execution_count": null,
   "metadata": {},
   "outputs": [],
   "source": [
    "sMap = matplotlib.cm.ScalarMappable(\n",
    "    norm=matplotlib.colors.Normalize(0, weight.records[\"value\"].max()), cmap=\"inferno\"\n",
    ")\n",
    "color = [sMap.to_rgba(x) for x in weight.records[\"value\"]]\n",
    "weight.records.plot.bar(x=\"symbol\", y=\"value\", color=color)"
   ]
  },
  {
   "cell_type": "markdown",
   "metadata": {},
   "source": [
    "Define dynamic set `ds` and scalar `maxstock`."
   ]
  },
  {
   "cell_type": "code",
   "execution_count": null,
   "metadata": {},
   "outputs": [],
   "source": [
    "trainingdays = Parameter(m, \"trainingdays\", records=100)\n",
    "maxstock = Parameter(m, \"maxstock\", records=3)\n",
    "ds = Set(m, \"ds\", date, description=\"selected dates\")\n",
    "ds.setRecords(date.records[\"uni\"][:100])"
   ]
  },
  {
   "cell_type": "markdown",
   "metadata": {},
   "source": [
    "Declaration of the variables and equations used to formulate the optimization model"
   ]
  },
  {
   "cell_type": "code",
   "execution_count": null,
   "metadata": {},
   "outputs": [],
   "source": [
    "p = Variable(m, \"p\", \"binary\", symbol, description=\"is stock included?\")\n",
    "w = Variable(m, \"w\", \"positive\", symbol, description=\"what part of the portfolio\")\n",
    "slpos = Variable(m, \"slpos\", \"positive\", date, description=\"positive slack\")\n",
    "slneg = Variable(m, \"slneg\", \"positive\", date, description=\"negative slack\")"
   ]
  },
  {
   "cell_type": "markdown",
   "metadata": {},
   "source": [
    "## Defining the actual model\n",
    "We know come to the decision problem, where we want to pick a small subset of the stocks together with some weights, such that this portfolio has a similar behavior to our overall Dow Jones index.\n",
    "\n",
    "The model is based on a linear regression over the time series, but we minimize the loss using the L1-norm (absolute value), and allow only a fixed number of weights to take nonzero variable.\n",
    "\n",
    "\\begin{align}\n",
    "\\text{minimize} \\qquad & \\text{obj}:= \\sum_{ds} \\text{slpos}_{ds} + \\text{slneg}_{ds} \\\\\n",
    "\\text{subject to}  \\qquad & \\sum_{s}  \\text{price}_{ds, s} \\cdot w_{s} =  \\text{index}_{ds} +  \\text{slpos}_{ds} -  \\text{slneg}_{ds} & (\\forall{ds}) \\\\\n",
    "& w_{s} \\leq p_{s} & (\\forall{s}) \\\\\n",
    "& \\sum_{s}{p_{s}} \\leq \\text{maxstock} \\\\\n",
    "& w_{s}\\geq 0, \\qquad p_{s}\\in \\{0,1\\} & (\\forall s) \\\\\n",
    "&  \\text{slpos}_{d}\\geq 0, \\qquad  \\text{slneg}_{d}\\geq 0 & (\\forall d) \n",
    "\\end{align}\n",
    "\n"
   ]
  },
  {
   "cell_type": "code",
   "execution_count": null,
   "metadata": {},
   "outputs": [],
   "source": [
    "fit = Equation(m, name=\"deffit\", domain=[ds], description=\"fit to Dow Jones indeex\")\n",
    "fit[ds] = Sum(s, price[ds, s] * w[s]) == index[ds] + slpos[ds] - slneg[ds]\n",
    "\n",
    "pick = Equation(\n",
    "    m, name=\"defpick\", domain=[s], description=\"can only use stok if picked\"\n",
    ")\n",
    "pick[s] = w[s] <= p[s]\n",
    "\n",
    "numstock = Equation(m, name=\"defnumstock\", description=\"few stocks allowed\")\n",
    "numstock[...] = Sum(s, p[s]) <= maxstock"
   ]
  },
  {
   "cell_type": "markdown",
   "metadata": {},
   "source": [
    "Objective"
   ]
  },
  {
   "cell_type": "code",
   "execution_count": null,
   "metadata": {},
   "outputs": [],
   "source": [
    "obj = Sum(ds, slpos[ds] + slneg[ds])"
   ]
  },
  {
   "cell_type": "markdown",
   "metadata": {},
   "source": [
    "Model"
   ]
  },
  {
   "cell_type": "code",
   "execution_count": null,
   "metadata": {},
   "outputs": [],
   "source": [
    "pickstock = Model(\n",
    "    container=m,\n",
    "    name=\"pickstock\",\n",
    "    equations=m.getEquations(),\n",
    "    problem=\"MIP\",\n",
    "    sense=Sense.MIN,\n",
    "    objective=obj,\n",
    ")"
   ]
  },
  {
   "cell_type": "markdown",
   "metadata": {},
   "source": [
    "Specify 'maxstock' and 'trainingdays' and solve the model."
   ]
  },
  {
   "cell_type": "code",
   "execution_count": null,
   "metadata": {},
   "outputs": [],
   "source": [
    "ds.setRecords(date.records[\"uni\"][:100])\n",
    "maxstock.setRecords(3)"
   ]
  },
  {
   "cell_type": "markdown",
   "metadata": {},
   "source": [
    "Solve"
   ]
  },
  {
   "cell_type": "code",
   "execution_count": null,
   "metadata": {},
   "outputs": [],
   "source": [
    "pickstock.solve(options=Options(relative_optimality_gap=0.01, time_limit=6))"
   ]
  },
  {
   "cell_type": "markdown",
   "metadata": {},
   "source": [
    "Generate reporting parameters"
   ]
  },
  {
   "cell_type": "code",
   "execution_count": null,
   "metadata": {},
   "outputs": [],
   "source": [
    "fund = Parameter(m, \"fund\", [date], description=\"Index fund report parameter\")\n",
    "fund[d] = Sum(s, price[d, s] * w.l[s])\n",
    "error = Parameter(m, \"error\", [date], description=\"Absolute error\")\n",
    "error[d] = index[d] - fund[d]"
   ]
  },
  {
   "cell_type": "markdown",
   "metadata": {},
   "source": [
    "Plotting of the results"
   ]
  },
  {
   "cell_type": "code",
   "execution_count": null,
   "metadata": {},
   "outputs": [],
   "source": [
    "fig, ax = plt.subplots()\n",
    "trainingDays = int(trainingdays.records.iloc[0].to_list()[0])\n",
    "index.records.plot(\n",
    "    y=\"value\",\n",
    "    ax=ax,\n",
    "    xticks=[0, trainingDays, len(date.records)],\n",
    "    yticks=[],\n",
    "    label=\"Dow Jones\",\n",
    ")\n",
    "fund.records.plot(\n",
    "    y=\"value\",\n",
    "    ax=ax,\n",
    "    xticks=[0, trainingDays, len(date.records)],\n",
    "    yticks=[],\n",
    "    label=\"Index Fund\",\n",
    ")"
   ]
  },
  {
   "cell_type": "code",
   "execution_count": null,
   "metadata": {},
   "outputs": [],
   "source": [
    "maxError = error.records[\"value\"].max()\n",
    "fig, ax = plt.subplots(edgecolor=\"black\")\n",
    "error.records[\"value\"][trainingDays:].plot.hist(\n",
    "    x=\"date\",\n",
    "    y=\"value\",\n",
    "    ax=ax,\n",
    "    bins=20,\n",
    "    range=(0, maxError),\n",
    "    label=\"later\",\n",
    "    color=\"red\",\n",
    "    edgecolor=\"black\",\n",
    ")\n",
    "error.records[\"value\"][:trainingDays].plot.hist(\n",
    "    x=\"date\",\n",
    "    y=\"value\",\n",
    "    ax=ax,\n",
    "    bins=20,\n",
    "    range=(0, maxError),\n",
    "    label=\"training\",\n",
    "    color=\"green\",\n",
    "    alpha=0.8,\n",
    "    edgecolor=\"black\",\n",
    ")"
   ]
  }
 ],
 "metadata": {
  "kernelspec": {
   "display_name": "Python 3 (ipykernel)",
   "language": "python",
   "name": "python3"
  },
  "language_info": {
   "codemirror_mode": {
    "name": "ipython",
    "version": 3
   },
   "file_extension": ".py",
   "mimetype": "text/x-python",
   "name": "python",
   "nbconvert_exporter": "python",
   "pygments_lexer": "ipython3",
   "version": "3.8.10"
  }
 },
 "nbformat": 4,
 "nbformat_minor": 4
}
